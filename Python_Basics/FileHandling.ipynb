{
 "cells": [
  {
   "cell_type": "markdown",
   "metadata": {},
   "source": [
    "# File Handling \n",
    "\n",
    "Two types of files: \n",
    "* text files :- .txt.\n",
    "* binary files:- .pdf, .png, .ppt, videos etc."
   ]
  },
  {
   "cell_type": "markdown",
   "metadata": {},
   "source": [
    "### Points to keep in mind\n",
    "\n",
    "1. to read and write a file using filehandling first we need to open the file\n",
    "\n",
    "syntax : - f = open(\"file_name.ext\", mode)\n",
    "\n",
    "2. if we write or modify anything inside a file then we need to close the file\n",
    "\n",
    "syntax : - f.close()\n",
    "\n",
    "3. data read from the file is always in the string format\n",
    "\n",
    "4. modes of operation - textfile\n",
    "    - Read mode - 'r'\n",
    "    - Write mode - 'w'\n",
    "    - append mode - 'a'\n",
    "    - read and write mode - 'r+'\n",
    "    - write and read mode - 'w+'\n",
    "    - Append and read mode - 'a+'\n",
    "\n",
    "5. modes of operation - binary\n",
    "    - Read mode - 'rb'\n",
    "    - Write mode - 'wb'\n",
    "    - append mode - 'ab'\n",
    "    - read and write mode - 'r+b'\n",
    "    - write and read mode - 'w+b'\n",
    "    - Append and read mode - 'a+b'\n",
    "\n",
    "6. methods on file object\n",
    "\n",
    "   - read() - reading the content from the file\n",
    "   - write() - to make changes in the file\n",
    "   - tell() - tells the cursor position\n",
    "   - seek() - helps to move the cursor position"
   ]
  },
  {
   "cell_type": "markdown",
   "metadata": {},
   "source": [
    "### Modes of operation\n",
    "\n",
    "#### 1. Read mode - 'r'\n",
    "- If the file exists then it will open the file in read mode and places the cursor at the begining of the file\n",
    "- if the file does not exists then it will give FileNotFoundError\n",
    "- You are allowed only to read from the file but not allowed to write into the file\n"
   ]
  },
  {
   "cell_type": "code",
   "execution_count": 27,
   "metadata": {},
   "outputs": [
    {
     "ename": "FileNotFoundError",
     "evalue": "[Errno 2] No such file or directory: 'file/read_mode_2.txt'",
     "output_type": "error",
     "traceback": [
      "\u001b[31m---------------------------------------------------------------------------\u001b[39m",
      "\u001b[31mFileNotFoundError\u001b[39m                         Traceback (most recent call last)",
      "\u001b[36mCell\u001b[39m\u001b[36m \u001b[39m\u001b[32mIn[27]\u001b[39m\u001b[32m, line 1\u001b[39m\n\u001b[32m----> \u001b[39m\u001b[32m1\u001b[39m f= \u001b[38;5;28;43mopen\u001b[39;49m\u001b[43m(\u001b[49m\u001b[33;43m'\u001b[39;49m\u001b[33;43mfile/read_mode_2.txt\u001b[39;49m\u001b[33;43m'\u001b[39;49m\u001b[43m,\u001b[49m\u001b[33;43m'\u001b[39;49m\u001b[33;43mr\u001b[39;49m\u001b[33;43m'\u001b[39;49m\u001b[43m)\u001b[49m\n",
      "\u001b[36mFile \u001b[39m\u001b[32m/opt/miniconda3/lib/python3.13/site-packages/IPython/core/interactiveshell.py:326\u001b[39m, in \u001b[36m_modified_open\u001b[39m\u001b[34m(file, *args, **kwargs)\u001b[39m\n\u001b[32m    319\u001b[39m \u001b[38;5;28;01mif\u001b[39;00m file \u001b[38;5;129;01min\u001b[39;00m {\u001b[32m0\u001b[39m, \u001b[32m1\u001b[39m, \u001b[32m2\u001b[39m}:\n\u001b[32m    320\u001b[39m     \u001b[38;5;28;01mraise\u001b[39;00m \u001b[38;5;167;01mValueError\u001b[39;00m(\n\u001b[32m    321\u001b[39m         \u001b[33mf\u001b[39m\u001b[33m\"\u001b[39m\u001b[33mIPython won\u001b[39m\u001b[33m'\u001b[39m\u001b[33mt let you open fd=\u001b[39m\u001b[38;5;132;01m{\u001b[39;00mfile\u001b[38;5;132;01m}\u001b[39;00m\u001b[33m by default \u001b[39m\u001b[33m\"\u001b[39m\n\u001b[32m    322\u001b[39m         \u001b[33m\"\u001b[39m\u001b[33mas it is likely to crash IPython. If you know what you are doing, \u001b[39m\u001b[33m\"\u001b[39m\n\u001b[32m    323\u001b[39m         \u001b[33m\"\u001b[39m\u001b[33myou can use builtins\u001b[39m\u001b[33m'\u001b[39m\u001b[33m open.\u001b[39m\u001b[33m\"\u001b[39m\n\u001b[32m    324\u001b[39m     )\n\u001b[32m--> \u001b[39m\u001b[32m326\u001b[39m \u001b[38;5;28;01mreturn\u001b[39;00m \u001b[43mio_open\u001b[49m\u001b[43m(\u001b[49m\u001b[43mfile\u001b[49m\u001b[43m,\u001b[49m\u001b[43m \u001b[49m\u001b[43m*\u001b[49m\u001b[43margs\u001b[49m\u001b[43m,\u001b[49m\u001b[43m \u001b[49m\u001b[43m*\u001b[49m\u001b[43m*\u001b[49m\u001b[43mkwargs\u001b[49m\u001b[43m)\u001b[49m\n",
      "\u001b[31mFileNotFoundError\u001b[39m: [Errno 2] No such file or directory: 'file/read_mode_2.txt'"
     ]
    }
   ],
   "source": [
    "f= open('file/read_mode_2.txt','r')"
   ]
  },
  {
   "cell_type": "code",
   "execution_count": 3,
   "metadata": {},
   "outputs": [
    {
     "name": "stdout",
     "output_type": "stream",
     "text": [
      "0\n",
      "Hello World! How are you?\n",
      "25\n"
     ]
    }
   ],
   "source": [
    "file= open('file/read_mode.txt','r')\n",
    "print(file.tell()) # its in beginning of the file. \n",
    "print(file.read()) # We are reading the file. \n",
    "print(file.tell()) # After reading the file, it at last position. \n",
    "\n",
    "# Thus read functions works purely on cursor positions."
   ]
  },
  {
   "cell_type": "code",
   "execution_count": null,
   "metadata": {},
   "outputs": [
    {
     "name": "stdout",
     "output_type": "stream",
     "text": [
      "0\n",
      "3\n",
      "3\n",
      "lo World! How are you?\n",
      "25\n"
     ]
    }
   ],
   "source": [
    "file= open('file/read_mode.txt','r')\n",
    "print(file.tell()) # When we read, its at 0 position, right? \n",
    "print(file.seek(3)) # We are moving cursor to the position 3\n",
    "print(file.tell()) # Thats is what is reflecting here. \n",
    "print(file.read()) # Thus it is file from the position of the cursor. \n",
    "print(file.tell()) # After reading the file, it at last position.\n",
    "\n",
    "# Finally, if we run file.write it will not work i.e error. "
   ]
  },
  {
   "cell_type": "markdown",
   "metadata": {},
   "source": [
    "#### 2. Write mode - 'w'\n",
    "- If the file exists then it will open the file in write mode and deletes the content of the file\n",
    "- if the file does not exists then it will create a file with given name and extension\n",
    "- You are allowed only to write into the file but not allowed to read from the file"
   ]
  },
  {
   "cell_type": "code",
   "execution_count": null,
   "metadata": {},
   "outputs": [
    {
     "name": "stdout",
     "output_type": "stream",
     "text": [
      "0\n"
     ]
    }
   ],
   "source": [
    "# Case when file does not exist.\n",
    "\n",
    "file= open('file/read_mode_1.txt','w') \n",
    "print(file.tell()) # As there is no content, hence cursor is at zero position. \n",
    "# As we see new file its created, as it does not exist. "
   ]
  },
  {
   "cell_type": "code",
   "execution_count": null,
   "metadata": {},
   "outputs": [
    {
     "name": "stdout",
     "output_type": "stream",
     "text": [
      "0\n",
      "5\n"
     ]
    }
   ],
   "source": [
    "# Case when file exists\n",
    "file= open('file/read_mode_1.txt','w')\n",
    "print(file.tell()) # We will get zero, as it overwrites the file, and starts from beginning.\n",
    "# Thus we can write to the file, but it will overwrite the content.\n",
    "file.write('Hello')\n",
    "# file.read() # this will throw error as we are in write mode. \n",
    "print(file.tell()) # Giving position where cursor is at, after writing. \n",
    "file.write('! How are you') # it will start writing from where cursor is. As we havent closed it, it will continue writing. \n",
    "# We close it and run write, then it will overwrite. \n",
    "# To save, we need to run f.close()\n",
    "file.close()  # Or you could execute file.tell(), it will automatically save it. "
   ]
  },
  {
   "cell_type": "code",
   "execution_count": null,
   "metadata": {},
   "outputs": [
    {
     "name": "stdout",
     "output_type": "stream",
     "text": [
      "0\n",
      "0\n",
      "helmessirld\n"
     ]
    }
   ],
   "source": [
    "f = open(\"file/write_mode.txt\", \"w\") # Not an existing file, first it will create a txt file. \n",
    "print(f.tell()) # It will give cursor position i.e 0\n",
    "f.write(\"hello world\") # Then it will write hello world. \n",
    "f.seek(3) # Moves cursor to 3 position \n",
    "f.write(\"messi\") # Write from where cursor has stopped. Overwriting, from 3 position to till end of the content. \n",
    "f.close() # Closes the file to save it. \n",
    "f= open('file/write_mode.txt','r')\n",
    "print(f.tell())# will give 0 as, in read mode cursor is always in the beginning. \n",
    "print(f.read()) # reads till end of the content in the file. "
   ]
  },
  {
   "cell_type": "markdown",
   "metadata": {},
   "source": [
    "#### 3. Append mode -'a'\n",
    "- If the file exists then it will open the file in write mode and places the cursor at the end of the file\n",
    "- if the file does not exists then it will create a file with given name and extension\n",
    "- You are allowed only to write into the file but not allowed to read from the file\n",
    "- append will always write the the content at the end of the file"
   ]
  },
  {
   "cell_type": "code",
   "execution_count": 25,
   "metadata": {},
   "outputs": [
    {
     "name": "stdout",
     "output_type": "stream",
     "text": [
      "0\n"
     ]
    }
   ],
   "source": [
    "# Case file does not exist\n",
    "f = open(\"file/append_mode.txt\" , \"a\") # It will create a file, if it does not exist.\n",
    "print(f.tell()) # It will give 0, as it is in beginning of the file.\n",
    "f.write(\"hello world\") # It will write hello world in the file.\n",
    "f.close()"
   ]
  },
  {
   "cell_type": "code",
   "execution_count": 26,
   "metadata": {},
   "outputs": [
    {
     "name": "stdout",
     "output_type": "stream",
     "text": [
      "11\n",
      "3\n",
      "hello worldmessi\n"
     ]
    }
   ],
   "source": [
    "# Case file exists\n",
    "\n",
    "f = open(\"file/append_mode.txt\" , \"a\") # It will open the file in append mode.\n",
    "print(f.tell()) # Cursor will be at the end of the file always.\n",
    "# f.read() # It wil l not read anything, as it is in append mode.\n",
    "f.seek(3) # Wont work, as it is in append mode. It always writes at the end of the file.\n",
    "print(f.tell()) #It will give postion 3. \n",
    "f.write(\"messi\") # It will write messi at the end of the file.\n",
    "# So ideally, it is working as but as soon as we write, it will write at the end of the file. We can confirm seek does not work in append mode\n",
    "f.close() # It will close the file to save it.\n",
    "f = open('file/append_mode.txt','r') # It will open the file in read mode.\n",
    "print(f.read()) # It will give 0, as it is in read mode."
   ]
  },
  {
   "cell_type": "markdown",
   "metadata": {},
   "source": [
    "#### 4. Write and read mode - 'w+'\n",
    "- If the file exists then it will open the file in write mode and deletes the content of the file (write)\n",
    "- if the file does not exists then it will create a file with given name and extension (write)\n",
    "- You are allowed to write into the file (write) and also allowed to read from the file (read)\n",
    "\n",
    "Note: write is first, so it will have all the features of write mode but some features of read mode. Thus, write mode is more dominant. "
   ]
  },
  {
   "cell_type": "code",
   "execution_count": null,
   "metadata": {},
   "outputs": [
    {
     "name": "stdout",
     "output_type": "stream",
     "text": [
      "0\n",
      "\n",
      "will win Today!\n",
      "will win Today!\n",
      "3\n"
     ]
    }
   ],
   "source": [
    "f = open(\"file/write_read_mode.txt\", \"w+\") # Existing file, it will overwrite the content.\n",
    "print(f.tell()) # It will give 0, as it is in write mode.\n",
    "print(f.read()) # There is nothing to read i.e empty, but will not throw error.\n",
    "f.write(\"MI will win Today!\") # Will write the content in the file.\n",
    "f.seek(3) # Moves cursor to 3 position.\n",
    "print(f.read()) # Reads from the 3rd position to the end of the file.\n",
    "f.seek(0) # Moves cursor to the beginning of the file.\n",
    "f.write(\"lsg\") # Will overwrite the content from the beginning of the file.\n",
    "print(f.read()) # Will read the content from the cursor position, which is now at the end of the file. Thus it will not give any output\n",
    "f.seek(1) # Moves cursor to the 1st position.\n",
    "f.write(\"ok\") # Will overwrite the content from the 1st position.\n",
    "print(f.tell()) # will give the position of the cursor.\n",
    "f.close()# Saves the file and closes it."
   ]
  },
  {
   "cell_type": "markdown",
   "metadata": {},
   "source": [
    "#### 5. read and write - 'r+'\n",
    "- If the file exists then it will open the file in read mode and places the cursor at the begining of the file (read)\n",
    "- if the file does not exists then it will give FileNotFoundError (read)\n",
    "- You are allowed to write into the file (read) and also allowed to read from the file (write)\n",
    "\n",
    "Note: read is first, so it will have all the features of read mode but some features of write mode. Thus, read mode is more dominant. "
   ]
  },
  {
   "cell_type": "code",
   "execution_count": 30,
   "metadata": {},
   "outputs": [
    {
     "name": "stdout",
     "output_type": "stream",
     "text": [
      "0\n",
      "27\n",
      "\n",
      "\n",
      "9\n"
     ]
    }
   ],
   "source": [
    "f = open(\"file/read_write_mode.txt\" , \"r+\") # WilExisting file, it will place the cursor at the beginning of the file.\n",
    "print(f.tell()) # It will give 0.\n",
    "f.write(\"kkr was the defending champ\") # It will overwrite the content from the position of the cursor in the file.\n",
    "print(f.tell()) # Will give the position of the cursor after writing.\n",
    "print(f.read()) # As we have written, it will read from the position of the cursor to the end of the file. Nothing to read. \n",
    "f.write(\"hello\") # It will overwrite the content from the position of the cursor.\n",
    "print(f.read()) # Will read from the position of the cursor to the end of the file. Nothing to read.\n",
    "f.seek(5) # Moves cursor to the 5th position.\n",
    "f.write(\"bye!\") # Will overwrite the content from the 5th position.\n",
    "print(f.tell()) # Will give the position of the cursor after writing.\n",
    "f.close() # Saves the file and closes it.\n"
   ]
  },
  {
   "cell_type": "markdown",
   "metadata": {},
   "source": [
    "#### 6. Append and read mode - 'a+'\n",
    "\n",
    "- If the file exists then it will open the file in append mode and places the cursor at the end of the file (append)\n",
    "- if the file does not exists then it will create a file with given name and extension (append)\n",
    "- You are allowed to write into the file (append) and also allowed to read from the file(read)\n",
    "- append will always write the the content at the end of the file so seek() will not here (append)\n",
    "\n",
    "Note: append is first, so it will have all the features of append mode but some features of read mode. Thus, append mode is more dominant."
   ]
  },
  {
   "cell_type": "code",
   "execution_count": 31,
   "metadata": {},
   "outputs": [
    {
     "name": "stdout",
     "output_type": "stream",
     "text": [
      "llo world!\n",
      "\n",
      "18\n",
      "hello world!bubye!\n"
     ]
    }
   ],
   "source": [
    "f = open(\"file/append_read_mode.txt\", \"a+\")  # It will write hello world! in the file. New file will be created if it does not exist.\n",
    "f.write(\"hello world!\") # It will write hello world! in the file.\n",
    "f.seek(2) # Moves cursor to the 2nd position.\n",
    "print(f.read()) # Reads from the 2nd position to the end of the file.\n",
    "f.seek(3) # Moves cursor to the 3rd position.\n",
    "f.write(\"bubye!\") # It will write at the end of the file, as it is in append mode.\n",
    "print(f.read()) # It will read file from the position of the cursor to the end of the file. Since its already at the end, it will not give any output.\n",
    "print(f.tell()) # Will give the position of the cursor.\n",
    "f.seek(0) # Moves cursor to the beginning of the file.\n",
    "print(f.read()) # Read the file from the cursor position to the end of the file.\n",
    "f.close() # Saves the file and closes it."
   ]
  },
  {
   "cell_type": "markdown",
   "metadata": {},
   "source": [
    "### Methods to do the operation on Read mode\n",
    "- read() - reads the whole content of the file and returns a string object\n",
    "- read(char) - reads the specified no of characters from current position and returns string\n",
    "- readline() - reads the current line from the current position of the cursor and retruns a string object\n",
    "- readlines() - reads the whole content of the file and retuns a list of string where every element is a string and represents a line\n",
    "\n",
    "Note: It only work in 'a+', 'w+', 'r+', 'r' modes. "
   ]
  },
  {
   "cell_type": "code",
   "execution_count": 40,
   "metadata": {},
   "outputs": [
    {
     "data": {
      "text/plain": [
       "'hi how are you\\ni am doing well\\nwe have madrid vs barcelona final'"
      ]
     },
     "execution_count": 40,
     "metadata": {},
     "output_type": "execute_result"
    }
   ],
   "source": [
    "f= open(\"file/read_mode.txt\", \"r\")  # Opens the file in read mode.\n",
    "f.read()  # Reads the entire file."
   ]
  },
  {
   "cell_type": "code",
   "execution_count": 43,
   "metadata": {},
   "outputs": [
    {
     "data": {
      "text/plain": [
       "'hi ho'"
      ]
     },
     "execution_count": 43,
     "metadata": {},
     "output_type": "execute_result"
    }
   ],
   "source": [
    "f= open(\"file/read_mode.txt\", \"r\")  # Opens the file in read mode.\n",
    "f.read(5)  # Reads the first 5 characters of the file."
   ]
  },
  {
   "cell_type": "code",
   "execution_count": 48,
   "metadata": {},
   "outputs": [
    {
     "data": {
      "text/plain": [
       "'i am doing well\\n'"
      ]
     },
     "execution_count": 48,
     "metadata": {},
     "output_type": "execute_result"
    }
   ],
   "source": [
    "f= open(\"file/read_mode.txt\", \"r\")  # Opens the file in read mode. Due to read mode, cursor is at the beginning\n",
    "f.readline() # Reads the line from where the cursor is positioned. \n",
    "f.seek(15)\n",
    "f.readline() # Reads the next line from the cursor position."
   ]
  },
  {
   "cell_type": "code",
   "execution_count": 41,
   "metadata": {},
   "outputs": [
    {
     "data": {
      "text/plain": [
       "['hi how are you\\n', 'i am doing well\\n', 'we have madrid vs barcelona final']"
      ]
     },
     "execution_count": 41,
     "metadata": {},
     "output_type": "execute_result"
    }
   ],
   "source": [
    "f= open(\"file/read_mode.txt\", \"r\")  # Opens the file in read mode.\n",
    "f.readlines()  # Reads all the lines in the file and returns a list of lines."
   ]
  },
  {
   "cell_type": "markdown",
   "metadata": {},
   "source": [
    "# Question: \n",
    "content = \"\"\"Lorem Ipsum is simply dummy text of the printing and typesetting industry. \n",
    "Lorem Ipsum has been the industry standard dummy text ever since the 1500s, when an unknown printer took a galley of type and scrambled it to make a type specimen book. \n",
    "It has survived not only five centuries, but also the leap into electronic typesetting, remaining essentially unchanged. \n",
    "It was popularised in the 1960s with the release of Letraset sheets containing Lorem Ipsum passages, and more recently with desktop publishing software like Aldus PageMaker including versions of Lorem Ipsum.\"\"\"\n",
    "\n",
    "steps:-  \n",
    "\n",
    "1. copy paste the content inside a file using an operation\n",
    "2. read the same content from the file and write the code to give the following operations\n",
    "  a. number of chars\n",
    "  b. number of words\n",
    "  c. num of lines\n"
   ]
  },
  {
   "cell_type": "code",
   "execution_count": null,
   "metadata": {},
   "outputs": [],
   "source": [
    "# My solution 1: \n",
    "# Copying file content to another file\n",
    "f= open('content.txt', 'w')  # Opens the file in read mode. Cursor is at the beginning, as file doenst exists and will create a new file.\n",
    "f.write(\"\"\"Lorem Ipsum is simply dummy text of the printing and typesetting industry. \n",
    "Lorem Ipsum has been the industry standard dummy text ever since the 1500s, when an unknown printer took a galley of type and scrambled it to make a type specimen book. \n",
    "It has survived not only five centuries, but also the leap into electronic typesetting, remaining essentially unchanged. \n",
    "It was popularised in the 1960s with the release of Letraset sheets containing Lorem Ipsum passages, and more recently with desktop publishing software like Aldus PageMaker including versions of Lorem Ipsum.\"\"\")\n",
    "f.close()  # Saves the file and closes it."
   ]
  },
  {
   "cell_type": "code",
   "execution_count": null,
   "metadata": {},
   "outputs": [
    {
     "name": "stdout",
     "output_type": "stream",
     "text": [
      "575\n",
      "['Lorem', 'Ipsum', 'is', 'simply', 'dummy', 'text', 'of', 'the', 'printing', 'and', 'typesetting', 'industry.', 'Lorem', 'Ipsum', 'has', 'been', 'the', 'industry', 'standard', 'dummy', 'text', 'ever', 'since', 'the', '1500s,', 'when', 'an', 'unknown', 'printer', 'took', 'a', 'galley', 'of', 'type', 'and', 'scrambled', 'it', 'to', 'make', 'a', 'type', 'specimen', 'book.', 'It', 'has', 'survived', 'not', 'only', 'five', 'centuries,', 'but', 'also', 'the', 'leap', 'into', 'electronic', 'typesetting,', 'remaining', 'essentially', 'unchanged.', 'It', 'was', 'popularised', 'in', 'the', '1960s', 'with', 'the', 'release', 'of', 'Letraset', 'sheets', 'containing', 'Lorem', 'Ipsum', 'passages,', 'and', 'more', 'recently', 'with', 'desktop', 'publishing', 'software', 'like', 'Aldus', 'PageMaker', 'including', 'versions', 'of', 'Lorem', 'Ipsum.']\n",
      "91\n",
      "['Lorem Ipsum is simply dummy text of the printing and typesetting industry. \\n', 'Lorem Ipsum has been the industry standard dummy text ever since the 1500s, when an unknown printer took a galley of type and scrambled it to make a type specimen book. \\n', 'It has survived not only five centuries, but also the leap into electronic typesetting, remaining essentially unchanged. \\n', 'It was popularised in the 1960s with the release of Letraset sheets containing Lorem Ipsum passages, and more recently with desktop publishing software like Aldus PageMaker including versions of Lorem Ipsum.']\n",
      "4\n"
     ]
    }
   ],
   "source": [
    "# My solution 2: \n",
    "f= open('file/content.txt', 'r')  # Opens the file in read mode.\n",
    "chars = f.read()  # Reads the entire file.\n",
    "print(len(list(chars)))  # Converts the string to a list of characters. # We can also use len(chars) to get number of characters.\n",
    "words = chars.split()  # Splits the string into a list of words.\n",
    "print(words)\n",
    "print(len(words))  # Prints the number of words in the file.\n",
    "f.seek(0)  # Moves the cursor to the beginning of the file\n",
    "lines=f.readlines()  # Reads all the lines in the file and returns a list of lines.\n",
    "print(lines)\n",
    "print(len(lines))  # Prints the number of lines in the file."
   ]
  },
  {
   "cell_type": "code",
   "execution_count": 63,
   "metadata": {},
   "outputs": [],
   "source": [
    "# Sir's solution:\n",
    "content = \"\"\"Lorem Ipsum is simply dummy text of the printing and typesetting industry. \n",
    "Lorem Ipsum has been the industry standard dummy text ever since the 1500s, when an unknown printer took a galley of type and scrambled it to make a type specimen book. \n",
    "It has survived not only five centuries, but also the leap into electronic typesetting, remaining essentially unchanged. \n",
    "It was popularised in the 1960s with the release of Letraset sheets containing Lorem Ipsum passages, and more recently with desktop publishing software like Aldus PageMaker including versions of Lorem Ipsum.\"\"\"\n",
    "\n",
    "f = open(\"file/task.txt\", \"w+\")\n",
    "f.write(content)\n",
    "f.seek(0)\n",
    "no_of_lines = len(f.readlines()) # Counts the number of lines in the file.\n",
    "f.seek(0)\n",
    "no_of_words = len(f.read().split()) # Counts the number of words in the file.\n",
    "f.seek(0)\n",
    "no_of_chars = len(f.read()) # Counts the number of characters in the file."
   ]
  },
  {
   "cell_type": "code",
   "execution_count": 64,
   "metadata": {},
   "outputs": [
    {
     "name": "stdout",
     "output_type": "stream",
     "text": [
      "Ipsum\n"
     ]
    }
   ],
   "source": [
    "f = open(\"file/task.txt\", \"r+\")\n",
    "cont = f.readlines()[-1][-6:-1] # reads the last line and gets the last 5 characters\n",
    "print(cont)"
   ]
  },
  {
   "cell_type": "markdown",
   "metadata": {},
   "source": [
    "With clause you dont need to close the file, it will automitacally close as soon as with loop completes. "
   ]
  },
  {
   "cell_type": "code",
   "execution_count": 66,
   "metadata": {},
   "outputs": [],
   "source": [
    "with open(\"file/task_2.txt\", \"w\") as f:\n",
    "    f.write('hello') #autosaves and closes the file, no need to call f.close()\n"
   ]
  },
  {
   "cell_type": "code",
   "execution_count": null,
   "metadata": {},
   "outputs": [],
   "source": [
    "# # For copying image files, we can use the following code:\n",
    "# with open(\"file/image.jpg\", \"rb\") as f:\n",
    "#     content = f.read()  # Reads the entire image file in binary mode.\n",
    "# with open(\"file/copy_image.jpg\", \"wb\") as f:\n",
    "#     f.write(content)  # Writes the content to a new image file in binary mode."
   ]
  }
 ],
 "metadata": {
  "kernelspec": {
   "display_name": "base",
   "language": "python",
   "name": "python3"
  },
  "language_info": {
   "codemirror_mode": {
    "name": "ipython",
    "version": 3
   },
   "file_extension": ".py",
   "mimetype": "text/x-python",
   "name": "python",
   "nbconvert_exporter": "python",
   "pygments_lexer": "ipython3",
   "version": "3.13.2"
  }
 },
 "nbformat": 4,
 "nbformat_minor": 2
}
