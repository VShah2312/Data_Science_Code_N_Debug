{
 "cells": [
  {
   "cell_type": "code",
   "execution_count": null,
   "metadata": {},
   "outputs": [],
   "source": [
    "#  file handling\n",
    "\n",
    "# textfile - normal text file - txt\n",
    "# binary file - images, videos, pdf, ppt"
   ]
  },
  {
   "cell_type": "markdown",
   "metadata": {},
   "source": [
    "# point to keep in mind\n",
    "\n",
    "1. to read and write a file using filehandling first we need to open the file\n",
    "\n",
    "syntax : - f = open(\"filen_name.ext\", mode)\n",
    "\n",
    "2. if we write or modify anything inside a file then we need to close the file\n",
    "\n",
    "syntax : - f.close()\n",
    "\n",
    "3. data read from the file is always in the string format\n",
    "\n",
    "4. modes of operation - textfile\n",
    "    - Read mode - 'r'\n",
    "    - Write mode - 'w'\n",
    "    - append mode - 'a'\n",
    "    - read and write mode - 'r+'\n",
    "    - write and read mode - 'w+'\n",
    "    - Append and read mode - 'a+'\n",
    "\n",
    "5. modes of operation - binary\n",
    "    - Read mode - 'rb'\n",
    "    - Write mode - 'wb'\n",
    "    - append mode - 'ab'\n",
    "    - read and write mode - 'r+b'\n",
    "    - write and read mode - 'w+b'\n",
    "    - Append and read mode - 'a+b'\n",
    "\n",
    "6. methods on file object\n",
    "\n",
    "   - read() - reading the content from the file\n",
    "   - write() - to make changes in the file\n",
    "   - tell() - tells the cursor position\n",
    "   - seek() - helps to move the cursor position"
   ]
  },
  {
   "cell_type": "markdown",
   "metadata": {},
   "source": [
    "# Modes of operation\n",
    "\n",
    "## 1. Read mode - 'r'\n",
    "- If the file exists then it will open the file in read mode and places the cursor at the begining of the file\n",
    "- if the file does not exists then it will give FileNotFoundError\n",
    "- You are allowed only to read from the file but not allowed to write into the file\n"
   ]
  },
  {
   "cell_type": "code",
   "execution_count": 2,
   "metadata": {},
   "outputs": [
    {
     "ename": "FileNotFoundError",
     "evalue": "[Errno 2] No such file or directory: 'file/read_mode.txt'",
     "output_type": "error",
     "traceback": [
      "\u001b[0;31m---------------------------------------------------------------------------\u001b[0m",
      "\u001b[0;31mFileNotFoundError\u001b[0m                         Traceback (most recent call last)",
      "Cell \u001b[0;32mIn[2], line 1\u001b[0m\n\u001b[0;32m----> 1\u001b[0m f\u001b[38;5;241m=\u001b[39m \u001b[38;5;28;43mopen\u001b[39;49m\u001b[43m(\u001b[49m\u001b[38;5;124;43m'\u001b[39;49m\u001b[38;5;124;43mfile/read_mode.txt\u001b[39;49m\u001b[38;5;124;43m'\u001b[39;49m\u001b[43m,\u001b[49m\u001b[38;5;124;43m'\u001b[39;49m\u001b[38;5;124;43mr\u001b[39;49m\u001b[38;5;124;43m'\u001b[39;49m\u001b[43m)\u001b[49m\n",
      "File \u001b[0;32m~/Library/Python/3.12/lib/python/site-packages/IPython/core/interactiveshell.py:324\u001b[0m, in \u001b[0;36m_modified_open\u001b[0;34m(file, *args, **kwargs)\u001b[0m\n\u001b[1;32m    317\u001b[0m \u001b[38;5;28;01mif\u001b[39;00m file \u001b[38;5;129;01min\u001b[39;00m {\u001b[38;5;241m0\u001b[39m, \u001b[38;5;241m1\u001b[39m, \u001b[38;5;241m2\u001b[39m}:\n\u001b[1;32m    318\u001b[0m     \u001b[38;5;28;01mraise\u001b[39;00m \u001b[38;5;167;01mValueError\u001b[39;00m(\n\u001b[1;32m    319\u001b[0m         \u001b[38;5;124mf\u001b[39m\u001b[38;5;124m\"\u001b[39m\u001b[38;5;124mIPython won\u001b[39m\u001b[38;5;124m'\u001b[39m\u001b[38;5;124mt let you open fd=\u001b[39m\u001b[38;5;132;01m{\u001b[39;00mfile\u001b[38;5;132;01m}\u001b[39;00m\u001b[38;5;124m by default \u001b[39m\u001b[38;5;124m\"\u001b[39m\n\u001b[1;32m    320\u001b[0m         \u001b[38;5;124m\"\u001b[39m\u001b[38;5;124mas it is likely to crash IPython. If you know what you are doing, \u001b[39m\u001b[38;5;124m\"\u001b[39m\n\u001b[1;32m    321\u001b[0m         \u001b[38;5;124m\"\u001b[39m\u001b[38;5;124myou can use builtins\u001b[39m\u001b[38;5;124m'\u001b[39m\u001b[38;5;124m open.\u001b[39m\u001b[38;5;124m\"\u001b[39m\n\u001b[1;32m    322\u001b[0m     )\n\u001b[0;32m--> 324\u001b[0m \u001b[38;5;28;01mreturn\u001b[39;00m \u001b[43mio_open\u001b[49m\u001b[43m(\u001b[49m\u001b[43mfile\u001b[49m\u001b[43m,\u001b[49m\u001b[43m \u001b[49m\u001b[38;5;241;43m*\u001b[39;49m\u001b[43margs\u001b[49m\u001b[43m,\u001b[49m\u001b[43m \u001b[49m\u001b[38;5;241;43m*\u001b[39;49m\u001b[38;5;241;43m*\u001b[39;49m\u001b[43mkwargs\u001b[49m\u001b[43m)\u001b[49m\n",
      "\u001b[0;31mFileNotFoundError\u001b[0m: [Errno 2] No such file or directory: 'file/read_mode.txt'"
     ]
    }
   ],
   "source": [
    "f= open('file/read_mode_1.txt','r')"
   ]
  },
  {
   "cell_type": "code",
   "execution_count": 11,
   "metadata": {},
   "outputs": [
    {
     "name": "stdout",
     "output_type": "stream",
     "text": [
      "0\n",
      "Hello World! How are you?\n",
      "25\n"
     ]
    }
   ],
   "source": [
    "file= open('file/read_mode.txt','r')\n",
    "print(file.tell()) # its in beginning of the file. \n",
    "print(file.read()) # We are reading the file. \n",
    "print(file.tell()) # After reading the file, it at last position. \n",
    "\n",
    "# Thus read functions works purely on cursor positions."
   ]
  },
  {
   "cell_type": "code",
   "execution_count": 17,
   "metadata": {},
   "outputs": [
    {
     "name": "stdout",
     "output_type": "stream",
     "text": [
      "0\n",
      "3\n",
      "3\n",
      "lo World! How are you?\n"
     ]
    }
   ],
   "source": [
    "file= open('file/read_mode.txt','r')\n",
    "print(file.tell()) # When we read, its at 0 position, right? \n",
    "print(file.seek(3)) # We are moving cursor to the position 3\n",
    "print(file.tell()) # Thats is what is reflecting here. \n",
    "print(file.read()) # Thus it is file from the position of the cursor. \n",
    "\n",
    "# Finally we run file.write it will not work. "
   ]
  },
  {
   "cell_type": "markdown",
   "metadata": {},
   "source": [
    "## 2. Write mode - 'w'\n",
    "- If the file exists then it will open the file in write mode and deletes the content of the file\n",
    "- if the file does not exists then it will create a file with given name and extension\n",
    "- You are allowed only to write into the file but not allowed to read from the file"
   ]
  },
  {
   "cell_type": "code",
   "execution_count": 31,
   "metadata": {},
   "outputs": [
    {
     "name": "stdout",
     "output_type": "stream",
     "text": [
      "0\n"
     ]
    }
   ],
   "source": [
    "# if file does not exists. \n",
    "\n",
    "file= open('file/read_mode_1.txt','w')\n",
    "print(file.tell()) # As there is no contenct, hence cursor is at zero position. \n",
    "# As we see new file its created, as it does not exist. "
   ]
  },
  {
   "cell_type": "code",
   "execution_count": 35,
   "metadata": {},
   "outputs": [
    {
     "name": "stdout",
     "output_type": "stream",
     "text": [
      "59\n"
     ]
    }
   ],
   "source": [
    "file.write('Hello')\n",
    "# file.read() # this will throw error.\n",
    "print(file.tell()) #Giving position where cursor is at, after writing. \n",
    "file.write('! How are you') # it will start writing from where cursor is. As we havent closed it, it will continue writing. \n",
    "# We close it and run write, then it will overwrite. \n",
    "# To save, we need to run f.close()\n",
    "file.close()"
   ]
  },
  {
   "cell_type": "code",
   "execution_count": 41,
   "metadata": {},
   "outputs": [
    {
     "name": "stdout",
     "output_type": "stream",
     "text": [
      "0\n",
      "0\n",
      "helmessirld\n"
     ]
    }
   ],
   "source": [
    "f = open(\"file/write_mode.txt\", \"w\") # Not an existing file, first it will create a txt file. \n",
    "print(f.tell()) # It will give cursor position i.e 0\n",
    "f.write(\"hello world\") # Then it will write hello world. \n",
    "f.seek(3) # Moves cursor to 3 position \n",
    "f.write(\"messi\") # Write from where cursor has stopped. Overwriting, from 3 position to till end of the content. \n",
    "f.close() # Closes the file to save it. \n",
    "f= open('file/write_mode.txt','r')\n",
    "print(f.tell())\n",
    "print(f.read())"
   ]
  },
  {
   "cell_type": "code",
   "execution_count": null,
   "metadata": {},
   "outputs": [],
   "source": []
  }
 ],
 "metadata": {
  "kernelspec": {
   "display_name": "Python 3",
   "language": "python",
   "name": "python3"
  },
  "language_info": {
   "codemirror_mode": {
    "name": "ipython",
    "version": 3
   },
   "file_extension": ".py",
   "mimetype": "text/x-python",
   "name": "python",
   "nbconvert_exporter": "python",
   "pygments_lexer": "ipython3",
   "version": "3.12.2"
  }
 },
 "nbformat": 4,
 "nbformat_minor": 2
}
