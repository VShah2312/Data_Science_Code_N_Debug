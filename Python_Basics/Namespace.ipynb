{
 "cells": [
  {
   "cell_type": "markdown",
   "id": "b7892edb",
   "metadata": {},
   "source": []
  },
  {
   "cell_type": "markdown",
   "id": "500a9413",
   "metadata": {},
   "source": [
    "# Namespaces\n",
    "\n",
    "A namespace is a space that holds names(identifiers).Programmatically speaking, namespaces are dictionary of identifiers(keys) and their objects(values)\n",
    "\n",
    "There are 4 types of namespaces:\n",
    "- Builtin Namespace\n",
    "- Global Namespace\n",
    "- Enclosing Namespace\n",
    "- Local Namespace\n",
    "\n",
    "Basically it is different area where your variables, values and functions are saved. "
   ]
  },
  {
   "cell_type": "markdown",
   "id": "9bdd63a0",
   "metadata": {},
   "source": [
    "a=10\n",
    "b=20\n",
    "\n",
    "{a:10,b:20} "
   ]
  },
  {
   "cell_type": "markdown",
   "id": "309bf6cf",
   "metadata": {},
   "source": [
    "### Scope\n",
    "\n",
    "A scope is a textual region of a Python program where a namespace is directly accessible.\n",
    "\n",
    "Use https://pythontutor.com to visualize and understand. "
   ]
  },
  {
   "cell_type": "code",
   "execution_count": 28,
   "id": "e29c8dca",
   "metadata": {},
   "outputs": [
    {
     "name": "stdout",
     "output_type": "stream",
     "text": [
      "30\n"
     ]
    }
   ],
   "source": [
    "a= 10\n",
    "b= 20\n",
    "\n",
    "print(a+b) # Global scope or global variable"
   ]
  },
  {
   "cell_type": "code",
   "execution_count": 29,
   "id": "6df347f9",
   "metadata": {},
   "outputs": [
    {
     "name": "stdout",
     "output_type": "stream",
     "text": [
      "30\n"
     ]
    }
   ],
   "source": [
    "def add(x,y): # Function is global scope\n",
    "    z= x+y\n",
    "    print(z) # Local scope or local variable\n",
    "\n",
    "add(a,b) # Function call with global variables"
   ]
  },
  {
   "cell_type": "markdown",
   "id": "f8259ef0",
   "metadata": {},
   "source": [
    "### LEGB rule\n",
    "\n",
    "The interpreter searches for a name from the inside out, looking in the local, enclosing, global, and finally the built-in scope. If the interpreter doesn’t find the name in any of these locations, then Python raises a NameError exception.\n",
    "\n",
    "Local -> Enclosing -> Global -> Builtin -> NameError if not found. "
   ]
  },
  {
   "cell_type": "code",
   "execution_count": 30,
   "id": "eb488568",
   "metadata": {},
   "outputs": [
    {
     "ename": "NameError",
     "evalue": "name 'z' is not defined",
     "output_type": "error",
     "traceback": [
      "\u001b[31m---------------------------------------------------------------------------\u001b[39m",
      "\u001b[31mNameError\u001b[39m                                 Traceback (most recent call last)",
      "\u001b[36mCell\u001b[39m\u001b[36m \u001b[39m\u001b[32mIn[30]\u001b[39m\u001b[32m, line 1\u001b[39m\n\u001b[32m----> \u001b[39m\u001b[32m1\u001b[39m \u001b[38;5;28mprint\u001b[39m(\u001b[43mz\u001b[49m)\n",
      "\u001b[31mNameError\u001b[39m: name 'z' is not defined"
     ]
    }
   ],
   "source": [
    "print(z)"
   ]
  },
  {
   "cell_type": "code",
   "execution_count": null,
   "id": "0a323e83",
   "metadata": {},
   "outputs": [
    {
     "name": "stdout",
     "output_type": "stream",
     "text": [
      "3\n",
      "2\n"
     ]
    }
   ],
   "source": [
    "# Question: Can we have two variables with the same name? \n",
    "# Yes, we can have two variables with the same name in different scopes.\n",
    "\n",
    "a = 2 # global varibale\n",
    "\n",
    "def temp():\n",
    "    # local scope\n",
    "    a = 3\n",
    "    print(a)\n",
    "\n",
    "temp()\n",
    "print(a)\n"
   ]
  },
  {
   "cell_type": "code",
   "execution_count": null,
   "id": "742d6fa7",
   "metadata": {},
   "outputs": [
    {
     "name": "stdout",
     "output_type": "stream",
     "text": [
      "3\n",
      "3\n"
     ]
    }
   ],
   "source": [
    "\n",
    "a = 2 # global variable \n",
    "\n",
    "def temp():\n",
    "    # local scope\n",
    "    global a # This will allow us to modify the global variable 'a'. NOT A GOOD PRACTICE. \n",
    "    a += 1 # a is not defined in local scope, so it will raise an error unless, we give persion to edit it by announcing its scope. Because we are trying to modify a global variable without declaring it as global. y\n",
    "    print(a) # this will work by itself because it refers to the global variable, using LEGB rule. \n",
    "\n",
    "temp()\n",
    "print(a)\n",
    "\n",
    "# we can only view variables from different scopes but we cannot edit it."
   ]
  },
  {
   "cell_type": "code",
   "execution_count": null,
   "id": "c5a23e0a",
   "metadata": {},
   "outputs": [
    {
     "name": "stdout",
     "output_type": "stream",
     "text": [
      "4.140000000000001\n",
      "4.140000000000001\n"
     ]
    }
   ],
   "source": [
    "pi = 3.14 # global varibale becaise \n",
    "\n",
    "def temp(a):\n",
    "    # local scope\n",
    "    global pi # not a good practice\n",
    "    pi += 1 \n",
    "    print(pi)\n",
    "\n",
    "def rad_cir(r):\n",
    "    area = pi*r*r\n",
    "\n",
    "temp(pi)\n",
    "rad_cir(1) # coming incorrectly, as we updated the global variable pi in temp function. Thus not good practice to modify global variables, rather pass them as parameters.\n",
    "print(pi) "
   ]
  },
  {
   "cell_type": "code",
   "execution_count": null,
   "id": "39784720",
   "metadata": {},
   "outputs": [
    {
     "name": "stdout",
     "output_type": "stream",
     "text": [
      "2\n",
      "2\n"
     ]
    }
   ],
   "source": [
    "def temp():\n",
    "    # local scope\n",
    "    global a # changing scope to global\n",
    "    a = 2\n",
    "    print(a)\n",
    "\n",
    "temp()\n",
    "print(a)"
   ]
  },
  {
   "cell_type": "code",
   "execution_count": null,
   "id": "0b36f7e0",
   "metadata": {},
   "outputs": [
    {
     "name": "stdout",
     "output_type": "stream",
     "text": [
      "5\n",
      "5\n"
     ]
    }
   ],
   "source": [
    "def temp(z):\n",
    "    # local scope\n",
    "    print(z)\n",
    "\n",
    "a = 5 \n",
    "temp(5)\n",
    "print(a)\n",
    "\n",
    "# so always remember any parameter of function is always a local variable"
   ]
  },
  {
   "cell_type": "code",
   "execution_count": 1,
   "id": "85e9c5fa",
   "metadata": {},
   "outputs": [
    {
     "name": "stdout",
     "output_type": "stream",
     "text": [
      "\n",
      "['ArithmeticError', 'AssertionError', 'AttributeError', 'BaseException', 'BaseExceptionGroup', 'BlockingIOError', 'BrokenPipeError', 'BufferError', 'BytesWarning', 'ChildProcessError', 'ConnectionAbortedError', 'ConnectionError', 'ConnectionRefusedError', 'ConnectionResetError', 'DeprecationWarning', 'EOFError', 'Ellipsis', 'EncodingWarning', 'EnvironmentError', 'Exception', 'ExceptionGroup', 'False', 'FileExistsError', 'FileNotFoundError', 'FloatingPointError', 'FutureWarning', 'GeneratorExit', 'IOError', 'ImportError', 'ImportWarning', 'IndentationError', 'IndexError', 'InterruptedError', 'IsADirectoryError', 'KeyError', 'KeyboardInterrupt', 'LookupError', 'MemoryError', 'ModuleNotFoundError', 'NameError', 'None', 'NotADirectoryError', 'NotImplemented', 'NotImplementedError', 'OSError', 'OverflowError', 'PendingDeprecationWarning', 'PermissionError', 'ProcessLookupError', 'PythonFinalizationError', 'RecursionError', 'ReferenceError', 'ResourceWarning', 'RuntimeError', 'RuntimeWarning', 'StopAsyncIteration', 'StopIteration', 'SyntaxError', 'SyntaxWarning', 'SystemError', 'SystemExit', 'TabError', 'TimeoutError', 'True', 'TypeError', 'UnboundLocalError', 'UnicodeDecodeError', 'UnicodeEncodeError', 'UnicodeError', 'UnicodeTranslateError', 'UnicodeWarning', 'UserWarning', 'ValueError', 'Warning', 'ZeroDivisionError', '_IncompleteInputError', '__IPYTHON__', '__build_class__', '__debug__', '__doc__', '__import__', '__loader__', '__name__', '__package__', '__spec__', 'abs', 'aiter', 'all', 'anext', 'any', 'ascii', 'bin', 'bool', 'breakpoint', 'bytearray', 'bytes', 'callable', 'chr', 'classmethod', 'compile', 'complex', 'copyright', 'credits', 'delattr', 'dict', 'dir', 'display', 'divmod', 'enumerate', 'eval', 'exec', 'execfile', 'filter', 'float', 'format', 'frozenset', 'get_ipython', 'getattr', 'globals', 'hasattr', 'hash', 'help', 'hex', 'id', 'input', 'int', 'isinstance', 'issubclass', 'iter', 'len', 'license', 'list', 'locals', 'map', 'max', 'memoryview', 'min', 'next', 'object', 'oct', 'open', 'ord', 'pow', 'print', 'property', 'range', 'repr', 'reversed', 'round', 'runfile', 'set', 'setattr', 'slice', 'sorted', 'staticmethod', 'str', 'sum', 'super', 'tuple', 'type', 'vars', 'zip']\n"
     ]
    }
   ],
   "source": [
    "# buil-in scope\n",
    "\n",
    "print()\n",
    "print(dir(__builtins__))"
   ]
  },
  {
   "cell_type": "code",
   "execution_count": null,
   "id": "19737e6b",
   "metadata": {},
   "outputs": [],
   "source": [
    "L = [1,2,3]\n",
    "max(L)\n",
    "\n",
    "def max(L): # a= 10 and a=20, here are we overwrting a, similiarly we are overwrite built in max function.\n",
    "    print(L)\n",
    "\n",
    "print(max(L))"
   ]
  },
  {
   "cell_type": "markdown",
   "id": "2c165aef",
   "metadata": {},
   "source": [
    "### Enclosing Scope - function inside a function"
   ]
  },
  {
   "cell_type": "code",
   "execution_count": null,
   "id": "e7b1384f",
   "metadata": {},
   "outputs": [
    {
     "name": "stdout",
     "output_type": "stream",
     "text": [
      "inner function\n",
      "outer function\n",
      "main program\n"
     ]
    }
   ],
   "source": [
    "def outer():\n",
    "  # outer is enclosing scope\n",
    "  def inner():\n",
    "    # inner is local scope\n",
    "    print(\"inner function\")\n",
    "  inner()\n",
    "  print('outer function')\n",
    "\n",
    "\n",
    "outer()\n",
    "print('main program') # global scope\n",
    "\n",
    "# space between local and global scope is called enclosing scope. "
   ]
  },
  {
   "cell_type": "code",
   "execution_count": 3,
   "id": "9d8e5a38",
   "metadata": {},
   "outputs": [
    {
     "name": "stdout",
     "output_type": "stream",
     "text": [
      "4\n",
      "3\n",
      "1\n"
     ]
    }
   ],
   "source": [
    "def outer():\n",
    "  a = 3\n",
    "  def inner():\n",
    "    a = 4\n",
    "    print(a)\n",
    "  inner()\n",
    "  print(a)\n",
    "\n",
    "a = 1\n",
    "outer()\n",
    "print(a)"
   ]
  },
  {
   "cell_type": "code",
   "execution_count": 4,
   "id": "79d051e6",
   "metadata": {},
   "outputs": [
    {
     "name": "stdout",
     "output_type": "stream",
     "text": [
      "4\n",
      "outer\n",
      "main program\n"
     ]
    }
   ],
   "source": [
    "def outer():\n",
    "  a = 3\n",
    "  def inner():\n",
    "    a = 4\n",
    "    print(a)\n",
    "  inner()\n",
    "  print('outer')\n",
    "\n",
    "a = 1\n",
    "outer()\n",
    "print('main program')"
   ]
  },
  {
   "cell_type": "code",
   "execution_count": null,
   "id": "9512cc98",
   "metadata": {},
   "outputs": [
    {
     "name": "stdout",
     "output_type": "stream",
     "text": [
      "3\n",
      "outer\n",
      "main program\n"
     ]
    }
   ],
   "source": [
    "def outer():\n",
    "  a = 3\n",
    "  def inner():\n",
    "    print(a) # 3 is coming from LEGB rule. No local scope is available for 'a'.\n",
    "  inner()\n",
    "  print('outer')\n",
    "\n",
    "a = 1\n",
    "outer()\n",
    "print('main program')"
   ]
  },
  {
   "cell_type": "code",
   "execution_count": 8,
   "id": "1e5c4003",
   "metadata": {},
   "outputs": [
    {
     "name": "stdout",
     "output_type": "stream",
     "text": [
      "1\n",
      "outer\n",
      "main program\n"
     ]
    }
   ],
   "source": [
    "def outer():\n",
    "  def inner():\n",
    "    print(a)\n",
    "  inner()\n",
    "  print('outer')\n",
    "\n",
    "a = 1 # Local and global scope is not available, hence is using Global scope. \n",
    "outer()\n",
    "print('main program')"
   ]
  },
  {
   "cell_type": "code",
   "execution_count": null,
   "id": "98838163",
   "metadata": {},
   "outputs": [],
   "source": [
    "def outer():\n",
    "  a = 1\n",
    "  def inner():\n",
    "    a += 1 #This will raise error, because we cant modify the variable in different scope.\n",
    "    print(a)\n",
    "  inner()\n",
    "  print('outer')\n",
    "\n",
    "a = 1\n",
    "outer()\n",
    "print('main program')"
   ]
  },
  {
   "cell_type": "code",
   "execution_count": 9,
   "id": "92cbe176",
   "metadata": {},
   "outputs": [
    {
     "name": "stdout",
     "output_type": "stream",
     "text": [
      "2\n",
      "outer\n",
      "main program\n"
     ]
    }
   ],
   "source": [
    "def outer():\n",
    "  a = 1\n",
    "  def inner():\n",
    "    nonlocal a # this will allow us to change the variable in the enclosing scope.\n",
    "    a += 1\n",
    "    print(a)\n",
    "  inner()\n",
    "  print('outer')\n",
    "\n",
    "a = 1\n",
    "outer()\n",
    "print('main program')"
   ]
  },
  {
   "cell_type": "code",
   "execution_count": null,
   "id": "4fa487e9",
   "metadata": {},
   "outputs": [],
   "source": []
  }
 ],
 "metadata": {
  "kernelspec": {
   "display_name": "base",
   "language": "python",
   "name": "python3"
  },
  "language_info": {
   "codemirror_mode": {
    "name": "ipython",
    "version": 3
   },
   "file_extension": ".py",
   "mimetype": "text/x-python",
   "name": "python",
   "nbconvert_exporter": "python",
   "pygments_lexer": "ipython3",
   "version": "3.13.2"
  }
 },
 "nbformat": 4,
 "nbformat_minor": 5
}
