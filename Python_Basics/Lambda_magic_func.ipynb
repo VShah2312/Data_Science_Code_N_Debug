{
 "cells": [
  {
   "cell_type": "markdown",
   "id": "130a4e57",
   "metadata": {},
   "source": [
    "### Lambda Functions: "
   ]
  },
  {
   "cell_type": "markdown",
   "id": "3ce1badd",
   "metadata": {},
   "source": [
    "- Lambda are anonymous functions. A function with a name. \n",
    "- A lambda function can take any number of args, but it can have only one expression.\n",
    "\n",
    "\n",
    "Expression: lambda parm1, parm2,......: expression"
   ]
  },
  {
   "cell_type": "code",
   "execution_count": 1,
   "id": "492fb2a0",
   "metadata": {},
   "outputs": [
    {
     "name": "stdout",
     "output_type": "stream",
     "text": [
      "9\n"
     ]
    }
   ],
   "source": [
    "def add(a:int):\n",
    "    a= a+5\n",
    "    return a\n",
    "\n",
    "\n",
    "print(add(4))"
   ]
  },
  {
   "cell_type": "code",
   "execution_count": null,
   "id": "12466e87",
   "metadata": {},
   "outputs": [
    {
     "name": "stdout",
     "output_type": "stream",
     "text": [
      "10\n",
      "9\n"
     ]
    }
   ],
   "source": [
    "fun= lambda a:a+5 # Method 1: As it is anonymous, we can  give it a name to call it\n",
    "\n",
    "print(fun(5))\n",
    "\n",
    "# or \n",
    "\n",
    "print((lambda a:a+4)(5)) # Method 2: If we dont have a name, we go to them and call them. "
   ]
  },
  {
   "cell_type": "code",
   "execution_count": 9,
   "id": "903ce50e",
   "metadata": {},
   "outputs": [
    {
     "name": "stdout",
     "output_type": "stream",
     "text": [
      "30\n"
     ]
    }
   ],
   "source": [
    "# WAF  to add two numbers \n",
    "\n",
    "b= lambda a,b: a+b\n",
    "\n",
    "print(b(10,20))"
   ]
  },
  {
   "cell_type": "code",
   "execution_count": 12,
   "id": "d92a00be",
   "metadata": {},
   "outputs": [
    {
     "name": "stdout",
     "output_type": "stream",
     "text": [
      "Odd\n",
      "True\n"
     ]
    }
   ],
   "source": [
    "# WAF to check ig given number is odd or even \n",
    "\n",
    "c= lambda a: 'Even' if a%2==0 else 'Odd'\n",
    "print(c(5))\n",
    "\n",
    "# or \n",
    "print((lambda x: x%2==0)(8))"
   ]
  },
  {
   "cell_type": "markdown",
   "id": "eb437ae8",
   "metadata": {},
   "source": [
    "for i in iterable: \n",
    "    statement \n",
    "else: \n",
    "    statement\n",
    "\n",
    "- the else keyword will be executed, if the loop is finished. "
   ]
  },
  {
   "cell_type": "code",
   "execution_count": 14,
   "id": "39c84fbb",
   "metadata": {},
   "outputs": [
    {
     "name": "stdout",
     "output_type": "stream",
     "text": [
      "0\n",
      "1\n",
      "2\n",
      "3\n",
      "4\n",
      "execution completed\n"
     ]
    }
   ],
   "source": [
    "# Eg: \n",
    "\n",
    "for i in range(5):\n",
    "    print(i)\n",
    "else:\n",
    "    print('execution completed')\n"
   ]
  },
  {
   "cell_type": "code",
   "execution_count": 16,
   "id": "291bbf8c",
   "metadata": {},
   "outputs": [
    {
     "name": "stdout",
     "output_type": "stream",
     "text": [
      "char found\n"
     ]
    }
   ],
   "source": [
    "# Eg: you have list of char \n",
    "\n",
    "lst= ['a','b','c','d', 'e']\n",
    "\n",
    "for i in lst: \n",
    "    if i=='e':\n",
    "        print('char found')\n",
    "        break # if we are breaking the loop else part is not executed\n",
    "else: # incase for loop is exhausted\n",
    "    print('char not found')\n",
    "    "
   ]
  },
  {
   "cell_type": "code",
   "execution_count": 22,
   "id": "aec301ea",
   "metadata": {},
   "outputs": [
    {
     "name": "stdout",
     "output_type": "stream",
     "text": [
      "Not prime\n",
      "Prime\n",
      "Enter a positve number\n",
      "1 is neither prime nor composite\n"
     ]
    }
   ],
   "source": [
    "# Eg: write a program to check if number if prime or not\n",
    "\n",
    "def check_prime(n:int)-> bool:\n",
    "    if n<=0:\n",
    "        print('Enter a positve number')\n",
    "    elif n==1: \n",
    "        print('1 is neither prime nor composite')\n",
    "    else: \n",
    "        for i in range(2,n//2):\n",
    "            if n%i==0: \n",
    "                print('Not prime')\n",
    "                break\n",
    "        else: \n",
    "            print('Prime')\n",
    "\n",
    "\n",
    "check_prime(6)\n",
    "check_prime(7)\n",
    "check_prime(-4)\n",
    "check_prime(1)"
   ]
  },
  {
   "cell_type": "code",
   "execution_count": null,
   "id": "af2b2c20",
   "metadata": {},
   "outputs": [
    {
     "name": "stdout",
     "output_type": "stream",
     "text": [
      "True\n",
      "True\n",
      "False\n",
      "False\n",
      "True\n",
      "False\n"
     ]
    }
   ],
   "source": [
    "# Sir's solution: \n",
    "\n",
    "def is_prime(n):\n",
    "    if n<=1: \n",
    "        return False\n",
    "    if n==2:\n",
    "        return True \n",
    "    \n",
    "    for i in range(3,n//2, 2): # checking if divisible by odd number\n",
    "        if n%i==0: \n",
    "            return False\n",
    "    else:\n",
    "        return True \n",
    "    \n",
    "\n",
    "print(is_prime(10))\n",
    "print(is_prime(7))\n",
    "print(is_prime(1))\n",
    "print(is_prime(-1))\n",
    "print(is_prime(4))\n",
    "print(is_prime(15))"
   ]
  },
  {
   "cell_type": "markdown",
   "id": "90ca287d",
   "metadata": {},
   "source": [
    "### Map function \n",
    "\n",
    "- it take two arguments\n",
    "- 1st paramter is a function\n",
    "- 2nd parameter is iterable object \n",
    "\n",
    "We use map when we want to apply a common operation on all sequence of elements. "
   ]
  },
  {
   "cell_type": "code",
   "execution_count": null,
   "id": "e7946ac1",
   "metadata": {},
   "outputs": [
    {
     "name": "stdout",
     "output_type": "stream",
     "text": [
      "[73.4, 113.0, 143.60000000000002, 131.0, 51.8, 91.4]\n"
     ]
    }
   ],
   "source": [
    "# WAF to calculate Farenhiet for list of Celsius \n",
    "\n",
    "c=[23,45,62,55,11,33]\n",
    "f= list(map((lambda a: (9/5 * a)+32), c)) # map return iterator\n",
    "print(f)"
   ]
  },
  {
   "cell_type": "code",
   "execution_count": 2,
   "id": "49b62d43",
   "metadata": {},
   "outputs": [
    {
     "name": "stdout",
     "output_type": "stream",
     "text": [
      "['vshah43', 'shahvrunda21']\n"
     ]
    }
   ],
   "source": [
    "# Eg: \n",
    "\n",
    "lst=['vshah43@kenvue.com','shahvrunda21@gmail.com']\n",
    "\n",
    "user_name= list(map((lambda a: a.split('@')[0]),lst))\n",
    "print(user_name)"
   ]
  },
  {
   "cell_type": "markdown",
   "id": "5dbf2278",
   "metadata": {},
   "source": [
    "### Reduce function\n",
    "\n",
    "- it take two arguments\n",
    "- 1st paramter is a function with two parameters\n",
    "- 2nd parameter is iterable object \n",
    "\n",
    "Usecase -> min, max, avg, sum, mul (basic stat functions)\n",
    "\n",
    "Its not an inbuilt function, you will need import it from functools "
   ]
  },
  {
   "cell_type": "code",
   "execution_count": null,
   "id": "e31e343e",
   "metadata": {},
   "outputs": [
    {
     "data": {
      "text/plain": [
       "3628800"
      ]
     },
     "execution_count": 5,
     "metadata": {},
     "output_type": "execute_result"
    }
   ],
   "source": [
    "from functools import reduce\n",
    "\n",
    "# sum\n",
    "num= [1,2,3,4,5,6,7,8,9,10]\n",
    "reduce(lambda x,y: x+y, num)\n",
    "\"\"\"\n",
    "[1,2,3,4,5]\n",
    "x= 1, y=2, ans=3 \n",
    "[3,3,4,5]\n",
    "x= 3, y=3, ans= 6\n",
    "[6,4,5]\n",
    "x=6, y=4, ans=10\n",
    "[10,5]\n",
    "x=10, y=5, ans= 15\n",
    "\n",
    "As the number of elements are decreasing we call it reduce. \n",
    "That y its functions takes two parameters. \n",
    "\"\"\"\n",
    "\n",
    "# product\n",
    "reduce(lambda x,y: x*y, num)"
   ]
  },
  {
   "cell_type": "code",
   "execution_count": 9,
   "id": "2a76dd2a",
   "metadata": {},
   "outputs": [
    {
     "data": {
      "text/plain": [
       "9"
      ]
     },
     "execution_count": 9,
     "metadata": {},
     "output_type": "execute_result"
    }
   ],
   "source": [
    "# WAF to find max in a list using reduce \n",
    "num= [1,2,3,4,5,6,7,8,9,-10]\n",
    "reduce(lambda x,y: x if x>y else y, num)"
   ]
  },
  {
   "cell_type": "markdown",
   "id": "b2428017",
   "metadata": {},
   "source": [
    "### Filter Function \n",
    "\n",
    "- it take two parameters \n",
    "- 1st paramter is a function and it needs to return bool\n",
    "- 2nd parameter is iterable object\n",
    "\n",
    "Function will be applied to every element of iterable and will return values where its True. "
   ]
  },
  {
   "cell_type": "code",
   "execution_count": 21,
   "id": "bd5fe08a",
   "metadata": {},
   "outputs": [
    {
     "name": "stdout",
     "output_type": "stream",
     "text": [
      "[23435454542, 12, 24]\n",
      "[23435454542, 12, 24]\n"
     ]
    }
   ],
   "source": [
    "# Eg: \n",
    "\n",
    "n=[3,25,45,6723,23435454542,12,24]\n",
    "\n",
    "def is_even(n):\n",
    "    return n%2==0\n",
    "\n",
    "\n",
    "print(list(filter(is_even, n))) #filter return iterator object, need to wrap it with iterable to read it. \n",
    "\n",
    "# OR \n",
    "\n",
    "print(list(filter(lambda x: x%2==0, n)))"
   ]
  },
  {
   "cell_type": "code",
   "execution_count": 24,
   "id": "46272b43",
   "metadata": {},
   "outputs": [
    {
     "name": "stdout",
     "output_type": "stream",
     "text": [
      "['shahvrunda21@gmail.com']\n",
      "[False, True]\n"
     ]
    }
   ],
   "source": [
    "# Eg: \n",
    "\n",
    "lst=['vshah43@kenvue.com','shahvrunda21@gmail.com']\n",
    "\n",
    "user_name= list(filter((lambda a: a.split('@')[1]== 'gmail.com'),lst))\n",
    "print(user_name)\n",
    "\n",
    "\n",
    "user_name= list(map((lambda a: a.split('@')[1]== 'gmail.com'),lst))\n",
    "print(user_name)"
   ]
  },
  {
   "cell_type": "markdown",
   "id": "a92a8abe",
   "metadata": {},
   "source": [
    "### Enumerate \n",
    "- iterable object: value of iterable at provided index \n",
    "- start: default is 0, start value increments by 1 "
   ]
  },
  {
   "cell_type": "code",
   "execution_count": null,
   "id": "e9467764",
   "metadata": {},
   "outputs": [
    {
     "name": "stdout",
     "output_type": "stream",
     "text": [
      "[(0, 1), (1, 2), (2, 3), (3, 4), (4, 5)]\n"
     ]
    }
   ],
   "source": [
    "n=[1,2,3,4,5]\n",
    "print(list(enumerate(n))) # returns index value tuple pair."
   ]
  },
  {
   "cell_type": "code",
   "execution_count": 55,
   "id": "49abfd3c",
   "metadata": {},
   "outputs": [
    {
     "name": "stdout",
     "output_type": "stream",
     "text": [
      "1\n"
     ]
    }
   ],
   "source": [
    "lst=['vshah43@kenvue.com','shahvrunda21@gmail.com']\n",
    "\n",
    "def user(lst):\n",
    "    en= list(enumerate(lst))\n",
    "    for i,v in en: \n",
    "        if v.split('@')[1]=='gmail.com':\n",
    "            print(i)\n",
    "\n",
    "\n",
    "user(lst)\n",
    "\n"
   ]
  }
 ],
 "metadata": {
  "kernelspec": {
   "display_name": "base",
   "language": "python",
   "name": "python3"
  },
  "language_info": {
   "codemirror_mode": {
    "name": "ipython",
    "version": 3
   },
   "file_extension": ".py",
   "mimetype": "text/x-python",
   "name": "python",
   "nbconvert_exporter": "python",
   "pygments_lexer": "ipython3",
   "version": "3.13.2"
  }
 },
 "nbformat": 4,
 "nbformat_minor": 5
}
