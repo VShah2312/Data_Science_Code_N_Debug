{
 "cells": [
  {
   "cell_type": "markdown",
   "id": "0a90743a",
   "metadata": {},
   "source": [
    "# What are iteration? (process)\n",
    "\n",
    "Iteration is a general term for taking each item of something, one after another. Any time you use a loop, explicit or implicit, to go over a group of items, that is iteration. "
   ]
  },
  {
   "cell_type": "code",
   "execution_count": null,
   "id": "4b7b330a",
   "metadata": {},
   "outputs": [
    {
     "name": "stdout",
     "output_type": "stream",
     "text": [
      "1\n",
      "2\n",
      "3\n"
     ]
    }
   ],
   "source": [
    "# Example:  loops -> iters on a sequence \n",
    "\n",
    "num= [1,2,3]\n",
    "\n",
    "for i in num: \n",
    "    print(i)"
   ]
  },
  {
   "cell_type": "markdown",
   "id": "a14084c9",
   "metadata": {},
   "source": [
    "# What is iterator? (concept)\n",
    "An iterator is an object that allows the programmer to traverse through a sequence of data without having to store the entire data in the memory. \n",
    "\n",
    "so basically iterator bring i into memory, uses it and deletes it, thus we are only occupying space of one object at a time. \n",
    "* 1 -> memory -> deletes \n",
    "* 2 -> memory -> deletes \n",
    "* 3 -> memory -> deletes "
   ]
  },
  {
   "cell_type": "code",
   "execution_count": null,
   "id": "0c6b5412",
   "metadata": {},
   "outputs": [
    {
     "data": {
      "text/plain": [
       "0.046875"
      ]
     },
     "execution_count": 7,
     "metadata": {},
     "output_type": "execute_result"
    }
   ],
   "source": [
    "# 1- 1000000 and mul by 2 \n",
    "import sys \n",
    "\n",
    "L = [x for x in range(1, 100000)]\n",
    "\n",
    "# for i in L: \n",
    "#     print(i*2)\n",
    "\n",
    "\n",
    "# How much memory did we use? \n",
    "sys.getsizeof(L)/1024 # Almost 8 mb\n",
    "\n",
    "# How much memory did x use? \n",
    "x = range(1,10000000)\n",
    "sys.getsizeof(x)/1024 # 0.04 mb\n",
    "\n",
    "# Q: Why such a huge difference? \n",
    "# As L is list occupying whole space in your memory, where as x is an iterator, will use one at a time.\n",
    "# Memory of L increase as max of range increase, but memory of x will remain same. \n"
   ]
  },
  {
   "cell_type": "code",
   "execution_count": null,
   "id": "3e60a6ab",
   "metadata": {},
   "outputs": [
    {
     "data": {
      "text/plain": [
       "range(0, 10)"
      ]
     },
     "execution_count": 8,
     "metadata": {},
     "output_type": "execute_result"
    }
   ],
   "source": [
    "range(10) # gives answer in iterator form. To save memory, rather than list or tuple etc. \n",
    "# even zip func is a iterator. \n",
    "# map(func, iterable) -> return iterable, we have to use list on top of it "
   ]
  },
  {
   "cell_type": "code",
   "execution_count": 12,
   "id": "a20a41ed",
   "metadata": {},
   "outputs": [
    {
     "name": "stdout",
     "output_type": "stream",
     "text": [
      "[(1, 5), (2, 6), (3, 7)]\n"
     ]
    }
   ],
   "source": [
    "print(list(zip([1,2,3], [5,6,7])))"
   ]
  },
  {
   "cell_type": "markdown",
   "id": "364720f1",
   "metadata": {},
   "source": [
    "# What is iterable? \n",
    "\n",
    "Iterable is an object, which one can iterate over. \n",
    "It generates an iterator when passed to iter() method. \n",
    "\n",
    "Data type that are iterable:\n",
    "* string\n",
    "* tuple \n",
    "* set \n",
    "* dict \n",
    "* list"
   ]
  },
  {
   "cell_type": "markdown",
   "id": "9fbaae07",
   "metadata": {},
   "source": [
    "### Point to remember\n",
    "- To convert any iterable object to iterator (pass it through iter())\n",
    "- Every Iterator is also and Iterable\n",
    "- Not all Iterables are Iterator\n",
    "\n",
    "## Trick\n",
    "- Every Iterable has an iter function\n",
    "- Every Iterator has both iter function as well as a next function"
   ]
  },
  {
   "cell_type": "code",
   "execution_count": null,
   "id": "f4ed6bd4",
   "metadata": {},
   "outputs": [
    {
     "name": "stdout",
     "output_type": "stream",
     "text": [
      "<list_iterator object at 0x104bcbee0>\n"
     ]
    }
   ],
   "source": [
    "L= [1,2,3] # List \n",
    "print(iter(L)) # now its iterator. "
   ]
  },
  {
   "cell_type": "code",
   "execution_count": null,
   "id": "686eec7f",
   "metadata": {},
   "outputs": [
    {
     "name": "stdout",
     "output_type": "stream",
     "text": [
      "['__add__', '__class__', '__class_getitem__', '__contains__', '__delattr__', '__delitem__', '__dir__', '__doc__', '__eq__', '__format__', '__ge__', '__getattribute__', '__getitem__', '__getstate__', '__gt__', '__hash__', '__iadd__', '__imul__', '__init__', '__init_subclass__', '__iter__', '__le__', '__len__', '__lt__', '__mul__', '__ne__', '__new__', '__reduce__', '__reduce_ex__', '__repr__', '__reversed__', '__rmul__', '__setattr__', '__setitem__', '__sizeof__', '__str__', '__subclasshook__', 'append', 'clear', 'copy', 'count', 'extend', 'index', 'insert', 'pop', 'remove', 'reverse', 'sort']\n",
      "['__class__', '__delattr__', '__dir__', '__doc__', '__eq__', '__format__', '__ge__', '__getattribute__', '__getstate__', '__gt__', '__hash__', '__init__', '__init_subclass__', '__iter__', '__le__', '__length_hint__', '__lt__', '__ne__', '__new__', '__next__', '__reduce__', '__reduce_ex__', '__repr__', '__setattr__', '__setstate__', '__sizeof__', '__str__', '__subclasshook__']\n",
      "['__class__', '__delattr__', '__dir__', '__doc__', '__eq__', '__format__', '__ge__', '__getattribute__', '__getstate__', '__gt__', '__hash__', '__init__', '__init_subclass__', '__iter__', '__le__', '__lt__', '__ne__', '__new__', '__next__', '__reduce__', '__reduce_ex__', '__repr__', '__setattr__', '__setstate__', '__sizeof__', '__str__', '__subclasshook__']\n"
     ]
    }
   ],
   "source": [
    "# How to check if something iterator or iterable\n",
    "\n",
    "k= [1,2,3]\n",
    "print(dir(k)) # if only iter available then its only iterable. \n",
    "print(dir(iter(k))) # both iter and next is available then its iterator. \n",
    "a= (zip([1,2,3], [5,6,7]))\n",
    "print(dir(a)) # __next___ is also available then its iterator. "
   ]
  },
  {
   "cell_type": "markdown",
   "id": "ff5538b6",
   "metadata": {},
   "source": [
    "### Understanding for loop: "
   ]
  },
  {
   "cell_type": "code",
   "execution_count": 4,
   "id": "757194fd",
   "metadata": {},
   "outputs": [
    {
     "name": "stdout",
     "output_type": "stream",
     "text": [
      "1\n",
      "2\n",
      "3\n",
      "4\n"
     ]
    }
   ],
   "source": [
    "nums= [1,2,3,4]\n",
    "for i in nums:\n",
    "    print(i)"
   ]
  },
  {
   "cell_type": "code",
   "execution_count": 7,
   "id": "db55523d",
   "metadata": {},
   "outputs": [
    {
     "name": "stdout",
     "output_type": "stream",
     "text": [
      "1\n",
      "2\n",
      "3\n",
      "4\n"
     ]
    },
    {
     "ename": "StopIteration",
     "evalue": "",
     "output_type": "error",
     "traceback": [
      "\u001b[31m---------------------------------------------------------------------------\u001b[39m",
      "\u001b[31mStopIteration\u001b[39m                             Traceback (most recent call last)",
      "\u001b[36mCell\u001b[39m\u001b[36m \u001b[39m\u001b[32mIn[8]\u001b[39m\u001b[32m, line 11\u001b[39m\n\u001b[32m      9\u001b[39m \u001b[38;5;28mprint\u001b[39m(\u001b[38;5;28mnext\u001b[39m(iter_num)) \u001b[38;5;66;03m# 4\u001b[39;00m\n\u001b[32m     10\u001b[39m \u001b[38;5;66;03m# step 3: as soon as next(iter_nums) throw StopIteration error for loop will stop\u001b[39;00m\n\u001b[32m---> \u001b[39m\u001b[32m11\u001b[39m \u001b[38;5;28mprint\u001b[39m(\u001b[38;5;28;43mnext\u001b[39;49m\u001b[43m(\u001b[49m\u001b[43miter_num\u001b[49m\u001b[43m)\u001b[49m) \u001b[38;5;66;03m# it will throw StopIteration error\u001b[39;00m\n",
      "\u001b[31mStopIteration\u001b[39m: "
     ]
    },
    {
     "ename": "KeyboardInterrupt",
     "evalue": "",
     "output_type": "error",
     "traceback": [
      "\u001b[31m---------------------------------------------------------------------------\u001b[39m",
      "\u001b[31mKeyboardInterrupt\u001b[39m                         Traceback (most recent call last)",
      "\u001b[36mFile \u001b[39m\u001b[32m/opt/miniconda3/lib/python3.13/site-packages/IPython/core/async_helpers.py:128\u001b[39m, in \u001b[36m_pseudo_sync_runner\u001b[39m\u001b[34m(coro)\u001b[39m\n\u001b[32m    120\u001b[39m \u001b[38;5;250m\u001b[39m\u001b[33;03m\"\"\"\u001b[39;00m\n\u001b[32m    121\u001b[39m \u001b[33;03mA runner that does not really allow async execution, and just advance the coroutine.\u001b[39;00m\n\u001b[32m    122\u001b[39m \n\u001b[32m   (...)\u001b[39m\u001b[32m    125\u001b[39m \u001b[33;03mCredit to Nathaniel Smith\u001b[39;00m\n\u001b[32m    126\u001b[39m \u001b[33;03m\"\"\"\u001b[39;00m\n\u001b[32m    127\u001b[39m \u001b[38;5;28;01mtry\u001b[39;00m:\n\u001b[32m--> \u001b[39m\u001b[32m128\u001b[39m     \u001b[43mcoro\u001b[49m\u001b[43m.\u001b[49m\u001b[43msend\u001b[49m\u001b[43m(\u001b[49m\u001b[38;5;28;43;01mNone\u001b[39;49;00m\u001b[43m)\u001b[49m\n\u001b[32m    129\u001b[39m \u001b[38;5;28;01mexcept\u001b[39;00m \u001b[38;5;167;01mStopIteration\u001b[39;00m \u001b[38;5;28;01mas\u001b[39;00m exc:\n\u001b[32m    130\u001b[39m     \u001b[38;5;28;01mreturn\u001b[39;00m exc.value\n",
      "\u001b[36mFile \u001b[39m\u001b[32m/opt/miniconda3/lib/python3.13/site-packages/IPython/core/interactiveshell.py:3386\u001b[39m, in \u001b[36mInteractiveShell.run_cell_async\u001b[39m\u001b[34m(self, raw_cell, store_history, silent, shell_futures, transformed_cell, preprocessing_exc_tuple, cell_id)\u001b[39m\n\u001b[32m   3382\u001b[39m exec_count = \u001b[38;5;28mself\u001b[39m.execution_count\n\u001b[32m   3383\u001b[39m \u001b[38;5;28;01mif\u001b[39;00m result.error_in_exec:\n\u001b[32m   3384\u001b[39m     \u001b[38;5;66;03m# Store formatted traceback and error details\u001b[39;00m\n\u001b[32m   3385\u001b[39m     \u001b[38;5;28mself\u001b[39m.history_manager.exceptions[exec_count] = (\n\u001b[32m-> \u001b[39m\u001b[32m3386\u001b[39m         \u001b[38;5;28;43mself\u001b[39;49m\u001b[43m.\u001b[49m\u001b[43m_format_exception_for_storage\u001b[49m\u001b[43m(\u001b[49m\u001b[43mresult\u001b[49m\u001b[43m.\u001b[49m\u001b[43merror_in_exec\u001b[49m\u001b[43m)\u001b[49m\n\u001b[32m   3387\u001b[39m     )\n\u001b[32m   3389\u001b[39m \u001b[38;5;66;03m# Each cell is a *single* input, regardless of how many lines it has\u001b[39;00m\n\u001b[32m   3390\u001b[39m \u001b[38;5;28mself\u001b[39m.execution_count += \u001b[32m1\u001b[39m\n",
      "\u001b[36mFile \u001b[39m\u001b[32m/opt/miniconda3/lib/python3.13/site-packages/IPython/core/interactiveshell.py:3440\u001b[39m, in \u001b[36mInteractiveShell._format_exception_for_storage\u001b[39m\u001b[34m(self, exception, filename, running_compiled_code)\u001b[39m\n\u001b[32m   3437\u001b[39m         stb = evalue._render_traceback_()\n\u001b[32m   3438\u001b[39m     \u001b[38;5;28;01melse\u001b[39;00m:\n\u001b[32m   3439\u001b[39m         \u001b[38;5;66;03m# Otherwise, use InteractiveTB to format the traceback.\u001b[39;00m\n\u001b[32m-> \u001b[39m\u001b[32m3440\u001b[39m         stb = \u001b[38;5;28;43mself\u001b[39;49m\u001b[43m.\u001b[49m\u001b[43mInteractiveTB\u001b[49m\u001b[43m.\u001b[49m\u001b[43mstructured_traceback\u001b[49m\u001b[43m(\u001b[49m\n\u001b[32m   3441\u001b[39m \u001b[43m            \u001b[49m\u001b[43metype\u001b[49m\u001b[43m,\u001b[49m\u001b[43m \u001b[49m\u001b[43mevalue\u001b[49m\u001b[43m,\u001b[49m\u001b[43m \u001b[49m\u001b[43mtb\u001b[49m\u001b[43m,\u001b[49m\u001b[43m \u001b[49m\u001b[43mtb_offset\u001b[49m\u001b[43m=\u001b[49m\u001b[32;43m1\u001b[39;49m\n\u001b[32m   3442\u001b[39m \u001b[43m        \u001b[49m\u001b[43m)\u001b[49m\n\u001b[32m   3443\u001b[39m \u001b[38;5;28;01mexcept\u001b[39;00m \u001b[38;5;167;01mException\u001b[39;00m:\n\u001b[32m   3444\u001b[39m     \u001b[38;5;66;03m# In case formatting fails, fallback to Python's built-in formatting.\u001b[39;00m\n\u001b[32m   3445\u001b[39m     stb = traceback.format_exception(etype, evalue, tb)\n",
      "\u001b[36mFile \u001b[39m\u001b[32m/opt/miniconda3/lib/python3.13/site-packages/IPython/core/ultratb.py:1182\u001b[39m, in \u001b[36mAutoFormattedTB.structured_traceback\u001b[39m\u001b[34m(self, etype, evalue, etb, tb_offset, context)\u001b[39m\n\u001b[32m   1180\u001b[39m \u001b[38;5;28;01melse\u001b[39;00m:\n\u001b[32m   1181\u001b[39m     \u001b[38;5;28mself\u001b[39m.tb = etb\n\u001b[32m-> \u001b[39m\u001b[32m1182\u001b[39m \u001b[38;5;28;01mreturn\u001b[39;00m \u001b[43mFormattedTB\u001b[49m\u001b[43m.\u001b[49m\u001b[43mstructured_traceback\u001b[49m\u001b[43m(\u001b[49m\n\u001b[32m   1183\u001b[39m \u001b[43m    \u001b[49m\u001b[38;5;28;43mself\u001b[39;49m\u001b[43m,\u001b[49m\u001b[43m \u001b[49m\u001b[43metype\u001b[49m\u001b[43m,\u001b[49m\u001b[43m \u001b[49m\u001b[43mevalue\u001b[49m\u001b[43m,\u001b[49m\u001b[43m \u001b[49m\u001b[43metb\u001b[49m\u001b[43m,\u001b[49m\u001b[43m \u001b[49m\u001b[43mtb_offset\u001b[49m\u001b[43m,\u001b[49m\u001b[43m \u001b[49m\u001b[43mcontext\u001b[49m\n\u001b[32m   1184\u001b[39m \u001b[43m\u001b[49m\u001b[43m)\u001b[49m\n",
      "\u001b[36mFile \u001b[39m\u001b[32m/opt/miniconda3/lib/python3.13/site-packages/IPython/core/ultratb.py:1053\u001b[39m, in \u001b[36mFormattedTB.structured_traceback\u001b[39m\u001b[34m(self, etype, evalue, etb, tb_offset, context)\u001b[39m\n\u001b[32m   1050\u001b[39m mode = \u001b[38;5;28mself\u001b[39m.mode\n\u001b[32m   1051\u001b[39m \u001b[38;5;28;01mif\u001b[39;00m mode \u001b[38;5;129;01min\u001b[39;00m \u001b[38;5;28mself\u001b[39m.verbose_modes:\n\u001b[32m   1052\u001b[39m     \u001b[38;5;66;03m# Verbose modes need a full traceback\u001b[39;00m\n\u001b[32m-> \u001b[39m\u001b[32m1053\u001b[39m     \u001b[38;5;28;01mreturn\u001b[39;00m \u001b[43mVerboseTB\u001b[49m\u001b[43m.\u001b[49m\u001b[43mstructured_traceback\u001b[49m\u001b[43m(\u001b[49m\n\u001b[32m   1054\u001b[39m \u001b[43m        \u001b[49m\u001b[38;5;28;43mself\u001b[39;49m\u001b[43m,\u001b[49m\u001b[43m \u001b[49m\u001b[43metype\u001b[49m\u001b[43m,\u001b[49m\u001b[43m \u001b[49m\u001b[43mevalue\u001b[49m\u001b[43m,\u001b[49m\u001b[43m \u001b[49m\u001b[43metb\u001b[49m\u001b[43m,\u001b[49m\u001b[43m \u001b[49m\u001b[43mtb_offset\u001b[49m\u001b[43m,\u001b[49m\u001b[43m \u001b[49m\u001b[43mcontext\u001b[49m\n\u001b[32m   1055\u001b[39m \u001b[43m    \u001b[49m\u001b[43m)\u001b[49m\n\u001b[32m   1056\u001b[39m \u001b[38;5;28;01melif\u001b[39;00m mode == \u001b[33m\"\u001b[39m\u001b[33mDocs\u001b[39m\u001b[33m\"\u001b[39m:\n\u001b[32m   1057\u001b[39m     \u001b[38;5;66;03m# return DocTB\u001b[39;00m\n\u001b[32m   1058\u001b[39m     \u001b[38;5;28;01mreturn\u001b[39;00m DocTB(\n\u001b[32m   1059\u001b[39m         theme_name=\u001b[38;5;28mself\u001b[39m._theme_name,\n\u001b[32m   1060\u001b[39m         call_pdb=\u001b[38;5;28mself\u001b[39m.call_pdb,\n\u001b[32m   (...)\u001b[39m\u001b[32m   1068\u001b[39m         etype, evalue, etb, tb_offset, \u001b[32m1\u001b[39m\n\u001b[32m   1069\u001b[39m     )  \u001b[38;5;66;03m# type: ignore[arg-type]\u001b[39;00m\n",
      "\u001b[36mFile \u001b[39m\u001b[32m/opt/miniconda3/lib/python3.13/site-packages/IPython/core/ultratb.py:861\u001b[39m, in \u001b[36mVerboseTB.structured_traceback\u001b[39m\u001b[34m(self, etype, evalue, etb, tb_offset, context)\u001b[39m\n\u001b[32m    852\u001b[39m \u001b[38;5;28;01mdef\u001b[39;00m\u001b[38;5;250m \u001b[39m\u001b[34mstructured_traceback\u001b[39m(\n\u001b[32m    853\u001b[39m     \u001b[38;5;28mself\u001b[39m,\n\u001b[32m    854\u001b[39m     etype: \u001b[38;5;28mtype\u001b[39m,\n\u001b[32m   (...)\u001b[39m\u001b[32m    858\u001b[39m     context: \u001b[38;5;28mint\u001b[39m = \u001b[32m5\u001b[39m,\n\u001b[32m    859\u001b[39m ) -> \u001b[38;5;28mlist\u001b[39m[\u001b[38;5;28mstr\u001b[39m]:\n\u001b[32m    860\u001b[39m \u001b[38;5;250m    \u001b[39m\u001b[33;03m\"\"\"Return a nice text document describing the traceback.\"\"\"\u001b[39;00m\n\u001b[32m--> \u001b[39m\u001b[32m861\u001b[39m     formatted_exceptions: \u001b[38;5;28mlist\u001b[39m[\u001b[38;5;28mlist\u001b[39m[\u001b[38;5;28mstr\u001b[39m]] = \u001b[38;5;28;43mself\u001b[39;49m\u001b[43m.\u001b[49m\u001b[43mformat_exception_as_a_whole\u001b[49m\u001b[43m(\u001b[49m\n\u001b[32m    862\u001b[39m \u001b[43m        \u001b[49m\u001b[43metype\u001b[49m\u001b[43m,\u001b[49m\u001b[43m \u001b[49m\u001b[43mevalue\u001b[49m\u001b[43m,\u001b[49m\u001b[43m \u001b[49m\u001b[43metb\u001b[49m\u001b[43m,\u001b[49m\u001b[43m \u001b[49m\u001b[43mcontext\u001b[49m\u001b[43m,\u001b[49m\u001b[43m \u001b[49m\u001b[43mtb_offset\u001b[49m\n\u001b[32m    863\u001b[39m \u001b[43m    \u001b[49m\u001b[43m)\u001b[49m\n\u001b[32m    865\u001b[39m     termsize = \u001b[38;5;28mmin\u001b[39m(\u001b[32m75\u001b[39m, get_terminal_size()[\u001b[32m0\u001b[39m])\n\u001b[32m    866\u001b[39m     theme = theme_table[\u001b[38;5;28mself\u001b[39m._theme_name]\n",
      "\u001b[36mFile \u001b[39m\u001b[32m/opt/miniconda3/lib/python3.13/site-packages/IPython/core/ultratb.py:746\u001b[39m, in \u001b[36mVerboseTB.format_exception_as_a_whole\u001b[39m\u001b[34m(self, etype, evalue, etb, context, tb_offset)\u001b[39m\n\u001b[32m    744\u001b[39m \u001b[38;5;28;01massert\u001b[39;00m \u001b[38;5;28misinstance\u001b[39m(tb_offset, \u001b[38;5;28mint\u001b[39m)\n\u001b[32m    745\u001b[39m head = \u001b[38;5;28mself\u001b[39m.prepare_header(\u001b[38;5;28mstr\u001b[39m(etype), \u001b[38;5;28mself\u001b[39m.long_header)\n\u001b[32m--> \u001b[39m\u001b[32m746\u001b[39m records = \u001b[38;5;28;43mself\u001b[39;49m\u001b[43m.\u001b[49m\u001b[43mget_records\u001b[49m\u001b[43m(\u001b[49m\u001b[43metb\u001b[49m\u001b[43m,\u001b[49m\u001b[43m \u001b[49m\u001b[43mcontext\u001b[49m\u001b[43m,\u001b[49m\u001b[43m \u001b[49m\u001b[43mtb_offset\u001b[49m\u001b[43m)\u001b[49m \u001b[38;5;28;01mif\u001b[39;00m etb \u001b[38;5;28;01melse\u001b[39;00m []\n\u001b[32m    748\u001b[39m frames = []\n\u001b[32m    749\u001b[39m skipped = \u001b[32m0\u001b[39m\n",
      "\u001b[36mFile \u001b[39m\u001b[32m/opt/miniconda3/lib/python3.13/site-packages/IPython/core/ultratb.py:804\u001b[39m, in \u001b[36mVerboseTB.get_records\u001b[39m\u001b[34m(self, etb, context, tb_offset)\u001b[39m\n\u001b[32m    802\u001b[39m     base_style = theme_table[\u001b[38;5;28mself\u001b[39m._theme_name].as_pygments_style()\n\u001b[32m    803\u001b[39m     style = stack_data.style_with_executing_node(base_style, \u001b[38;5;28mself\u001b[39m.tb_highlight)\n\u001b[32m--> \u001b[39m\u001b[32m804\u001b[39m     formatter = \u001b[43mTerminal256Formatter\u001b[49m\u001b[43m(\u001b[49m\u001b[43mstyle\u001b[49m\u001b[43m=\u001b[49m\u001b[43mstyle\u001b[49m\u001b[43m)\u001b[49m\n\u001b[32m    805\u001b[39m \u001b[38;5;28;01melse\u001b[39;00m:\n\u001b[32m    806\u001b[39m     formatter = \u001b[38;5;28;01mNone\u001b[39;00m\n",
      "\u001b[36mFile \u001b[39m\u001b[32m/opt/miniconda3/lib/python3.13/site-packages/pygments/formatters/terminal256.py:147\u001b[39m, in \u001b[36mTerminal256Formatter.__init__\u001b[39m\u001b[34m(self, **options)\u001b[39m\n\u001b[32m    144\u001b[39m \u001b[38;5;28mself\u001b[39m.useitalic = \u001b[33m'\u001b[39m\u001b[33mnoitalic\u001b[39m\u001b[33m'\u001b[39m \u001b[38;5;129;01mnot\u001b[39;00m \u001b[38;5;129;01min\u001b[39;00m options\n\u001b[32m    146\u001b[39m \u001b[38;5;28mself\u001b[39m._build_color_table()  \u001b[38;5;66;03m# build an RGB-to-256 color conversion table\u001b[39;00m\n\u001b[32m--> \u001b[39m\u001b[32m147\u001b[39m \u001b[38;5;28;43mself\u001b[39;49m\u001b[43m.\u001b[49m\u001b[43m_setup_styles\u001b[49m\u001b[43m(\u001b[49m\u001b[43m)\u001b[49m  \u001b[38;5;66;03m# convert selected style's colors to term. colors\u001b[39;00m\n\u001b[32m    149\u001b[39m \u001b[38;5;28mself\u001b[39m.linenos = options.get(\u001b[33m'\u001b[39m\u001b[33mlinenos\u001b[39m\u001b[33m'\u001b[39m, \u001b[38;5;28;01mFalse\u001b[39;00m)\n\u001b[32m    150\u001b[39m \u001b[38;5;28mself\u001b[39m._lineno = \u001b[32m0\u001b[39m\n",
      "\u001b[36mFile \u001b[39m\u001b[32m/opt/miniconda3/lib/python3.13/site-packages/pygments/formatters/terminal256.py:225\u001b[39m, in \u001b[36mTerminal256Formatter._setup_styles\u001b[39m\u001b[34m(self)\u001b[39m\n\u001b[32m    224\u001b[39m \u001b[38;5;28;01mdef\u001b[39;00m\u001b[38;5;250m \u001b[39m\u001b[34m_setup_styles\u001b[39m(\u001b[38;5;28mself\u001b[39m):\n\u001b[32m--> \u001b[39m\u001b[32m225\u001b[39m \u001b[43m    \u001b[49m\u001b[38;5;28;43;01mfor\u001b[39;49;00m\u001b[43m \u001b[49m\u001b[43mttype\u001b[49m\u001b[43m,\u001b[49m\u001b[43m \u001b[49m\u001b[43mndef\u001b[49m\u001b[43m \u001b[49m\u001b[38;5;129;43;01min\u001b[39;49;00m\u001b[43m \u001b[49m\u001b[38;5;28;43mself\u001b[39;49m\u001b[43m.\u001b[49m\u001b[43mstyle\u001b[49m\u001b[43m:\u001b[49m\n\u001b[32m    226\u001b[39m \u001b[43m        \u001b[49m\u001b[43mescape\u001b[49m\u001b[43m \u001b[49m\u001b[43m=\u001b[49m\u001b[43m \u001b[49m\u001b[43mEscapeSequence\u001b[49m\u001b[43m(\u001b[49m\u001b[43m)\u001b[49m\n\u001b[32m    227\u001b[39m \u001b[43m        \u001b[49m\u001b[38;5;66;43;03m# get foreground from ansicolor if set\u001b[39;49;00m\n",
      "\u001b[36mFile \u001b[39m\u001b[32m/opt/miniconda3/lib/python3.13/site-packages/pygments/style.py:164\u001b[39m, in \u001b[36mStyleMeta.__iter__\u001b[39m\u001b[34m(cls)\u001b[39m\n\u001b[32m    162\u001b[39m \u001b[38;5;28;01mdef\u001b[39;00m\u001b[38;5;250m \u001b[39m\u001b[34m__iter__\u001b[39m(\u001b[38;5;28mcls\u001b[39m):\n\u001b[32m    163\u001b[39m     \u001b[38;5;28;01mfor\u001b[39;00m token \u001b[38;5;129;01min\u001b[39;00m \u001b[38;5;28mcls\u001b[39m._styles:\n\u001b[32m--> \u001b[39m\u001b[32m164\u001b[39m         \u001b[38;5;28;01myield\u001b[39;00m token, \u001b[38;5;28;43mcls\u001b[39;49m\u001b[43m.\u001b[49m\u001b[43mstyle_for_token\u001b[49m\u001b[43m(\u001b[49m\u001b[43mtoken\u001b[49m\u001b[43m)\u001b[49m\n",
      "\u001b[36mFile \u001b[39m\u001b[32m/opt/miniconda3/lib/python3.13/site-packages/pygments/style.py:126\u001b[39m, in \u001b[36mStyleMeta.style_for_token\u001b[39m\u001b[34m(cls, token)\u001b[39m\n\u001b[32m    122\u001b[39m                     ndef[\u001b[32m0\u001b[39m] = colorformat(styledef)\n\u001b[32m    124\u001b[39m     \u001b[38;5;28;01mreturn\u001b[39;00m obj\n\u001b[32m--> \u001b[39m\u001b[32m126\u001b[39m \u001b[38;5;28;01mdef\u001b[39;00m\u001b[38;5;250m \u001b[39m\u001b[34mstyle_for_token\u001b[39m(\u001b[38;5;28mcls\u001b[39m, token):\n\u001b[32m    127\u001b[39m     t = \u001b[38;5;28mcls\u001b[39m._styles[token]\n\u001b[32m    128\u001b[39m     ansicolor = bgansicolor = \u001b[38;5;28;01mNone\u001b[39;00m\n",
      "\u001b[31mKeyboardInterrupt\u001b[39m: "
     ]
    }
   ],
   "source": [
    "# what happens in background: \n",
    "nums=[1,2,3,4]\n",
    "# step 1: converts iterable to iterator\n",
    "iter_num= iter(nums)\n",
    "# step2: use next() func for iteration\n",
    "print(next(iter_num)) # 1\n",
    "print(next(iter_num)) # 2\n",
    "print(next(iter_num)) # 3\n",
    "print(next(iter_num)) # 4\n",
    "# step 3: as soon as next(iter_nums) throw StopIteration error for loop will stop\n",
    "print(next(iter_num)) # it will throw StopIteration error"
   ]
  },
  {
   "cell_type": "code",
   "execution_count": null,
   "id": "ffff2aab",
   "metadata": {},
   "outputs": [
    {
     "name": "stdout",
     "output_type": "stream",
     "text": [
      "1\n",
      "2\n",
      "3\n",
      "4\n"
     ]
    }
   ],
   "source": [
    "# making our own for loop:\n",
    "def mera_for_loop(iterable): \n",
    "    iterator= iter(iterable) # step1 \n",
    "    while True:\n",
    "        try:  # step 2\n",
    "            print(next(iterator)) \n",
    "        except StopIteration: # step 3\n",
    "            break\n",
    "\n",
    "nums=[1,2,3,4]\n",
    "mera_for_loop(nums)"
   ]
  },
  {
   "cell_type": "markdown",
   "id": "5f904eb4",
   "metadata": {},
   "source": [
    " Question: When to iterator object in real time? \n",
    " Ans: When we want a create a function on which we can run a loop."
   ]
  },
  {
   "cell_type": "code",
   "execution_count": null,
   "id": "e5f2ad3f",
   "metadata": {},
   "outputs": [],
   "source": [
    "# Creating our own range function? \n",
    "\n",
    "class mera_range():\n",
    "    \n",
    "    def __init__(self, start, stop): # constructor eg: abc= mera_range(10, 20), you can think self will be abc\n",
    "        self.start= start \n",
    "        self. stop= stop\n",
    "\n",
    "    def __iter__(self):\n",
    "        return mera_range_iterator(self)\n",
    "\n",
    "class mera_range_iterator:\n",
    "    \n",
    "    def __init__(self,iterable_object): # Here self will be object of mera_range_iterator and \n",
    "                                        # iterable object will be object of mera_range (i.e mera_range self)\n",
    "        self.iterable= iterable_object\n",
    "\n",
    "    def __iter__(self):\n",
    "        return self\n",
    "\n",
    "    def __next__(self):\n",
    "        if self.iterable.start >= self.iterable.stop:\n",
    "            raise StopIteration\n",
    "        current= self.iterable.start \n",
    "        self.iterable.start+=1\n",
    "        return current\n",
    "    \n",
    "    \"\"\"\n",
    "    Question: Why we do we need mera_range_itetor?? Ideally we are able to do it in one function only.\n",
    "    So what happens is if run a= [1,2,3] and b=list(a) it will create two different id's or will point to two different places in the memory,\n",
    "    but here by doing mera_range_iterator's iter function, when we do a=iter(nums) b= iter(a) they both returns same id thus giving same location in memory. \n",
    "    Thus, it case someone tries to convert already iterator to iterator again we are not occupying the space. This is one of functionality of iter(). \n",
    "    Similar concept is being used for generator as well. \n",
    "    \"\"\""
   ]
  },
  {
   "cell_type": "code",
   "execution_count": null,
   "id": "0fe5de49",
   "metadata": {},
   "outputs": [
    {
     "name": "stdout",
     "output_type": "stream",
     "text": [
      "4474775872\n",
      "4474870016\n"
     ]
    }
   ],
   "source": [
    "nums=[1,2,3]\n",
    "print(id(nums)) \n",
    "a= list(nums) # here we applying list to existing list, and we see that id's are different. \n",
    "print(id(a))"
   ]
  },
  {
   "cell_type": "code",
   "execution_count": null,
   "id": "7dabd5f4",
   "metadata": {},
   "outputs": [
    {
     "name": "stdout",
     "output_type": "stream",
     "text": [
      "4474560640\n",
      "4474560640\n"
     ]
    }
   ],
   "source": [
    "nums=[1,2,3]\n",
    "a= iter(nums)\n",
    "print(id(a))\n",
    "b= iter(a) # id of a and b is same, that is because when we apply iter on iterator, id doesnt change, it returns itself.\n",
    "    # Thus, this helps with memory saving, as rather creating a different object, iter function is returning itself. \n",
    "print(id(b))"
   ]
  },
  {
   "cell_type": "code",
   "execution_count": 14,
   "id": "8a0e1e6f",
   "metadata": {},
   "outputs": [
    {
     "name": "stdout",
     "output_type": "stream",
     "text": [
      "1\n",
      "2\n",
      "3\n",
      "4\n",
      "5\n",
      "6\n",
      "7\n",
      "8\n",
      "9\n"
     ]
    }
   ],
   "source": [
    "for i in mera_range(1,10):\n",
    "    print(i)"
   ]
  },
  {
   "cell_type": "markdown",
   "id": "0d91d2a4",
   "metadata": {},
   "source": [
    "# Generator"
   ]
  },
  {
   "cell_type": "markdown",
   "id": "cd144915",
   "metadata": {},
   "source": [
    "- Python generators are simple way to create iterators. \n",
    "- Create a function, instead of return use yeild.\n",
    "\n",
    "Question: What is difference between iterator and generator?? \n",
    "\n",
    "Ans: Iterator is an object that only uses memory when called and deletes after execution, Generators are used to create iterator object. "
   ]
  },
  {
   "cell_type": "code",
   "execution_count": 1,
   "id": "666b7a56",
   "metadata": {},
   "outputs": [],
   "source": [
    "def gen_demo():\n",
    "    yield 'first'\n",
    "    yield 'second'\n",
    "    yield 'third'"
   ]
  },
  {
   "cell_type": "code",
   "execution_count": null,
   "id": "bddbe0b7",
   "metadata": {},
   "outputs": [
    {
     "name": "stdout",
     "output_type": "stream",
     "text": [
      "first\n",
      "second\n",
      "third\n"
     ]
    },
    {
     "ename": "StopIteration",
     "evalue": "",
     "output_type": "error",
     "traceback": [
      "\u001b[31m---------------------------------------------------------------------------\u001b[39m",
      "\u001b[31mStopIteration\u001b[39m                             Traceback (most recent call last)",
      "\u001b[36mCell\u001b[39m\u001b[36m \u001b[39m\u001b[32mIn[5]\u001b[39m\u001b[32m, line 6\u001b[39m\n\u001b[32m      4\u001b[39m \u001b[38;5;28mprint\u001b[39m(\u001b[38;5;28mnext\u001b[39m(gen))\n\u001b[32m      5\u001b[39m \u001b[38;5;28mprint\u001b[39m(\u001b[38;5;28mnext\u001b[39m(gen))\n\u001b[32m----> \u001b[39m\u001b[32m6\u001b[39m \u001b[38;5;28mprint\u001b[39m(\u001b[38;5;28;43mnext\u001b[39;49m\u001b[43m(\u001b[49m\u001b[43mgen\u001b[49m\u001b[43m)\u001b[49m)\n",
      "\u001b[31mStopIteration\u001b[39m: "
     ]
    }
   ],
   "source": [
    "gen= gen_demo() # here gen is iterator\n",
    "\n",
    "print(next(gen))\n",
    "print(next(gen))\n",
    "print(next(gen))\n",
    "print(next(gen))"
   ]
  },
  {
   "cell_type": "code",
   "execution_count": null,
   "id": "62211f02",
   "metadata": {},
   "outputs": [
    {
     "name": "stdout",
     "output_type": "stream",
     "text": [
      "first\n",
      "second\n",
      "third\n"
     ]
    }
   ],
   "source": [
    "# you could run for loop on gen as well\n",
    "\n",
    "gen= gen_demo()\n",
    "\n",
    "for i in gen:\n",
    "    print(i) "
   ]
  },
  {
   "cell_type": "code",
   "execution_count": 9,
   "id": "2be12006",
   "metadata": {},
   "outputs": [],
   "source": [
    "# write a generator to create square of number in range provided by user \n",
    "def square(num):\n",
    "    for i in range(num):\n",
    "        yield i**2"
   ]
  },
  {
   "cell_type": "code",
   "execution_count": 10,
   "id": "fa76c428",
   "metadata": {},
   "outputs": [
    {
     "name": "stdout",
     "output_type": "stream",
     "text": [
      "0\n",
      "1\n",
      "4\n",
      "9\n",
      "16\n",
      "25\n",
      "36\n",
      "49\n",
      "64\n",
      "81\n"
     ]
    }
   ],
   "source": [
    "for i in square(10):\n",
    "    print(i)"
   ]
  },
  {
   "cell_type": "code",
   "execution_count": 20,
   "id": "7fe2dde2",
   "metadata": {},
   "outputs": [],
   "source": [
    "# Range with generator\n",
    "def mera_range_gen(start,stop): \n",
    "    while start< stop:\n",
    "        current= start\n",
    "        start+=1 \n",
    "        yield current"
   ]
  },
  {
   "cell_type": "code",
   "execution_count": 21,
   "id": "3a4adc10",
   "metadata": {},
   "outputs": [
    {
     "name": "stdout",
     "output_type": "stream",
     "text": [
      "0\n",
      "1\n",
      "2\n",
      "3\n",
      "4\n",
      "5\n",
      "6\n",
      "7\n",
      "8\n",
      "9\n"
     ]
    }
   ],
   "source": [
    "for i in mera_range_gen(0,10):\n",
    "    print(i)"
   ]
  },
  {
   "cell_type": "markdown",
   "id": "76fa37ca",
   "metadata": {},
   "source": [
    "# Generator Expression"
   ]
  },
  {
   "cell_type": "code",
   "execution_count": 22,
   "id": "5aa18748",
   "metadata": {},
   "outputs": [
    {
     "data": {
      "text/plain": [
       "[1, 2, 3, 4, 5, 6, 7, 8, 9]"
      ]
     },
     "execution_count": 22,
     "metadata": {},
     "output_type": "execute_result"
    }
   ],
   "source": [
    "# List Comprehension\n",
    "\n",
    "l= [i for i in range(1,10)]\n",
    "l"
   ]
  },
  {
   "cell_type": "code",
   "execution_count": 23,
   "id": "ef9e77e7",
   "metadata": {},
   "outputs": [
    {
     "data": {
      "text/plain": [
       "<generator object <genexpr> at 0x107327a00>"
      ]
     },
     "execution_count": 23,
     "metadata": {},
     "output_type": "execute_result"
    }
   ],
   "source": [
    "# Generator expression\n",
    "\n",
    "g= (i for i in range(1,10))\n",
    "g"
   ]
  },
  {
   "cell_type": "markdown",
   "id": "2d5936b3",
   "metadata": {},
   "source": [
    "### Tip: Whenever we want to extract values for generator | iterator object we can use:\n",
    "- for loop\n",
    "- next function\n",
    "- wrap it with iterable object (eg: list, tuple etc)"
   ]
  },
  {
   "cell_type": "code",
   "execution_count": 31,
   "id": "4659a499",
   "metadata": {},
   "outputs": [],
   "source": [
    "# !pip install opencv-python\n",
    "# !pip install matplotlib"
   ]
  },
  {
   "cell_type": "code",
   "execution_count": 32,
   "id": "011fc6ed",
   "metadata": {},
   "outputs": [],
   "source": [
    "# using emotion detection files from kaggle it has over 1000 images \n",
    "import os \n",
    "import cv2 \n",
    "\n",
    "def image_data_read(folder_path):\n",
    "\n",
    "    for file in os.listdir(folder_path):\n",
    "        f_array= cv2.imread(os.path.join(folder_path, file))\n",
    "        yield f_array\n",
    "\n"
   ]
  },
  {
   "cell_type": "code",
   "execution_count": 33,
   "id": "36f51c2f",
   "metadata": {},
   "outputs": [],
   "source": [
    "gen= image_data_read('/Users/vrunda/Desktop/Data_Science_Code_N_Debug/Dataset/Emotion Dataset/test/angry')"
   ]
  },
  {
   "cell_type": "code",
   "execution_count": 39,
   "id": "b0012ee0",
   "metadata": {},
   "outputs": [],
   "source": [
    "image= next(gen)"
   ]
  },
  {
   "cell_type": "code",
   "execution_count": 37,
   "id": "b59946ed",
   "metadata": {},
   "outputs": [
    {
     "data": {
      "text/plain": [
       "(48, 48, 3)"
      ]
     },
     "execution_count": 37,
     "metadata": {},
     "output_type": "execute_result"
    }
   ],
   "source": [
    "image.shape"
   ]
  },
  {
   "cell_type": "code",
   "execution_count": 40,
   "id": "2aaf5cb3",
   "metadata": {},
   "outputs": [
    {
     "data": {
      "text/plain": [
       "<matplotlib.image.AxesImage at 0x1187aa710>"
      ]
     },
     "execution_count": 40,
     "metadata": {},
     "output_type": "execute_result"
    },
    {
     "data": {
      "image/png": "[encoded data removed]",
      "text/plain": [
       "<Figure size 640x480 with 1 Axes>"
      ]
     },
     "metadata": {},
     "output_type": "display_data"
    }
   ],
   "source": [
    "import matplotlib.pyplot as plt\n",
    "plt.imshow(image)"
   ]
  },
  {
   "cell_type": "code",
   "execution_count": null,
   "id": "37722c8c",
   "metadata": {},
   "outputs": [],
   "source": [
    "# Thus we can run our model through all the image will using memory of one image at a time.\n",
    "\n",
    "#  for i in gen: \n",
    "#    model.fit(i)"
   ]
  },
  {
   "cell_type": "markdown",
   "id": "b553bea6",
   "metadata": {},
   "source": [
    "### Benifits of Generators"
   ]
  },
  {
   "cell_type": "markdown",
   "id": "2755f19d",
   "metadata": {},
   "source": [
    "1. Ease of implementation\n",
    "2. Memory efficient\n",
    "3. Representing infite series (while True) (keep using next as many times as you want, without memory overflow.)\n",
    "4. Chaining generators. "
   ]
  },
  {
   "cell_type": "code",
   "execution_count": 43,
   "id": "8f5757b7",
   "metadata": {},
   "outputs": [],
   "source": [
    "# Chaining generators: \n",
    "\n",
    "def fib(nums):\n",
    "    x,y=0,1\n",
    "    for i in range(nums):\n",
    "        x,y= y,x+y\n",
    "        yield x\n",
    "\n",
    "\n",
    "def square(nums):\n",
    "    for x in nums: \n",
    "        yield x**2 "
   ]
  },
  {
   "cell_type": "code",
   "execution_count": 44,
   "id": "fa7dee64",
   "metadata": {},
   "outputs": [
    {
     "name": "stdout",
     "output_type": "stream",
     "text": [
      "4895\n"
     ]
    }
   ],
   "source": [
    "print(sum(square(fib(10))))"
   ]
  }
 ],
 "metadata": {
  "kernelspec": {
   "display_name": "base",
   "language": "python",
   "name": "python3"
  },
  "language_info": {
   "codemirror_mode": {
    "name": "ipython",
    "version": 3
   },
   "file_extension": ".py",
   "mimetype": "text/x-python",
   "name": "python",
   "nbconvert_exporter": "python",
   "pygments_lexer": "ipython3",
   "version": "3.13.2"
  }
 },
 "nbformat": 4,
 "nbformat_minor": 5
}
