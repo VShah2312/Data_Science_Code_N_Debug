{
 "cells": [
  {
   "cell_type": "markdown",
   "id": "0a90743a",
   "metadata": {},
   "source": [
    "# What are iteration? (process)\n",
    "\n",
    "Iteration is a general term for taking each item of something, one after another. Any time you use a loop, explicit or implicit, to go over a group of items, that is iteration. "
   ]
  },
  {
   "cell_type": "code",
   "execution_count": null,
   "id": "4b7b330a",
   "metadata": {},
   "outputs": [
    {
     "name": "stdout",
     "output_type": "stream",
     "text": [
      "1\n",
      "2\n",
      "3\n"
     ]
    }
   ],
   "source": [
    "# Example:  loops -> iters on a sequence \n",
    "\n",
    "num= [1,2,3]\n",
    "\n",
    "for i in num: \n",
    "    print(i)"
   ]
  },
  {
   "cell_type": "markdown",
   "id": "a14084c9",
   "metadata": {},
   "source": [
    "# What is iterator? (concept)\n",
    "An iterator is an object that allows the programmer to traverse through a sequence of data without having to store the entire data in the memory. \n",
    "\n",
    "so basically iterator bring i into memory, uses it and deletes it, thus we are only occupying space of one object at a time. \n",
    "* 1 -> memory -> deletes \n",
    "* 2 -> memory -> deletes \n",
    "* 3 -> memory -> deletes "
   ]
  },
  {
   "cell_type": "code",
   "execution_count": null,
   "id": "0c6b5412",
   "metadata": {},
   "outputs": [
    {
     "data": {
      "text/plain": [
       "0.046875"
      ]
     },
     "execution_count": 7,
     "metadata": {},
     "output_type": "execute_result"
    }
   ],
   "source": [
    "# 1- 1000000 and mul by 2 \n",
    "import sys \n",
    "\n",
    "L = [x for x in range(1, 100000)]\n",
    "\n",
    "# for i in L: \n",
    "#     print(i*2)\n",
    "\n",
    "\n",
    "# How much memory did we use? \n",
    "sys.getsizeof(L)/1024 # Almost 8 mb\n",
    "\n",
    "# How much memory did x use? \n",
    "x = range(1,10000000)\n",
    "sys.getsizeof(x)/1024 # 0.04 mb\n",
    "\n",
    "# Q: Why such a huge difference? \n",
    "# As L is list occupying whole space in your memory, where as x is an iterator, will use one at a time.\n",
    "# Memory of L increase as max of range increase, but memory of x will remain same. \n"
   ]
  },
  {
   "cell_type": "code",
   "execution_count": null,
   "id": "3e60a6ab",
   "metadata": {},
   "outputs": [
    {
     "data": {
      "text/plain": [
       "range(0, 10)"
      ]
     },
     "execution_count": 8,
     "metadata": {},
     "output_type": "execute_result"
    }
   ],
   "source": [
    "range(10) # gives answer in iterator form. To save memory, rather than list or tuple etc. \n",
    "# even zip func is a iterator. \n",
    "# map(func, iterable) -> return iterable, we have to use list on top of it "
   ]
  },
  {
   "cell_type": "code",
   "execution_count": 12,
   "id": "a20a41ed",
   "metadata": {},
   "outputs": [
    {
     "name": "stdout",
     "output_type": "stream",
     "text": [
      "[(1, 5), (2, 6), (3, 7)]\n"
     ]
    }
   ],
   "source": [
    "print(list(zip([1,2,3], [5,6,7])))"
   ]
  },
  {
   "cell_type": "markdown",
   "id": "364720f1",
   "metadata": {},
   "source": [
    "# What is iterable? \n",
    "\n",
    "Iterable is an object, which one can iterate over. \n",
    "It generates an iterator when passed to iter() method. \n",
    "\n",
    "Data type that are iterable:\n",
    "* string\n",
    "* tuple \n",
    "* set \n",
    "* dict \n",
    "* list"
   ]
  },
  {
   "cell_type": "markdown",
   "id": "9fbaae07",
   "metadata": {},
   "source": [
    "### Point to remember\n",
    "- To convert any iterable object to iterator (pass it through iter())\n",
    "- Every Iterator is also and Iterable\n",
    "- Not all Iterables are Iterator\n",
    "\n",
    "## Trick\n",
    "- Every Iterable has an iter function\n",
    "- Every Iterator has both iter function as well as a next function"
   ]
  },
  {
   "cell_type": "code",
   "execution_count": null,
   "id": "f4ed6bd4",
   "metadata": {},
   "outputs": [
    {
     "name": "stdout",
     "output_type": "stream",
     "text": [
      "<list_iterator object at 0x104bcbee0>\n"
     ]
    }
   ],
   "source": [
    "L= [1,2,3] # List \n",
    "print(iter(L)) # now its iterator. "
   ]
  },
  {
   "cell_type": "code",
   "execution_count": null,
   "id": "686eec7f",
   "metadata": {},
   "outputs": [
    {
     "name": "stdout",
     "output_type": "stream",
     "text": [
      "['__add__', '__class__', '__class_getitem__', '__contains__', '__delattr__', '__delitem__', '__dir__', '__doc__', '__eq__', '__format__', '__ge__', '__getattribute__', '__getitem__', '__getstate__', '__gt__', '__hash__', '__iadd__', '__imul__', '__init__', '__init_subclass__', '__iter__', '__le__', '__len__', '__lt__', '__mul__', '__ne__', '__new__', '__reduce__', '__reduce_ex__', '__repr__', '__reversed__', '__rmul__', '__setattr__', '__setitem__', '__sizeof__', '__str__', '__subclasshook__', 'append', 'clear', 'copy', 'count', 'extend', 'index', 'insert', 'pop', 'remove', 'reverse', 'sort']\n",
      "['__class__', '__delattr__', '__dir__', '__doc__', '__eq__', '__format__', '__ge__', '__getattribute__', '__getstate__', '__gt__', '__hash__', '__init__', '__init_subclass__', '__iter__', '__le__', '__lt__', '__ne__', '__new__', '__next__', '__reduce__', '__reduce_ex__', '__repr__', '__setattr__', '__setstate__', '__sizeof__', '__str__', '__subclasshook__']\n"
     ]
    }
   ],
   "source": [
    "# How to check if something iterator or iterable\n",
    "\n",
    "k= [1,2,3]\n",
    "print(dir(k)) # if only iter available then its only iterable. \n",
    "a= (zip([1,2,3], [5,6,7]))\n",
    "print(dir(a)) # __next___ is also available then its iterator. "
   ]
  }
 ],
 "metadata": {
  "kernelspec": {
   "display_name": "base",
   "language": "python",
   "name": "python3"
  },
  "language_info": {
   "codemirror_mode": {
    "name": "ipython",
    "version": 3
   },
   "file_extension": ".py",
   "mimetype": "text/x-python",
   "name": "python",
   "nbconvert_exporter": "python",
   "pygments_lexer": "ipython3",
   "version": "3.13.2"
  }
 },
 "nbformat": 4,
 "nbformat_minor": 5
}
