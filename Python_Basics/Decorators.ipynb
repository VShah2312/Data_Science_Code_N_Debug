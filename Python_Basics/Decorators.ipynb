{
 "cells": [
  {
   "cell_type": "markdown",
   "id": "d20f8fa7",
   "metadata": {},
   "source": [
    "# Decorators\n",
    "\n",
    "A decorator in python is function that recieves another function as input and adds some functionality (decoration) to it and returns it. \n",
    "This can only happen only becaus python functions are 1st class citizens. \n",
    "There are 2 types of decorators avaiable in python: \n",
    "- Built in decorators like @staticmethod, @classmethod, @abstractmethod and @property etc. \n",
    "- User defined decorators that we can develop as per our needs. "
   ]
  },
  {
   "cell_type": "code",
   "execution_count": 2,
   "id": "7a1aedff",
   "metadata": {},
   "outputs": [
    {
     "data": {
      "text/plain": [
       "'\\n- variable\\n- pass as an arg to another function\\n- return from another function\\n- store in list, dict etc \\n- think of treating functions like a variable. \\n'"
      ]
     },
     "execution_count": 2,
     "metadata": {},
     "output_type": "execute_result"
    }
   ],
   "source": [
    "# Question: What does it mean that function are first class citizen? \n",
    "\"\"\"\n",
    "- variable\n",
    "- pass as an arg to another function\n",
    "- return from another function\n",
    "- store in list, dict etc \n",
    "- think of treating functions like a variable. \n",
    "\"\"\""
   ]
  },
  {
   "cell_type": "code",
   "execution_count": 8,
   "id": "f05f421b",
   "metadata": {},
   "outputs": [
    {
     "name": "stdout",
     "output_type": "stream",
     "text": [
      "hello\n"
     ]
    },
    {
     "ename": "NameError",
     "evalue": "name 'test' is not defined",
     "output_type": "error",
     "traceback": [
      "\u001b[31m---------------------------------------------------------------------------\u001b[39m",
      "\u001b[31mNameError\u001b[39m                                 Traceback (most recent call last)",
      "\u001b[36mCell\u001b[39m\u001b[36m \u001b[39m\u001b[32mIn[8]\u001b[39m\u001b[32m, line 8\u001b[39m\n\u001b[32m      5\u001b[39m a() \u001b[38;5;66;03m# executing variable as function here.\u001b[39;00m\n\u001b[32m      7\u001b[39m \u001b[38;5;28;01mdel\u001b[39;00m test \u001b[38;5;66;03m# deleting function\u001b[39;00m\n\u001b[32m----> \u001b[39m\u001b[32m8\u001b[39m a= \u001b[43mtest\u001b[49m\n",
      "\u001b[31mNameError\u001b[39m: name 'test' is not defined"
     ]
    }
   ],
   "source": [
    "def test():\n",
    "    print('hello')\n",
    "\n",
    "a= test # saved function as variable here.\n",
    "a() # executing variable as function here.\n",
    "\n",
    "del test # deleting function\n",
    "a= test"
   ]
  },
  {
   "cell_type": "code",
   "execution_count": 11,
   "id": "91343c7b",
   "metadata": {},
   "outputs": [
    {
     "data": {
      "text/plain": [
       "'hello'"
      ]
     },
     "execution_count": 11,
     "metadata": {},
     "output_type": "execute_result"
    }
   ],
   "source": [
    "def shout(text): \n",
    "    return text.upper()\n",
    "\n",
    "def whisper(text): \n",
    "    return text.lower()\n",
    "def greet(func, message): \n",
    "    return func(message)\n",
    "\n",
    "greet(shout, 'hello') # here we are passing functions as a parameter\n",
    "greet(whisper, 'hello')"
   ]
  },
  {
   "cell_type": "code",
   "execution_count": null,
   "id": "a1572108",
   "metadata": {},
   "outputs": [
    {
     "name": "stdout",
     "output_type": "stream",
     "text": [
      "[0, 0]\n",
      "[1, 1]\n",
      "[4, 8]\n",
      "[9, 27]\n",
      "[16, 64]\n",
      "[25, 125]\n"
     ]
    }
   ],
   "source": [
    "def square(n): \n",
    "    return n*n\n",
    "def cube(n): \n",
    "    return n*n*n\n",
    "\n",
    "a=[square, cube]\n",
    "\n",
    "for i in range(6):\n",
    "    val= list(map(lambda x: x(i), a)) # map is function that applies a function to every item in a iterable, then we are coverting it into a list. \n",
    "    print(val)"
   ]
  },
  {
   "cell_type": "markdown",
   "id": "d766681c",
   "metadata": {},
   "source": [
    "### User defined Decorators "
   ]
  },
  {
   "cell_type": "code",
   "execution_count": null,
   "id": "80967fb8",
   "metadata": {},
   "outputs": [
    {
     "name": "stdout",
     "output_type": "stream",
     "text": [
      "********************\n",
      "bye\n",
      "********************\n",
      "********************\n",
      "hello\n",
      "********************\n"
     ]
    }
   ],
   "source": [
    "# Simple Decorator\n",
    "# Usee python tutor to visualize it. \n",
    "\n",
    "# Correct way to do: \n",
    "def my_decorator(func): # Closer concept \n",
    "    def wrapper():\n",
    "        print('*'*20)\n",
    "        func()\n",
    "        print('*'*20)\n",
    "    return wrapper \n",
    "\n",
    "def hello():\n",
    "    print('hello')\n",
    "\n",
    "def greet():\n",
    "    print('bye')\n",
    "\n",
    "b= my_decorator(greet)\n",
    "b()\n",
    "\n",
    "a= my_decorator(hello)\n",
    "a()\n",
    "\n"
   ]
  },
  {
   "cell_type": "code",
   "execution_count": null,
   "id": "89a6de5c",
   "metadata": {},
   "outputs": [
    {
     "name": "stdout",
     "output_type": "stream",
     "text": [
      "********************\n",
      "bye\n",
      "********************\n",
      "********************\n",
      "hello\n",
      "********************\n"
     ]
    },
    {
     "data": {
      "text/plain": [
       "'\\nMethod 1 returns a function you can use later.\\nMethod 2 runs right away and gives you nothing to use again.\\n'"
      ]
     },
     "execution_count": 49,
     "metadata": {},
     "output_type": "execute_result"
    }
   ],
   "source": [
    "# Incorrect way to do:\n",
    "def my_decorator(func):\n",
    "    print('*'*20)\n",
    "    func()\n",
    "    print('*'*20) \n",
    "\n",
    "def hello():\n",
    "    print('hello')\n",
    "\n",
    "def greet():\n",
    "    print('bye')\n",
    "\n",
    "b= my_decorator(greet)\n",
    "b\n",
    "\n",
    "a= my_decorator(hello)\n",
    "a\n",
    "\n",
    "\"\"\"\n",
    "Method 1 returns a function you can use later.\n",
    "Method 2 runs right away and gives you nothing to use again.\n",
    "\"\"\""
   ]
  },
  {
   "cell_type": "code",
   "execution_count": null,
   "id": "2dfd770e",
   "metadata": {},
   "outputs": [
    {
     "name": "stdout",
     "output_type": "stream",
     "text": [
      "5\n"
     ]
    }
   ],
   "source": [
    "def outer(): # global space\n",
    "    a=5 \n",
    "    def inner(): \n",
    "        print(a)\n",
    "    return inner\n",
    "def test(): \n",
    "    a= 5\n",
    "    b=6 \n",
    "test()\n",
    "# as soon as test is excuted all the local variables of test function will be deleted. \n",
    "\n",
    "b= outer() # -> inner\n",
    "b() #- inner(), we are out of outer, so ideally it should have deleted all the variables of outer but that wont happen here. \n",
    "# inner has no local scope for a, so it go for enclosed scope next and print that. \n",
    "\n",
    "# This is due to closure property, i.e a child func can access all the variable of parent, even parent is not existing in the memory. "
   ]
  },
  {
   "cell_type": "code",
   "execution_count": 57,
   "id": "70a26d2d",
   "metadata": {},
   "outputs": [
    {
     "name": "stdout",
     "output_type": "stream",
     "text": [
      "********************\n",
      "1\n",
      "********************\n",
      "********************\n",
      "2\n",
      "********************\n"
     ]
    }
   ],
   "source": [
    "def my_decorator(func): # Closer concept \n",
    "    def wrapper():\n",
    "        print('*'*20)\n",
    "        print(func)\n",
    "        print('*'*20)\n",
    "    return wrapper \n",
    "\n",
    "def func1(a):\n",
    "    return a\n",
    "\n",
    "def func2(a):\n",
    "    return a\n",
    "\n",
    "b= my_decorator(func1(1))\n",
    "b()\n",
    "\n",
    "a= my_decorator(func2(2))\n",
    "a()"
   ]
  },
  {
   "cell_type": "code",
   "execution_count": null,
   "id": "4e67a290",
   "metadata": {},
   "outputs": [
    {
     "name": "stdout",
     "output_type": "stream",
     "text": [
      "********************\n",
      "hello\n",
      "********************\n",
      "********************\n",
      "bye\n",
      "********************\n"
     ]
    }
   ],
   "source": [
    "# Better syntax: \n",
    "def my_decorator(func): # Closure property \n",
    "    def wrapper():\n",
    "        print('*'*20)\n",
    "        func()\n",
    "        print('*'*20)\n",
    "    return wrapper \n",
    "\n",
    "@my_decorator\n",
    "def hello():\n",
    "    print('hello')\n",
    "\n",
    "@my_decorator\n",
    "def greet():\n",
    "    print('bye')\n",
    "\n",
    "hello() # calling only function\n",
    "greet()"
   ]
  },
  {
   "cell_type": "code",
   "execution_count": null,
   "id": "0ecadff6",
   "metadata": {},
   "outputs": [
    {
     "name": "stdout",
     "output_type": "stream",
     "text": [
      "********************\n",
      "hello\n",
      "********************\n",
      "********************\n",
      "bye\n",
      "********************\n"
     ]
    },
    {
     "ename": "TypeError",
     "evalue": "'NoneType' object is not callable",
     "output_type": "error",
     "traceback": [
      "\u001b[31m---------------------------------------------------------------------------\u001b[39m",
      "\u001b[31mTypeError\u001b[39m                                 Traceback (most recent call last)",
      "\u001b[36mCell\u001b[39m\u001b[36m \u001b[39m\u001b[32mIn[73]\u001b[39m\u001b[32m, line 16\u001b[39m\n\u001b[32m     12\u001b[39m \u001b[38;5;129m@my_decorator\u001b[39m\n\u001b[32m     13\u001b[39m \u001b[38;5;28;01mdef\u001b[39;00m\u001b[38;5;250m \u001b[39m\u001b[34mgreet\u001b[39m():\n\u001b[32m     14\u001b[39m     \u001b[38;5;28mprint\u001b[39m(\u001b[33m'\u001b[39m\u001b[33mbye\u001b[39m\u001b[33m'\u001b[39m)\n\u001b[32m---> \u001b[39m\u001b[32m16\u001b[39m \u001b[43mhello\u001b[49m\u001b[43m(\u001b[49m\u001b[43m)\u001b[49m\n\u001b[32m     18\u001b[39m \u001b[38;5;66;03m# Now you can see it excuted decorator immediately and didnt wait for us to call functions, ideally greet function shouldnt have executed. \u001b[39;00m\n",
      "\u001b[31mTypeError\u001b[39m: 'NoneType' object is not callable"
     ]
    }
   ],
   "source": [
    "# Why incorrect way to do: \n",
    "def my_decorator(func):\n",
    "    print('*'*20)\n",
    "    func()\n",
    "    print('*'*20)\n",
    "    return None  \n",
    "\n",
    "@my_decorator\n",
    "def hello():\n",
    "    print('hello')\n",
    "\n",
    "@my_decorator\n",
    "def greet():\n",
    "    print('bye')\n",
    "\n",
    "hello()\n",
    "\n",
    "# Now you can see it excuted decorator immediately and didnt wait for us to call functions, ideally greet function shouldnt have executed, we didnt call it. \n",
    "# More over hello function on calling is throwing error. i.e because \n",
    "# 1. hello() gets passed to my_decorator.\n",
    "# 2. my_decorator immediately prints stars and calls hello().\n",
    "# 3. It returns None, so now: hello = None, so when you call it later it throws error. \n"
   ]
  },
  {
   "cell_type": "code",
   "execution_count": null,
   "id": "408051ea",
   "metadata": {},
   "outputs": [
    {
     "name": "stdout",
     "output_type": "stream",
     "text": [
      "hello\n",
      "time taken by hello is 2.7894973754882812e-05 sec\n",
      "bye\n"
     ]
    }
   ],
   "source": [
    "# Meaningful usecase: to get time of each function\n",
    "import time \n",
    "def timer(func): \n",
    "    def wrapper():\n",
    "        start= time.time() # current time \n",
    "        func()\n",
    "        stop= time.time()\n",
    "        print(f\"time taken by {func.__name__} is {stop-start} sec\") # dunder method __name__ gives name of the function its executing. \n",
    "    return wrapper \n",
    "\n",
    "@timer\n",
    "def hello():\n",
    "    print('hello')\n",
    "\n",
    "@timer\n",
    "def greet():\n",
    "    print('bye')\n",
    "    time.sleep(2) # function sleeps for 2 sec. \n",
    "\n",
    "hello()\n",
    "greet()"
   ]
  },
  {
   "cell_type": "code",
   "execution_count": 94,
   "id": "db45ad27",
   "metadata": {},
   "outputs": [
    {
     "name": "stdout",
     "output_type": "stream",
     "text": [
      "hello\n",
      "time taken by hello is 5.2928924560546875e-05 sec\n",
      "400\n",
      "time taken by square is 2.0004420280456543 sec\n",
      "8\n",
      "time taken by power is 3.218650817871094e-05 sec\n"
     ]
    }
   ],
   "source": [
    "# Meaningful usecase: to get time of each function\n",
    "import time \n",
    "def timer(func): \n",
    "    def wrapper(*args): # *args allows us to take as many arguments as mentioned in the func. \n",
    "        start= time.time() # current time \n",
    "        func(*args) # for power whats happening is a,b= *args i.e tuple unpacking\n",
    "        stop= time.time()\n",
    "        print(f\"time taken by {func.__name__} is {stop-start} sec\") # dunder method __name__ gives name of the function its executing. \n",
    "    return wrapper \n",
    "\n",
    "@timer\n",
    "def hello():\n",
    "    print('hello')\n",
    "\n",
    "@timer\n",
    "def square(num):\n",
    "    print(num**2)\n",
    "    time.sleep(2) # function sleeps for 2 sec. \n",
    "@timer \n",
    "def power(a,b): \n",
    "    print(a**b)\n",
    "\n",
    "hello()\n",
    "square(20)\n",
    "power(2,3)"
   ]
  },
  {
   "cell_type": "code",
   "execution_count": null,
   "id": "0b173c51",
   "metadata": {},
   "outputs": [
    {
     "name": "stdout",
     "output_type": "stream",
     "text": [
      "()\n",
      "(18, 20)\n",
      "(12, 1232, 2323)\n",
      "()\n",
      "(18, 20)\n",
      "(12, 1232, 2323)\n",
      "{}\n",
      "{'a': 10}\n",
      "{'a': 10, 'n': 90}\n",
      "18 20\n"
     ]
    }
   ],
   "source": [
    "# Quick reminder: \n",
    "\n",
    "def test(*args): \n",
    "    print(args)\n",
    "test()\n",
    "test(18,20)\n",
    "test(12,1232,2323)\n",
    "\n",
    "def test1(**kargs): # key values argument\n",
    "    print(kargs)\n",
    "\n",
    "def test2(*args): \n",
    "    a,b = args # tuple unpacking is happening here. \n",
    "    print(a,b)\n",
    "\n",
    "\n",
    "test()\n",
    "test(18,20)\n",
    "test(12,1232,2323)\n",
    "\n",
    "test1()\n",
    "test1(a=10)\n",
    "test1(a=10, n=90)\n",
    "\n",
    "test2(18,20)"
   ]
  },
  {
   "cell_type": "code",
   "execution_count": 6,
   "id": "e76c174b",
   "metadata": {},
   "outputs": [
    {
     "name": "stdout",
     "output_type": "stream",
     "text": [
      "100\n"
     ]
    }
   ],
   "source": [
    "# Meaningful case 2: write a decorator to check if the input inside a function is correct datatype or not. \n",
    "# Any time decorator is using a parameter, we need an extra wrapper using parameter. \n",
    "\n",
    "def sanity_check(data_type):\n",
    "    def outer_wrapper(func): \n",
    "        def inner_wrapper(*args): \n",
    "            if type(args[0])== data_type:\n",
    "                func(*args)\n",
    "            else:\n",
    "                raise TypeError ('data type is incorrect')\n",
    "        return inner_wrapper\n",
    "    return outer_wrapper\n",
    "\n",
    "@sanity_check(int) \n",
    "def square(num):\n",
    "    print(num**2)\n",
    "\n",
    "square(10)\n",
    "# a= sanity_check(int) # return outer_wrapper\n",
    "# b= a(square) # return inner wrapper \n",
    "# c= b(10)"
   ]
  },
  {
   "cell_type": "code",
   "execution_count": 16,
   "id": "87f7d1ac",
   "metadata": {},
   "outputs": [
    {
     "name": "stdout",
     "output_type": "stream",
     "text": [
      "Access granted for Vrunda\n"
     ]
    }
   ],
   "source": [
    "# Meaningful case 3: We have a database, with names of students, create a decorator to check if person is authorized (i.e in the list) then allow or else not.\n",
    "\n",
    "db= {'p1':'vrunda', 'p2':'jay', 'p3':'charmi'}\n",
    "\n",
    "\n",
    "def auth(db): \n",
    "    def outer_wrapper(func):\n",
    "        def inner_wrapper(*args):\n",
    "            if args[0].lower() in db.values():\n",
    "                func(*args)\n",
    "            else:\n",
    "                raise Exception (f'Access Denied for {args[0].title()} ')\n",
    "        return inner_wrapper\n",
    "    return outer_wrapper\n",
    "\n",
    "@auth(db)\n",
    "def user(usr):\n",
    "    print(f'Access granted for {usr.title()}')\n",
    "\n",
    "user('vrunda') # -> access granted \n",
    "# user('manish') -> access denied "
   ]
  }
 ],
 "metadata": {
  "kernelspec": {
   "display_name": "base",
   "language": "python",
   "name": "python3"
  },
  "language_info": {
   "codemirror_mode": {
    "name": "ipython",
    "version": 3
   },
   "file_extension": ".py",
   "mimetype": "text/x-python",
   "name": "python",
   "nbconvert_exporter": "python",
   "pygments_lexer": "ipython3",
   "version": "3.13.2"
  }
 },
 "nbformat": 4,
 "nbformat_minor": 5
}
