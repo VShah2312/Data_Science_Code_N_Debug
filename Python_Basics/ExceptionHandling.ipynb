{
 "cells": [
  {
   "cell_type": "markdown",
   "id": "2456e216",
   "metadata": {},
   "source": [
    "# Exception Handling\n",
    "Very important from development perspective. It to avoid application from crashing, it okay to fail, but application shouldn't crash."
   ]
  },
  {
   "cell_type": "markdown",
   "id": "cae9d74d",
   "metadata": {},
   "source": [
    "## Types of errors in python\n",
    "\n",
    "1. Compile time error - syntax, indentation error (we cant solve this, as it by developer)\n",
    "2. runtime error - divide by zero, name error, type error etc (input error, cornor cases)\n",
    "3. logical error - logical error done by user (like Mathematical error etc)\n",
    "\n",
    "Exceptional handling can only handle the runtime error\n",
    "\n",
    "code >> compile time (error) >> runtime error()\n",
    "\n",
    "Java is compile time error (Statistically typed language),\n",
    "Python is sequential compiler. (Dynamically typed language)"
   ]
  },
  {
   "cell_type": "code",
   "execution_count": 2,
   "id": "e986032c",
   "metadata": {},
   "outputs": [
    {
     "name": "stdout",
     "output_type": "stream",
     "text": [
      "['ArithmeticError', 'AssertionError', 'AttributeError', 'BaseException', 'BaseExceptionGroup', 'BlockingIOError', 'BrokenPipeError', 'BufferError', 'BytesWarning', 'ChildProcessError', 'ConnectionAbortedError', 'ConnectionError', 'ConnectionRefusedError', 'ConnectionResetError', 'DeprecationWarning', 'EOFError', 'Ellipsis', 'EncodingWarning', 'EnvironmentError', 'Exception', 'ExceptionGroup', 'False', 'FileExistsError', 'FileNotFoundError', 'FloatingPointError', 'FutureWarning', 'GeneratorExit', 'IOError', 'ImportError', 'ImportWarning', 'IndentationError', 'IndexError', 'InterruptedError', 'IsADirectoryError', 'KeyError', 'KeyboardInterrupt', 'LookupError', 'MemoryError', 'ModuleNotFoundError', 'NameError', 'None', 'NotADirectoryError', 'NotImplemented', 'NotImplementedError', 'OSError', 'OverflowError', 'PendingDeprecationWarning', 'PermissionError', 'ProcessLookupError', 'PythonFinalizationError', 'RecursionError', 'ReferenceError', 'ResourceWarning', 'RuntimeError', 'RuntimeWarning', 'StopAsyncIteration', 'StopIteration', 'SyntaxError', 'SyntaxWarning', 'SystemError', 'SystemExit', 'TabError', 'TimeoutError', 'True', 'TypeError', 'UnboundLocalError', 'UnicodeDecodeError', 'UnicodeEncodeError', 'UnicodeError', 'UnicodeTranslateError', 'UnicodeWarning', 'UserWarning', 'ValueError', 'Warning', 'ZeroDivisionError', '_IncompleteInputError', '__IPYTHON__', '__build_class__', '__debug__', '__doc__', '__import__', '__loader__', '__name__', '__package__', '__spec__', 'abs', 'aiter', 'all', 'anext', 'any', 'ascii', 'bin', 'bool', 'breakpoint', 'bytearray', 'bytes', 'callable', 'chr', 'classmethod', 'compile', 'complex', 'copyright', 'credits', 'delattr', 'dict', 'dir', 'display', 'divmod', 'enumerate', 'eval', 'exec', 'execfile', 'filter', 'float', 'format', 'frozenset', 'get_ipython', 'getattr', 'globals', 'hasattr', 'hash', 'help', 'hex', 'id', 'input', 'int', 'isinstance', 'issubclass', 'iter', 'len', 'license', 'list', 'locals', 'map', 'max', 'memoryview', 'min', 'next', 'object', 'oct', 'open', 'ord', 'pow', 'print', 'property', 'range', 'repr', 'reversed', 'round', 'runfile', 'set', 'setattr', 'slice', 'sorted', 'staticmethod', 'str', 'sum', 'super', 'tuple', 'type', 'vars', 'zip']\n"
     ]
    },
    {
     "data": {
      "text/plain": [
       "162"
      ]
     },
     "execution_count": 2,
     "metadata": {},
     "output_type": "execute_result"
    }
   ],
   "source": [
    "# list of errors\n",
    "print(dir(__builtins__))\n",
    "len(dir(__builtins__)) # 162 diffenrent error."
   ]
  },
  {
   "cell_type": "markdown",
   "id": "2a590514",
   "metadata": {},
   "source": [
    "#### Keywords that we will using in exceoption handling\n",
    "\n",
    "1. try\n",
    "2. except\n",
    "3. else\n",
    "4. finally\n",
    "5. raise"
   ]
  },
  {
   "cell_type": "markdown",
   "id": "f2a89559",
   "metadata": {},
   "source": [
    "try and Exception\n",
    "\n",
    "- try - only the code which will going to raise an error will be written here\n",
    "- except - alternate code has to be wriiten when try throws an error"
   ]
  },
  {
   "cell_type": "code",
   "execution_count": null,
   "id": "b0437534",
   "metadata": {},
   "outputs": [],
   "source": [
    "try:\n",
    "    # code\n",
    "except:\n",
    "    # alternate code"
   ]
  },
  {
   "cell_type": "code",
   "execution_count": 6,
   "id": "5314fdd1",
   "metadata": {},
   "outputs": [
    {
     "name": "stdout",
     "output_type": "stream",
     "text": [
      "An error occurred. Please enter valid numbers.\n"
     ]
    }
   ],
   "source": [
    "try:\n",
    "    num1= int(input(\"Enter a number: \"))\n",
    "    num2 = int(input(\"Enter another number: \"))\n",
    "    print(num1/num2)\n",
    "except: \n",
    "    print(\"An error occurred. Please enter valid numbers.\")"
   ]
  },
  {
   "cell_type": "markdown",
   "id": "3c88c8ab",
   "metadata": {},
   "source": [
    "try , except and else\n",
    "\n",
    "- execution will go in except block if try throws an error \n",
    "- execution will go in the else block if try do not throw any kind of error"
   ]
  },
  {
   "cell_type": "code",
   "execution_count": 8,
   "id": "062806fb",
   "metadata": {},
   "outputs": [
    {
     "name": "stdout",
     "output_type": "stream",
     "text": [
      "sorry some error try after some time\n"
     ]
    }
   ],
   "source": [
    "try:\n",
    "\n",
    "    num1 = int(input(\"please enter a number: \"))\n",
    "    num2 = int(input(\"please enter the second number: \"))\n",
    "\n",
    "    c = num1/num2\n",
    "\n",
    "    print(c)\n",
    "\n",
    "except:\n",
    "    print(\"sorry some error try after some time\")\n"
   ]
  },
  {
   "cell_type": "code",
   "execution_count": 9,
   "id": "1d8faff0",
   "metadata": {},
   "outputs": [
    {
     "name": "stdout",
     "output_type": "stream",
     "text": [
      "sorry some error try after some time\n"
     ]
    }
   ],
   "source": [
    "# Or we cam use else statement\n",
    "try:\n",
    "\n",
    "    num1 = int(input(\"please enter a number: \"))\n",
    "    num2 = int(input(\"please enter the second number: \"))\n",
    "\n",
    "    c = num1/num2\n",
    "\n",
    "except:\n",
    "    print(\"sorry some error try after some time\")\n",
    "else:\n",
    "    print(c)"
   ]
  },
  {
   "cell_type": "markdown",
   "id": "5f07e614",
   "metadata": {},
   "source": [
    "try, except , finally\n",
    "\n",
    "- finally will be executed no matter what happens to try"
   ]
  },
  {
   "cell_type": "code",
   "execution_count": 12,
   "id": "530442c9",
   "metadata": {},
   "outputs": [
    {
     "name": "stdout",
     "output_type": "stream",
     "text": [
      "some error occurred\n"
     ]
    }
   ],
   "source": [
    "# File Handling \n",
    "try: \n",
    "    f= open(\"test.txt\", \"w\")\n",
    "    f.write(\"Hello, World!\")\n",
    "    print(f.read())\n",
    "except: \n",
    "    print('some error occurred')\n",
    "finally: # always execute\n",
    "    f.close()"
   ]
  },
  {
   "cell_type": "code",
   "execution_count": 14,
   "id": "b4f9d3bf",
   "metadata": {},
   "outputs": [
    {
     "name": "stdout",
     "output_type": "stream",
     "text": [
      "[ERROR] - division by zero\n"
     ]
    }
   ],
   "source": [
    "# dynamic error message \n",
    "try:\n",
    "\n",
    "    num1 = int(input(\"please enter a number: \"))\n",
    "    num2 = int(input(\"please enter the second number: \"))\n",
    "\n",
    "    c = num1/num2\n",
    "\n",
    "except Exception as e: # e is just name of variable\n",
    "    print(f\"[ERROR] - {e}\") # e is the error message"
   ]
  },
  {
   "cell_type": "code",
   "execution_count": 16,
   "id": "8135c6af",
   "metadata": {},
   "outputs": [
    {
     "name": "stdout",
     "output_type": "stream",
     "text": [
      "Value error\n"
     ]
    }
   ],
   "source": [
    "try:\n",
    "\n",
    "    num1 = int(input(\"please enter a number: \"))\n",
    "    num2 = int(input(\"please enter the second number: \"))\n",
    "\n",
    "    z = num1/num2\n",
    "\n",
    "except ZeroDivisionError as e:\n",
    "    print(f\"[ERROR] - Zero division error\")\n",
    "\n",
    "except NameError as e:\n",
    "    print(f\"[ERROR] - Name error\")\n",
    "\n",
    "except ValueError as e:\n",
    "    print(f\"Value error\")\n",
    "\n",
    "except Exception as e: # Other kind of errors that are not specified above. \n",
    "    print(f\"[ERROR] - {e}\")"
   ]
  },
  {
   "cell_type": "markdown",
   "id": "b3f013ea",
   "metadata": {},
   "source": [
    "raise\n",
    "- userdefiend Exception"
   ]
  },
  {
   "cell_type": "code",
   "execution_count": null,
   "id": "83996038",
   "metadata": {},
   "outputs": [
    {
     "name": "stdout",
     "output_type": "stream",
     "text": [
      "[ERROR] - Amount exceeds limit\n"
     ]
    }
   ],
   "source": [
    "try:\n",
    "    amt = eval(input(\"Enter an amount: \")) # eval automatically type casts the input to the appropriate data type.\n",
    "    if amt > 50000:\n",
    "        raise Exception(\"Amount exceeds limit\")\n",
    "    else: \n",
    "        print(\"Amount is within limit\")\n",
    "except Exception as e:\n",
    "    print(f\"[ERROR] - {e}\")                "
   ]
  }
 ],
 "metadata": {
  "kernelspec": {
   "display_name": "base",
   "language": "python",
   "name": "python3"
  },
  "language_info": {
   "codemirror_mode": {
    "name": "ipython",
    "version": 3
   },
   "file_extension": ".py",
   "mimetype": "text/x-python",
   "name": "python",
   "nbconvert_exporter": "python",
   "pygments_lexer": "ipython3",
   "version": "3.13.2"
  }
 },
 "nbformat": 4,
 "nbformat_minor": 5
}
