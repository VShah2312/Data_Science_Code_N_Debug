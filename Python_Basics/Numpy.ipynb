{
 "cells": [
  {
   "cell_type": "markdown",
   "id": "9861f3ec",
   "metadata": {},
   "source": [
    "### Que. What is Numpy?\n",
    "* Numpy stands for Numerical Python\n",
    "* Numpy - is a python package used for working with array\n",
    "* Numpy is the fundamental package for scientific computation in python\n",
    "* Numpy provides various functions which are capable of performing many numeric computation with High speed.\n",
    "* Numpy provides the in-built functions for linear algebra and random number generation"
   ]
  },
  {
   "cell_type": "markdown",
   "id": "11f4ecfe",
   "metadata": {},
   "source": [
    "### Que. By whom & when Numpy was created?\n",
    "* Travis Oliphant created Numpy in the year 2005."
   ]
  },
  {
   "cell_type": "markdown",
   "id": "9472bee2",
   "metadata": {},
   "source": [
    "### Que. Why use Numpy?\n",
    "* in python we have a list that serves the same purpose of arrays, but they are slow to process\n",
    "* numpy is 50x faster than traditional python lists.\n",
    "* an array object in NumPy is called ndarray\n",
    "* Arrays are frequently used in DataScience, where speed and resources are very important\n",
    "\n",
    "- array is a collection of homogenous(same) data"
   ]
  },
  {
   "cell_type": "markdown",
   "id": "868c8b7e",
   "metadata": {},
   "source": [
    "### Numpy Arrays Vs Python Sequences\n",
    "\n",
    "- NumPy arrays have a fixed size at creation, unlike Python lists (which can grow dynamically). Changing the size of an ndarray will create a new array and delete the original.\n",
    "\n",
    "- The elements in a NumPy array are all required to be of the same data type, and thus will be the same size in memory.\n",
    "\n",
    "- NumPy arrays facilitate advanced mathematical and other types of operations on large numbers of data. Typically, such operations are executed more efficiently and with less code than is possible using Python’s built-in sequences.\n",
    "\n",
    "- A growing plethora of scientific and mathematical Python-based packages are using NumPy arrays; though these typically support Python-sequence input, they convert such input to NumPy arrays prior to processing, and they often output NumPy arrays."
   ]
  },
  {
   "cell_type": "markdown",
   "id": "138cad32",
   "metadata": {},
   "source": [
    "#### point 1: Changing size\n",
    "\n",
    "list - 32 bytes to store 5 element 6 64 bytes\n",
    "numpy - 32 bytes to store 5 elememts 6 38 bytes\n",
    "\n",
    "#### point 2: Memory size\n",
    "list = [1,\"afsan\",10.2]\n",
    "numpy = [1,1,1]\n",
    "\n",
    "#### point 3: Statistical functions \n",
    "list - find the mean of the element inside a list - Write your own code\n",
    "\n",
    "numpy - methods - one liner - less code\n",
    "\n",
    "#### points 4: Package (sckiti learn, ml packages, dl packages, Genai packages)\n",
    "\n",
    "list -> package --> numpy convert\n"
   ]
  },
  {
   "cell_type": "code",
   "execution_count": 1,
   "id": "69e16b75",
   "metadata": {},
   "outputs": [
    {
     "name": "stdout",
     "output_type": "stream",
     "text": [
      "Requirement already satisfied: numpy in /opt/miniconda3/lib/python3.13/site-packages (2.3.0)\n"
     ]
    }
   ],
   "source": [
    "# install numpy\n",
    "!pip install numpy  # '!' tell its not python code, its a terminal command"
   ]
  },
  {
   "cell_type": "code",
   "execution_count": 36,
   "id": "34fe0252",
   "metadata": {},
   "outputs": [],
   "source": [
    "# import \n",
    "\n",
    "import numpy as np "
   ]
  },
  {
   "cell_type": "code",
   "execution_count": 6,
   "id": "f536dbef",
   "metadata": {},
   "outputs": [
    {
     "name": "stdout",
     "output_type": "stream",
     "text": [
      "[10 24 54 32 27 36]\n",
      "<class 'numpy.ndarray'>\n"
     ]
    }
   ],
   "source": [
    "# list\n",
    "list_data = [10,24,54,32,27,36]\n",
    "\n",
    "print(np.array(list_data))\n",
    "print(type(np.array(list_data))) # class ndarray."
   ]
  },
  {
   "cell_type": "markdown",
   "id": "d1737abe",
   "metadata": {},
   "source": [
    "#### Different type of arrays\n",
    "* 1D array - vector\n",
    "* 2D array - matrix [rows and columns]\n",
    "* 3d array - 3d matrix [Tensor] [row, column and dept]"
   ]
  },
  {
   "cell_type": "code",
   "execution_count": 15,
   "id": "aee8bb68",
   "metadata": {},
   "outputs": [
    {
     "name": "stdout",
     "output_type": "stream",
     "text": [
      "[[1 2 3]\n",
      " [4 5 6]]\n",
      "[[[1 2 3]\n",
      "  [4 5 6]]\n",
      "\n",
      " [[1 2 3]\n",
      "  [4 5 6]]]\n"
     ]
    }
   ],
   "source": [
    "# creating 2D and 3D arrays \n",
    "list_2= [[1,2,3],[4,5,6]]\n",
    "print(np.array(list_2))\n",
    "\n",
    "list_3 = [[[1,2,3],[4,5,6,]],[[1,2,3],[4,5,6]]] # This is 3D 2 of 2*3 (i.e array(2,3,2))\n",
    "print(np.array(list_3))"
   ]
  },
  {
   "cell_type": "code",
   "execution_count": null,
   "id": "ff4c03c8",
   "metadata": {},
   "outputs": [
    {
     "data": {
      "text/plain": [
       "array([[1., 2., 3.],\n",
       "       [4., 5., 6.]])"
      ]
     },
     "execution_count": 16,
     "metadata": {},
     "output_type": "execute_result"
    }
   ],
   "source": [
    "# 1. dtype -> used to change data type of an array \n",
    "np.array(list_2, dtype= float)"
   ]
  },
  {
   "cell_type": "code",
   "execution_count": 20,
   "id": "370ea1d4",
   "metadata": {},
   "outputs": [
    {
     "name": "stdout",
     "output_type": "stream",
     "text": [
      "[1 2 3 4 5 6 7 8 9]\n",
      "[1 3 5 7 9]\n"
     ]
    }
   ],
   "source": [
    "# 2. arange -> works same as range, only difference is it return array\n",
    "\n",
    "print(np.arange(1,10))\n",
    "print(np.arange(1,10,2))"
   ]
  },
  {
   "cell_type": "code",
   "execution_count": null,
   "id": "a3ceaca4",
   "metadata": {},
   "outputs": [
    {
     "name": "stdout",
     "output_type": "stream",
     "text": [
      "[ 1. 10.]\n",
      "[ 1.          6.44444444 11.88888889 17.33333333 22.77777778 28.22222222\n",
      " 33.66666667 39.11111111 44.55555556 50.        ]\n"
     ]
    }
   ],
   "source": [
    "#3. linspace (linear space) (min, max, num (break it into  n equal parts))\n",
    "\n",
    "print(np.linspace(1,10,2))\n",
    "print(np.linspace(1,50,10))\n",
    "\n",
    "# Note min and max both are inclusive in this method. \n",
    "# 6.4444-1.0 === 11.888-6.444 == 17.3333-11.888, distance between any two consecutive numbers will be constant/same. "
   ]
  },
  {
   "cell_type": "code",
   "execution_count": null,
   "id": "c55b5879",
   "metadata": {},
   "outputs": [],
   "source": [
    "# note: arange and linspace return 1D data only. "
   ]
  },
  {
   "cell_type": "code",
   "execution_count": null,
   "id": "8d65d658",
   "metadata": {},
   "outputs": [
    {
     "name": "stdout",
     "output_type": "stream",
     "text": [
      "[0. 0. 0.]\n",
      "[[0 0 0]\n",
      " [0 0 0]]\n",
      "[[0 0 0]\n",
      " [0 0 0]]\n",
      "[[[0 0]\n",
      "  [0 0]\n",
      "  [0 0]]\n",
      "\n",
      " [[0 0]\n",
      "  [0 0]\n",
      "  [0 0]]]\n"
     ]
    }
   ],
   "source": [
    "# 4 zeros: to create a array of all elements zero, takes a shape in form of iterable.\n",
    "\n",
    "print(np.zeros(3)) # vector of zeros\n",
    "print(np.zeros((2,3),dtype= int)) # 2D zeros matrix\n",
    "print(np.zeros([2,3],dtype= int)) # 2D zeros matrix\n",
    "print(np.zeros((2,3,2),dtype= int)) # 3d zeros matrix"
   ]
  },
  {
   "cell_type": "code",
   "execution_count": null,
   "id": "c30b330a",
   "metadata": {},
   "outputs": [
    {
     "name": "stdout",
     "output_type": "stream",
     "text": [
      "[1. 1. 1.]\n",
      "[[1 1 1]\n",
      " [1 1 1]]\n",
      "[[[1 1]\n",
      "  [1 1]\n",
      "  [1 1]]\n",
      "\n",
      " [[1 1]\n",
      "  [1 1]\n",
      "  [1 1]]]\n"
     ]
    }
   ],
   "source": [
    "# 5 ones: to create a array of all elements ones, takes a shape in form of iterable.\n",
    "print(np.ones(3)) # vector of zeros\n",
    "print(np.ones((2,3),dtype= int)) # 2D zeros matrix\n",
    "print(np.ones((2,3,2),dtype= int)) # 3d zeros matrix"
   ]
  },
  {
   "cell_type": "code",
   "execution_count": null,
   "id": "3a18698f",
   "metadata": {},
   "outputs": [
    {
     "name": "stdout",
     "output_type": "stream",
     "text": [
      "[[1. 0. 0. 0. 0.]\n",
      " [0. 1. 0. 0. 0.]\n",
      " [0. 0. 1. 0. 0.]\n",
      " [0. 0. 0. 1. 0.]\n",
      " [0. 0. 0. 0. 1.]]\n",
      "[[1. 0. 0. 0. 0.]\n",
      " [0. 1. 0. 0. 0.]\n",
      " [0. 0. 1. 0. 0.]\n",
      " [0. 0. 0. 1. 0.]\n",
      " [0. 0. 0. 0. 1.]]\n",
      "[[1. 0. 0.]\n",
      " [0. 1. 0.]]\n"
     ]
    },
    {
     "ename": "TypeError",
     "evalue": "Cannot interpret '3' as a data type",
     "output_type": "error",
     "traceback": [
      "\u001b[31m---------------------------------------------------------------------------\u001b[39m",
      "\u001b[31mTypeError\u001b[39m                                 Traceback (most recent call last)",
      "\u001b[36mCell\u001b[39m\u001b[36m \u001b[39m\u001b[32mIn[41]\u001b[39m\u001b[32m, line 8\u001b[39m\n\u001b[32m      6\u001b[39m \u001b[38;5;66;03m# only difference is, in eye you can allow none square dimensions, identity doesn't allow \u001b[39;00m\n\u001b[32m      7\u001b[39m \u001b[38;5;28mprint\u001b[39m(np.eye(\u001b[32m2\u001b[39m,\u001b[32m3\u001b[39m))\n\u001b[32m----> \u001b[39m\u001b[32m8\u001b[39m \u001b[38;5;28mprint\u001b[39m(\u001b[43mnp\u001b[49m\u001b[43m.\u001b[49m\u001b[43midentity\u001b[49m\u001b[43m(\u001b[49m\u001b[32;43m2\u001b[39;49m\u001b[43m,\u001b[49m\u001b[32;43m3\u001b[39;49m\u001b[43m)\u001b[49m)\n",
      "\u001b[36mFile \u001b[39m\u001b[32m/opt/miniconda3/lib/python3.13/site-packages/numpy/_core/numeric.py:2269\u001b[39m, in \u001b[36midentity\u001b[39m\u001b[34m(n, dtype, like)\u001b[39m\n\u001b[32m   2266\u001b[39m     \u001b[38;5;28;01mreturn\u001b[39;00m _identity_with_like(like, n, dtype=dtype)\n\u001b[32m   2268\u001b[39m \u001b[38;5;28;01mfrom\u001b[39;00m\u001b[38;5;250m \u001b[39m\u001b[34;01mnumpy\u001b[39;00m\u001b[38;5;250m \u001b[39m\u001b[38;5;28;01mimport\u001b[39;00m eye\n\u001b[32m-> \u001b[39m\u001b[32m2269\u001b[39m \u001b[38;5;28;01mreturn\u001b[39;00m \u001b[43meye\u001b[49m\u001b[43m(\u001b[49m\u001b[43mn\u001b[49m\u001b[43m,\u001b[49m\u001b[43m \u001b[49m\u001b[43mdtype\u001b[49m\u001b[43m=\u001b[49m\u001b[43mdtype\u001b[49m\u001b[43m,\u001b[49m\u001b[43m \u001b[49m\u001b[43mlike\u001b[49m\u001b[43m=\u001b[49m\u001b[43mlike\u001b[49m\u001b[43m)\u001b[49m\n",
      "\u001b[36mFile \u001b[39m\u001b[32m/opt/miniconda3/lib/python3.13/site-packages/numpy/lib/_twodim_base_impl.py:235\u001b[39m, in \u001b[36meye\u001b[39m\u001b[34m(N, M, k, dtype, order, device, like)\u001b[39m\n\u001b[32m    233\u001b[39m \u001b[38;5;28;01mif\u001b[39;00m M \u001b[38;5;129;01mis\u001b[39;00m \u001b[38;5;28;01mNone\u001b[39;00m:\n\u001b[32m    234\u001b[39m     M = N\n\u001b[32m--> \u001b[39m\u001b[32m235\u001b[39m m = \u001b[43mzeros\u001b[49m\u001b[43m(\u001b[49m\u001b[43m(\u001b[49m\u001b[43mN\u001b[49m\u001b[43m,\u001b[49m\u001b[43m \u001b[49m\u001b[43mM\u001b[49m\u001b[43m)\u001b[49m\u001b[43m,\u001b[49m\u001b[43m \u001b[49m\u001b[43mdtype\u001b[49m\u001b[43m=\u001b[49m\u001b[43mdtype\u001b[49m\u001b[43m,\u001b[49m\u001b[43m \u001b[49m\u001b[43morder\u001b[49m\u001b[43m=\u001b[49m\u001b[43morder\u001b[49m\u001b[43m,\u001b[49m\u001b[43m \u001b[49m\u001b[43mdevice\u001b[49m\u001b[43m=\u001b[49m\u001b[43mdevice\u001b[49m\u001b[43m)\u001b[49m\n\u001b[32m    236\u001b[39m \u001b[38;5;28;01mif\u001b[39;00m k >= M:\n\u001b[32m    237\u001b[39m     \u001b[38;5;28;01mreturn\u001b[39;00m m\n",
      "\u001b[31mTypeError\u001b[39m: Cannot interpret '3' as a data type"
     ]
    }
   ],
   "source": [
    "# 6. Identity matrix: creates an idenity matrix, 1's on diagnol, shapes has to be sqaure matrix (i.e row== column)\n",
    "\n",
    "print(np.eye(5)) # Gives 5*5 matrix \n",
    "print(np.identity(5)) # same as eye \n",
    "\n",
    "# only difference is, in eye you can allow none square dimensions, identity doesn't allow \n",
    "print(np.eye(2,3))\n",
    "# print(np.identity(2,3))# throws error. "
   ]
  },
  {
   "cell_type": "code",
   "execution_count": null,
   "id": "7eb35c8c",
   "metadata": {},
   "outputs": [
    {
     "name": "stdout",
     "output_type": "stream",
     "text": [
      "[[0.076076   0.02480317 0.05736769]\n",
      " [0.66069015 0.65784666 0.70604493]]\n",
      "[[8 3 9]\n",
      " [6 3 9]]\n",
      "[[0.30010507 0.23470751 0.95527375]\n",
      " [0.93819595 0.75277278 0.0019858 ]]\n"
     ]
    }
   ],
   "source": [
    "#7.  random\n",
    "\n",
    "print(np.random.rand(2,3)) # [0,1) uniform distribution\n",
    "print(np.random.randint(1,10,(2,3))) # low, high, shape, return int \n",
    "print(np.random.random((2,3))) # [0,1), returns float "
   ]
  },
  {
   "cell_type": "code",
   "execution_count": null,
   "id": "d5b1190f",
   "metadata": {},
   "outputs": [
    {
     "name": "stdout",
     "output_type": "stream",
     "text": [
      "[0 1 2 3 4 5 6 7 8 9]\n",
      "[[0 1 2 3 4]\n",
      " [5 6 7 8 9]]\n"
     ]
    }
   ],
   "source": [
    "# 8. reshape(): gives new shape to an array without changing the data \n",
    "\n",
    "a= np.arange(10)\n",
    "print(a) # vector of elements from 1 to 10 \n",
    "print(a.reshape(2,5)) # it is transformed to 2*5 matrix. Note: 2*5= 10 elements, if number of elements didnt match it would throw error. \n",
    "# print(a.reshape(1,6)) # this will throw error as 1*6 !=10. "
   ]
  },
  {
   "cell_type": "code",
   "execution_count": 82,
   "id": "1bae8943",
   "metadata": {},
   "outputs": [
    {
     "name": "stdout",
     "output_type": "stream",
     "text": [
      "[[ 0  1  2  3  4  5  6  7  8  9]\n",
      " [10 11 12 13 14 15 16 17 18 19]\n",
      " [20 21 22 23 24 25 26 27 28 29]\n",
      " [30 31 32 33 34 35 36 37 38 39]\n",
      " [40 41 42 43 44 45 46 47 48 49]]\n",
      "[[[ 0  1  2  3  4]\n",
      "  [ 5  6  7  8  9]]\n",
      "\n",
      " [[10 11 12 13 14]\n",
      "  [15 16 17 18 19]]\n",
      "\n",
      " [[20 21 22 23 24]\n",
      "  [25 26 27 28 29]]\n",
      "\n",
      " [[30 31 32 33 34]\n",
      "  [35 36 37 38 39]]\n",
      "\n",
      " [[40 41 42 43 44]\n",
      "  [45 46 47 48 49]]]\n"
     ]
    }
   ],
   "source": [
    "# infer: you specify only few dim and infer other while reshapping. (Note: you can only infer once)\n",
    "\n",
    "b= np.arange(50)\n",
    "print(b.reshape(-1,10)) # specifying number columns to be 10, infering number of rows. \n",
    "print(b.reshape(-1,2,5)) # specifying number of rows and columns, infering depth. "
   ]
  },
  {
   "cell_type": "code",
   "execution_count": null,
   "id": "eddb5d22",
   "metadata": {},
   "outputs": [],
   "source": [
    "# Array attributes: \n",
    "a1 = np.arange(10,dtype=np.int32) # 1d here we are converting it to int32 \n",
    "a2 = np.arange(12,dtype=float).reshape(3,4) # 2d\n",
    "a3 = np.arange(8,).reshape(2,2,2) # 3d, here we aren't specifying it thus, it take default which is data type of 8.\n",
    "a4 = np.arange(8.0,).reshape(2,2,2)"
   ]
  },
  {
   "cell_type": "code",
   "execution_count": null,
   "id": "077ac9a5",
   "metadata": {},
   "outputs": [
    {
     "name": "stdout",
     "output_type": "stream",
     "text": [
      "1\n",
      "2\n",
      "3\n"
     ]
    }
   ],
   "source": [
    "# 9. ndim: gives dimension of an array\n",
    "\n",
    "print(a1.ndim) # 1 i.e vector \n",
    "print(a2.ndim) # 2 i.e matrix \n",
    "print(a3.ndim) # 3 i.e tensor, 3d matrix "
   ]
  },
  {
   "cell_type": "code",
   "execution_count": 61,
   "id": "aa23376e",
   "metadata": {},
   "outputs": [
    {
     "name": "stdout",
     "output_type": "stream",
     "text": [
      "(10,)\n",
      "(3, 4)\n",
      "(2, 2, 2)\n"
     ]
    }
   ],
   "source": [
    "# 10. shape: gives tuple of rows, column and depth of an array \n",
    "print(a1.shape)\n",
    "print(a2.shape)\n",
    "print(a3.shape)"
   ]
  },
  {
   "cell_type": "code",
   "execution_count": 62,
   "id": "65b7b7b4",
   "metadata": {},
   "outputs": [
    {
     "name": "stdout",
     "output_type": "stream",
     "text": [
      "10\n",
      "12\n",
      "8\n"
     ]
    }
   ],
   "source": [
    "# 11. size: gives total number of elements\n",
    "\n",
    "print(a1.size)\n",
    "print(a2.size)\n",
    "print(a3.size)"
   ]
  },
  {
   "cell_type": "code",
   "execution_count": null,
   "id": "05bd2915",
   "metadata": {},
   "outputs": [
    {
     "name": "stdout",
     "output_type": "stream",
     "text": [
      "4\n",
      "8\n",
      "8\n"
     ]
    }
   ],
   "source": [
    "# 12. itemsize: gives the size of an element in an array\n",
    "\n",
    "print(a1.itemsize) # size each elements are taking 4 bytes, i.e int->4 bytes, float-> 8 bytes \n",
    "print(a2.itemsize) # as it type casted to float, each elements take 8 bytes \n",
    "print(a3.itemsize) # here we didnt type casted a datatype, then it take default of int64 or 8 bytes. "
   ]
  },
  {
   "cell_type": "code",
   "execution_count": null,
   "id": "5e5d91f3",
   "metadata": {},
   "outputs": [
    {
     "name": "stdout",
     "output_type": "stream",
     "text": [
      "int32\n",
      "float64\n",
      "int64\n",
      "float64\n"
     ]
    }
   ],
   "source": [
    "# 13. dtype: gives datatype of an element in array \n",
    "print(a1.dtype) # int32\n",
    "print(a2.dtype) # float64\n",
    "print(a3.dtype) # int64\n",
    "print(a4.dtype) # float64 because you use 8.0 instead of 8 like a3. "
   ]
  },
  {
   "cell_type": "code",
   "execution_count": null,
   "id": "9355b551",
   "metadata": {},
   "outputs": [
    {
     "name": "stdout",
     "output_type": "stream",
     "text": [
      "[[ 0.  1.  2.  3.]\n",
      " [ 4.  5.  6.  7.]\n",
      " [ 8.  9. 10. 11.]]\n"
     ]
    }
   ],
   "source": [
    "# 14. astype:  Changing data type of an array\n",
    "a1.astype(np.int32) # you will need to save it in need variable or use copy by default copy =True\n",
    "a2.astype(np.float32)\n",
    "print(a2)"
   ]
  },
  {
   "cell_type": "code",
   "execution_count": 83,
   "id": "69fe7c76",
   "metadata": {},
   "outputs": [
    {
     "name": "stdout",
     "output_type": "stream",
     "text": [
      "[[ 0  1  2]\n",
      " [ 3  4  5]\n",
      " [ 6  7  8]\n",
      " [ 9 10 11]\n",
      " [12 13 14]\n",
      " [15 16 17]]\n",
      "(6, 3)\n",
      "[[ 0  3  6  9 12 15]\n",
      " [ 1  4  7 10 13 16]\n",
      " [ 2  5  8 11 14 17]]\n",
      "(3, 6)\n"
     ]
    }
   ],
   "source": [
    "# 15. Transpose: flipping matrix such that rows become columns and columns become rows. \n",
    "\n",
    "a2 = np.arange(18).reshape(6,3)\n",
    "print(a2)\n",
    "print(a2.shape)\n",
    "print(a2.T)\n",
    "print(a2.T.shape)"
   ]
  },
  {
   "cell_type": "markdown",
   "id": "3decd01c",
   "metadata": {},
   "source": [
    "### Basic Array Operations "
   ]
  },
  {
   "cell_type": "code",
   "execution_count": 84,
   "id": "0ac998ca",
   "metadata": {},
   "outputs": [],
   "source": [
    "a1 = np.arange(12).reshape(3,4)\n",
    "a2 = np.arange(12,24).reshape(3,4)"
   ]
  },
  {
   "cell_type": "code",
   "execution_count": 86,
   "id": "fcb4392c",
   "metadata": {},
   "outputs": [
    {
     "name": "stdout",
     "output_type": "stream",
     "text": [
      "[[ 0  2  4  6]\n",
      " [ 8 10 12 14]\n",
      " [16 18 20 22]]\n",
      "[[0.  0.5 1.  1.5]\n",
      " [2.  2.5 3.  3.5]\n",
      " [4.  4.5 5.  5.5]]\n",
      "[[0 1 0 1]\n",
      " [0 1 0 1]\n",
      " [0 1 0 1]]\n",
      "[[0 0 1 1]\n",
      " [2 2 3 3]\n",
      " [4 4 5 5]]\n",
      "[[  0   1   4   9]\n",
      " [ 16  25  36  49]\n",
      " [ 64  81 100 121]]\n"
     ]
    }
   ],
   "source": [
    "# scalar operations: works with all arithematic operations \n",
    "\n",
    "print(a1*2)\n",
    "print(a1/2)\n",
    "print(a2%2)\n",
    "print(a1//2)\n",
    "print(a1**2)\n"
   ]
  },
  {
   "cell_type": "code",
   "execution_count": 87,
   "id": "a7b67618",
   "metadata": {},
   "outputs": [
    {
     "name": "stdout",
     "output_type": "stream",
     "text": [
      "[[False False False False]\n",
      " [False False  True  True]\n",
      " [ True  True  True  True]]\n",
      "[[False False False False]\n",
      " [False  True False False]\n",
      " [False False False False]]\n"
     ]
    }
   ],
   "source": [
    "# Relational Operator: works with all relational arrays \n",
    "\n",
    "print(a1>5)\n",
    "print(a1==5)"
   ]
  },
  {
   "cell_type": "code",
   "execution_count": 88,
   "id": "4e5315b9",
   "metadata": {},
   "outputs": [
    {
     "name": "stdout",
     "output_type": "stream",
     "text": [
      "[[12 14 16 18]\n",
      " [20 22 24 26]\n",
      " [28 30 32 34]]\n",
      "[[-12 -12 -12 -12]\n",
      " [-12 -12 -12 -12]\n",
      " [-12 -12 -12 -12]]\n",
      "[[0.         0.07692308 0.14285714 0.2       ]\n",
      " [0.25       0.29411765 0.33333333 0.36842105]\n",
      " [0.4        0.42857143 0.45454545 0.47826087]]\n",
      "[[                   0                    1                16384\n",
      "              14348907]\n",
      " [          4294967296         762939453125      101559956668416\n",
      "     11398895185373143]\n",
      " [ 1152921504606846976 -1261475310744950487  1864712049423024128\n",
      "   6839173302027254275]]\n"
     ]
    }
   ],
   "source": [
    "# Vector Operation: Operation between two vectors (all arithmetic operations)\n",
    "\n",
    "print(a1+a2)\n",
    "print(a1-a2)\n",
    "print(a1/a2)\n",
    "print(a1**a2)"
   ]
  },
  {
   "cell_type": "code",
   "execution_count": 92,
   "id": "03798c75",
   "metadata": {},
   "outputs": [],
   "source": [
    "a = np.arange(1,7).reshape(2,3)\n",
    "b = np.arange(7,13).reshape(3,2)"
   ]
  },
  {
   "cell_type": "code",
   "execution_count": 96,
   "id": "72d32bb1",
   "metadata": {},
   "outputs": [
    {
     "name": "stdout",
     "output_type": "stream",
     "text": [
      "[[ 0  1  2  3]\n",
      " [ 4  5  6  7]\n",
      " [ 8  9 10 11]]\n",
      "[[12 13 14 15]\n",
      " [16 17 18 19]\n",
      " [20 21 22 23]]\n",
      "[[  0  13  28  45]\n",
      " [ 64  85 108 133]\n",
      " [160 189 220 253]]\n"
     ]
    }
   ],
   "source": [
    "print(a1)\n",
    "print(a2)\n",
    "\n",
    "print(a1*a2)"
   ]
  },
  {
   "cell_type": "code",
   "execution_count": 93,
   "id": "bb0fbb32",
   "metadata": {},
   "outputs": [
    {
     "name": "stdout",
     "output_type": "stream",
     "text": [
      "[[ 58  64]\n",
      " [139 154]]\n"
     ]
    }
   ],
   "source": [
    "# Matrix Multipication : (Dot product)\n",
    "\n",
    "print(np.dot(a,b))\n"
   ]
  },
  {
   "cell_type": "markdown",
   "id": "faca4ecd",
   "metadata": {},
   "source": [
    "### Universal Functions"
   ]
  },
  {
   "cell_type": "code",
   "execution_count": 64,
   "id": "b8622690",
   "metadata": {},
   "outputs": [],
   "source": [
    "a1 = np.arange(24)\n",
    "a2 = np.arange(24).reshape(4,6)"
   ]
  },
  {
   "cell_type": "code",
   "execution_count": null,
   "id": "5c06fec1",
   "metadata": {},
   "outputs": [
    {
     "name": "stdout",
     "output_type": "stream",
     "text": [
      "276\n",
      "276\n"
     ]
    }
   ],
   "source": [
    "# sum: sum of all the elements in an array\n",
    "\n",
    "print(a1.sum())\n",
    "print(a2.sum())"
   ]
  },
  {
   "cell_type": "code",
   "execution_count": 65,
   "id": "e8e7ee54",
   "metadata": {},
   "outputs": [
    {
     "name": "stdout",
     "output_type": "stream",
     "text": [
      "[[ 0  1  2  3  4  5]\n",
      " [ 6  7  8  9 10 11]\n",
      " [12 13 14 15 16 17]\n",
      " [18 19 20 21 22 23]]\n"
     ]
    }
   ],
   "source": [
    "print(a2)"
   ]
  },
  {
   "cell_type": "code",
   "execution_count": null,
   "id": "6619c892",
   "metadata": {},
   "outputs": [
    {
     "name": "stdout",
     "output_type": "stream",
     "text": [
      "[ 15  51  87 123]\n",
      "[36 40 44 48 52 56]\n"
     ]
    }
   ],
   "source": [
    "# sum: sum of all the rows or columns, use axis parameter axis=0 => columns, axis=1 => rows\n",
    "\n",
    "print(a2.sum(axis=1)) # row sum \n",
    "print(a2.sum(axis=0)) # column sum"
   ]
  },
  {
   "cell_type": "code",
   "execution_count": null,
   "id": "85f3c5ab",
   "metadata": {},
   "outputs": [
    {
     "name": "stdout",
     "output_type": "stream",
     "text": [
      "0\n",
      "[    0  1729  4480  8505 14080 21505]\n",
      "[       0   332640  8910720 72681840]\n"
     ]
    }
   ],
   "source": [
    "# prod: prodcut of all the elements, use axis parameter axis=0 => columns, axis=1 => rows\n",
    "\n",
    "print(a1.prod())\n",
    "print(a2.prod(axis=0))\n",
    "print(a2.prod(axis=1))"
   ]
  },
  {
   "cell_type": "code",
   "execution_count": null,
   "id": "f070fd2f",
   "metadata": {},
   "outputs": [
    {
     "name": "stdout",
     "output_type": "stream",
     "text": [
      "23\n",
      "[18 19 20 21 22 23]\n",
      "[ 5 11 17 23]\n"
     ]
    }
   ],
   "source": [
    "# max \n",
    "print(a1.max())\n",
    "print(a2.max(axis=0))\n",
    "print(a2.max(axis=1))"
   ]
  },
  {
   "cell_type": "code",
   "execution_count": 114,
   "id": "ccc4e93b",
   "metadata": {},
   "outputs": [
    {
     "name": "stdout",
     "output_type": "stream",
     "text": [
      "0\n",
      "[0 1 2 3 4 5]\n",
      "[ 0  6 12 18]\n"
     ]
    }
   ],
   "source": [
    "# min\n",
    "print(a1.min())\n",
    "print(a2.min(axis=0))\n",
    "print(a2.min(axis=1))"
   ]
  },
  {
   "cell_type": "code",
   "execution_count": 120,
   "id": "991ed7dd",
   "metadata": {},
   "outputs": [],
   "source": [
    "a1 = np.arange(12).reshape(3,4)\n",
    "a2 = np.arange(12,24).reshape(3,4)"
   ]
  },
  {
   "cell_type": "code",
   "execution_count": 126,
   "id": "b9488151",
   "metadata": {},
   "outputs": [
    {
     "name": "stdout",
     "output_type": "stream",
     "text": [
      "[[12 14 16 18]\n",
      " [20 22 24 26]\n",
      " [28 30 32 34]]\n",
      "[[-12 -12 -12 -12]\n",
      " [-12 -12 -12 -12]\n",
      " [-12 -12 -12 -12]]\n",
      "[[  0   1   4   9]\n",
      " [ 16  25  36  49]\n",
      " [ 64  81 100 121]]\n",
      "[[      -inf 0.         0.69314718 1.09861229]\n",
      " [1.38629436 1.60943791 1.79175947 1.94591015]\n",
      " [2.07944154 2.19722458 2.30258509 2.39789527]]\n",
      "[[0.         1.         1.41421356 1.73205081]\n",
      " [2.         2.23606798 2.44948974 2.64575131]\n",
      " [2.82842712 3.         3.16227766 3.31662479]]\n"
     ]
    },
    {
     "name": "stderr",
     "output_type": "stream",
     "text": [
      "/var/folders/xw/_lnfz_x56cn_zn8_slshkwp80000gn/T/ipykernel_90329/1178886505.py:11: RuntimeWarning: divide by zero encountered in log\n",
      "  print(np.log(a1))\n"
     ]
    }
   ],
   "source": [
    "# add\n",
    "print(np.add(a1,a2))\n",
    "\n",
    "# subtract\n",
    "print(np.subtract(a1,a2))\n",
    "\n",
    "# square \n",
    "print(np.square(a1))\n",
    "\n",
    "# log \n",
    "print(np.log(a1))\n",
    "\n",
    "# sqrt \n",
    "print(np.sqrt(a1))"
   ]
  },
  {
   "cell_type": "code",
   "execution_count": 129,
   "id": "8e270465",
   "metadata": {},
   "outputs": [
    {
     "name": "stdout",
     "output_type": "stream",
     "text": [
      "[[ 0.          0.84147098  0.90929743  0.14112001]\n",
      " [-0.7568025  -0.95892427 -0.2794155   0.6569866 ]\n",
      " [ 0.98935825  0.41211849 -0.54402111 -0.99999021]]\n",
      "[[ 1.          0.54030231 -0.41614684 -0.9899925 ]\n",
      " [-0.65364362  0.28366219  0.96017029  0.75390225]\n",
      " [-0.14550003 -0.91113026 -0.83907153  0.0044257 ]]\n",
      "[[ 0.00000000e+00  1.55740772e+00 -2.18503986e+00 -1.42546543e-01]\n",
      " [ 1.15782128e+00 -3.38051501e+00 -2.91006191e-01  8.71447983e-01]\n",
      " [-6.79971146e+00 -4.52315659e-01  6.48360827e-01 -2.25950846e+02]]\n"
     ]
    },
    {
     "data": {
      "text/plain": [
       "['T',\n",
       " '__abs__',\n",
       " '__add__',\n",
       " '__and__',\n",
       " '__array__',\n",
       " '__array_finalize__',\n",
       " '__array_function__',\n",
       " '__array_interface__',\n",
       " '__array_namespace__',\n",
       " '__array_priority__',\n",
       " '__array_struct__',\n",
       " '__array_ufunc__',\n",
       " '__array_wrap__',\n",
       " '__bool__',\n",
       " '__buffer__',\n",
       " '__class__',\n",
       " '__class_getitem__',\n",
       " '__complex__',\n",
       " '__contains__',\n",
       " '__copy__',\n",
       " '__deepcopy__',\n",
       " '__delattr__',\n",
       " '__delitem__',\n",
       " '__dir__',\n",
       " '__divmod__',\n",
       " '__dlpack__',\n",
       " '__dlpack_device__',\n",
       " '__doc__',\n",
       " '__eq__',\n",
       " '__float__',\n",
       " '__floordiv__',\n",
       " '__format__',\n",
       " '__ge__',\n",
       " '__getattribute__',\n",
       " '__getitem__',\n",
       " '__getstate__',\n",
       " '__gt__',\n",
       " '__hash__',\n",
       " '__iadd__',\n",
       " '__iand__',\n",
       " '__ifloordiv__',\n",
       " '__ilshift__',\n",
       " '__imatmul__',\n",
       " '__imod__',\n",
       " '__imul__',\n",
       " '__index__',\n",
       " '__init__',\n",
       " '__init_subclass__',\n",
       " '__int__',\n",
       " '__invert__',\n",
       " '__ior__',\n",
       " '__ipow__',\n",
       " '__irshift__',\n",
       " '__isub__',\n",
       " '__iter__',\n",
       " '__itruediv__',\n",
       " '__ixor__',\n",
       " '__le__',\n",
       " '__len__',\n",
       " '__lshift__',\n",
       " '__lt__',\n",
       " '__matmul__',\n",
       " '__mod__',\n",
       " '__mul__',\n",
       " '__ne__',\n",
       " '__neg__',\n",
       " '__new__',\n",
       " '__or__',\n",
       " '__pos__',\n",
       " '__pow__',\n",
       " '__radd__',\n",
       " '__rand__',\n",
       " '__rdivmod__',\n",
       " '__reduce__',\n",
       " '__reduce_ex__',\n",
       " '__repr__',\n",
       " '__rfloordiv__',\n",
       " '__rlshift__',\n",
       " '__rmatmul__',\n",
       " '__rmod__',\n",
       " '__rmul__',\n",
       " '__ror__',\n",
       " '__rpow__',\n",
       " '__rrshift__',\n",
       " '__rshift__',\n",
       " '__rsub__',\n",
       " '__rtruediv__',\n",
       " '__rxor__',\n",
       " '__setattr__',\n",
       " '__setitem__',\n",
       " '__setstate__',\n",
       " '__sizeof__',\n",
       " '__str__',\n",
       " '__sub__',\n",
       " '__subclasshook__',\n",
       " '__truediv__',\n",
       " '__xor__',\n",
       " 'all',\n",
       " 'any',\n",
       " 'argmax',\n",
       " 'argmin',\n",
       " 'argpartition',\n",
       " 'argsort',\n",
       " 'astype',\n",
       " 'base',\n",
       " 'byteswap',\n",
       " 'choose',\n",
       " 'clip',\n",
       " 'compress',\n",
       " 'conj',\n",
       " 'conjugate',\n",
       " 'copy',\n",
       " 'ctypes',\n",
       " 'cumprod',\n",
       " 'cumsum',\n",
       " 'data',\n",
       " 'device',\n",
       " 'diagonal',\n",
       " 'dot',\n",
       " 'dtype',\n",
       " 'dump',\n",
       " 'dumps',\n",
       " 'fill',\n",
       " 'flags',\n",
       " 'flat',\n",
       " 'flatten',\n",
       " 'getfield',\n",
       " 'imag',\n",
       " 'item',\n",
       " 'itemset',\n",
       " 'itemsize',\n",
       " 'mT',\n",
       " 'max',\n",
       " 'mean',\n",
       " 'min',\n",
       " 'nbytes',\n",
       " 'ndim',\n",
       " 'newbyteorder',\n",
       " 'nonzero',\n",
       " 'partition',\n",
       " 'prod',\n",
       " 'ptp',\n",
       " 'put',\n",
       " 'ravel',\n",
       " 'real',\n",
       " 'repeat',\n",
       " 'reshape',\n",
       " 'resize',\n",
       " 'round',\n",
       " 'searchsorted',\n",
       " 'setfield',\n",
       " 'setflags',\n",
       " 'shape',\n",
       " 'size',\n",
       " 'sort',\n",
       " 'squeeze',\n",
       " 'std',\n",
       " 'strides',\n",
       " 'sum',\n",
       " 'swapaxes',\n",
       " 'take',\n",
       " 'to_device',\n",
       " 'tobytes',\n",
       " 'tofile',\n",
       " 'tolist',\n",
       " 'trace',\n",
       " 'transpose',\n",
       " 'var',\n",
       " 'view']"
      ]
     },
     "execution_count": 129,
     "metadata": {},
     "output_type": "execute_result"
    }
   ],
   "source": [
    "# Trignometry functions: \n",
    "\n",
    "# sin \n",
    "print(np.sin(a1))\n",
    "\n",
    "# cos\n",
    "print(np.cos(a1))\n",
    "\n",
    "# tan\n",
    "print(np.tan(a1))\n",
    "\n",
    "\n",
    "# Note: when to you np, versus when note, check dir \n",
    "\n",
    "dir(a1) # gives list of all function avaialble \n",
    "\n",
    "# you need to use np, if available in the list, but its better to use np rather. "
   ]
  },
  {
   "cell_type": "code",
   "execution_count": null,
   "id": "c1080bc2",
   "metadata": {},
   "outputs": [
    {
     "name": "stdout",
     "output_type": "stream",
     "text": [
      "5.5\n",
      "5.5\n",
      "3.452052529534663\n",
      "11.916666666666666\n"
     ]
    }
   ],
   "source": [
    "# Statistical \n",
    "\n",
    "# mean\n",
    "print(np.mean(a1))\n",
    "\n",
    "# median\n",
    "print(np.median(a1))\n",
    "\n",
    "# std \n",
    "print(np.std(a1))\n",
    "\n",
    "# variance\n",
    "print(np.var(a1))"
   ]
  },
  {
   "cell_type": "code",
   "execution_count": 5,
   "id": "48f34d3d",
   "metadata": {},
   "outputs": [
    {
     "name": "stdout",
     "output_type": "stream",
     "text": [
      "[0 1 2 3 4 5 6 7 8 9] [[10 11 12 13 14 15 16 17 18 19]\n",
      " [20 21 22 23 24 25 26 27 28 29]\n",
      " [30 31 32 33 34 35 36 37 38 39]\n",
      " [40 41 42 43 44 45 46 47 48 49]] [[[10 11 12 13 14]\n",
      "  [15 16 17 18 19]]\n",
      "\n",
      " [[20 21 22 23 24]\n",
      "  [25 26 27 28 29]]\n",
      "\n",
      " [[30 31 32 33 34]\n",
      "  [35 36 37 38 39]]\n",
      "\n",
      " [[40 41 42 43 44]\n",
      "  [45 46 47 48 49]]]\n"
     ]
    }
   ],
   "source": [
    "a1 = np.arange(10) # 1 Dim \n",
    "a2 = np.arange(10,50).reshape(4,10) # 2 Dim\n",
    "a3 = np.arange(10,50).reshape(4,2,5) # 3 Dim \n",
    "\n",
    "print(a1, a2, a3)"
   ]
  },
  {
   "cell_type": "code",
   "execution_count": 33,
   "id": "f5b7dfd8",
   "metadata": {},
   "outputs": [
    {
     "name": "stdout",
     "output_type": "stream",
     "text": [
      "8\n",
      "3\n",
      "27\n",
      "27\n",
      "34\n",
      "34\n",
      "28\n"
     ]
    }
   ],
   "source": [
    "# Indexing: to get 1 value \n",
    "\n",
    "# For 1 Dim (Same as list)\n",
    "print(a1[-2])\n",
    "print(a1[3])\n",
    "\n",
    "# For 2 Dim [Row, Column]\n",
    "print(a2[1,7])\n",
    "print(a2[1,-3]) # can use negative index as well.\n",
    "print(a2[2,4])\n",
    "\n",
    "# For 3 Dim (Depth, Row, Column)\n",
    "print(a3[2,0,-1])\n",
    "print(a3[1,1,3])"
   ]
  },
  {
   "cell_type": "code",
   "execution_count": 34,
   "id": "40f16a20",
   "metadata": {},
   "outputs": [
    {
     "name": "stdout",
     "output_type": "stream",
     "text": [
      "[[[10 11 12 13 14]\n",
      "  [15 16 17 18 19]]\n",
      "\n",
      " [[20 21 22 23 24]\n",
      "  [25 26 27 28 29]]\n",
      "\n",
      " [[30 31 32 33 34]\n",
      "  [35 36 37 38 39]]\n",
      "\n",
      " [[40 41 42 43 44]\n",
      "  [45 46 47 48 49]]]\n"
     ]
    }
   ],
   "source": [
    "print(a3)"
   ]
  },
  {
   "cell_type": "code",
   "execution_count": 35,
   "id": "54df9085",
   "metadata": {},
   "outputs": [
    {
     "name": "stdout",
     "output_type": "stream",
     "text": [
      "[6 5 4]\n",
      "[6 5 4]\n",
      "[[26 27]\n",
      " [36 37]]\n",
      "[[38 37]\n",
      " [28 27]]\n",
      "[[25 27]\n",
      " [35 37]\n",
      " [45 47]]\n",
      "[[15 18]\n",
      " [35 38]]\n",
      "[[44 46 48]\n",
      " [24 26 28]]\n",
      "[[38 39]\n",
      " [33 34]]\n"
     ]
    }
   ],
   "source": [
    "# Slicing: to get multiple values\n",
    "\n",
    "# For 1 Dim (Same as list)\n",
    "print(a1[-4:-7:-1]) # -1 step to print backwards\n",
    "print(a1[6:3:-1])\n",
    "\n",
    "# For 2 Dim [slicing for rows, slicing for colums] (Way of gettig subarray)\n",
    "print(a2[1:3,-4:-2])\n",
    "print(a2[2:0:-1,-2:-4:-1])\n",
    "print(a2[1:4, 5:8:2])\n",
    "print(a2[::2,5::3 ]) # start, stop and step \n",
    "print(a2[::-2, 4::2 ])\n",
    "\n",
    "# For 3-Dim [slicing for depth, slicing for row, slicing for column]\n",
    "print(a3[2,::-1, -2::])"
   ]
  },
  {
   "cell_type": "code",
   "execution_count": 61,
   "id": "0a1c0011",
   "metadata": {},
   "outputs": [
    {
     "name": "stdout",
     "output_type": "stream",
     "text": [
      "1\n",
      "2\n",
      "3\n",
      "4\n",
      "5\n"
     ]
    }
   ],
   "source": [
    "# Iterating over arrays \n",
    "# 1 Dim\n",
    "a = np.array([1,2,3,4,5])\n",
    "\n",
    "for ele in a:\n",
    "    print(ele)"
   ]
  },
  {
   "cell_type": "code",
   "execution_count": null,
   "id": "5449802e",
   "metadata": {},
   "outputs": [
    {
     "name": "stdout",
     "output_type": "stream",
     "text": [
      "[1 2 3 4 5]\n",
      "1\n",
      "2\n",
      "3\n",
      "4\n",
      "5\n",
      "[11  6  7  8  9]\n",
      "11\n",
      "6\n",
      "7\n",
      "8\n",
      "9\n",
      "\n",
      "1\n",
      "2\n",
      "3\n",
      "4\n",
      "5\n",
      "11\n",
      "6\n",
      "7\n",
      "8\n",
      "9\n",
      "\n",
      "[ 1  2  3  4  5 11  6  7  8  9]\n",
      "1\n",
      "2\n",
      "3\n",
      "4\n",
      "5\n",
      "11\n",
      "6\n",
      "7\n",
      "8\n",
      "9\n"
     ]
    }
   ],
   "source": [
    "# 2 Dim\n",
    "a1 = np.array([[1,2,3,4,5],\n",
    "          [11,6,7,8,9]])\n",
    "\n",
    "for row in a1: # extracts the rows\n",
    "    print(row)\n",
    "    for j in row: # using extra for loop to extract elements. \n",
    "        print(j)\n",
    "print()\n",
    "\n",
    "# or you cam use nditer\n",
    "for i in np.nditer(a1):\n",
    "    print(i)\n",
    "print()\n",
    "\n",
    "# or you can use flatten: flatten converts any dimension data into a vector (1 dimension)\n",
    "print(a1.flatten()) # -> arr([1,2,3,4,5,11,6,7,8,9])\n",
    "for i in a1.flatten():\n",
    "    print(i)\n"
   ]
  },
  {
   "cell_type": "code",
   "execution_count": 50,
   "id": "e95220c2",
   "metadata": {},
   "outputs": [],
   "source": [
    "a1= np.arange(10)\n",
    "a2= np.arange(10,50).reshape(4,10)"
   ]
  },
  {
   "cell_type": "code",
   "execution_count": null,
   "id": "a81da0bf",
   "metadata": {},
   "outputs": [
    {
     "data": {
      "text/plain": [
       "[array([[10, 11, 12, 13, 14, 15, 16, 17, 18, 19],\n",
       "        [20, 21, 22, 23, 24, 25, 26, 27, 28, 29]]),\n",
       " array([[30, 31, 32, 33, 34, 35, 36, 37, 38, 39],\n",
       "        [40, 41, 42, 43, 44, 45, 46, 47, 48, 49]]),\n",
       " array([], shape=(0, 10), dtype=int64),\n",
       " array([], shape=(0, 10), dtype=int64)]"
      ]
     },
     "execution_count": 57,
     "metadata": {},
     "output_type": "execute_result"
    }
   ],
   "source": [
    "# Spliting of an array: np.split(array, value (int | list), axis (0|1))\n",
    "np.split(a1,2) # 2 int , 1. splits in two equal parts 2.using int makre sure that it can be dvidided into equal parts\n",
    "# np.split(a1.3) # it will throw error  as 10 elements cannot be split in 3 equal parts. \n",
    "\n",
    "\"\"\"\n",
    "value can also be a list (list allows any splits)\n",
    "[2,4,6,9]\n",
    "start to 2 -> 0,1\n",
    "2-4 -> 2,3\n",
    "4-6 -> 4,5\n",
    "6-9 -> 6,7,8\n",
    "9+ -> 9,10,...\n",
    "Note above are indexes not values\n",
    "\n",
    "axis = 1-> column wise split \n",
    "axis =0 -> rows wise split \n",
    "\"\"\"\n",
    "\n",
    "np.split(a1,[2,4,6,9])\n",
    "np.split(a1,[4,7])\n",
    "np.split(a2,5, axis=1) # columnwise split \n",
    "np.split(a2, 2, axis=0)\n",
    "np.split(a2,[2,4,7], axis=0) \n",
    "\n",
    "\"\"\"\n",
    "axis =0 -> row wise split \n",
    "start: 2 -> 0,1 index for row \n",
    "2:4 -> 2,3 index for row\n",
    "4:7 -> 4,5,6 index for row, as there doesnt exist any rows it will give empty []\n",
    "7: end -> 7, end index for row, as there doesnt exist any rows it will give empty []\n",
    "\"\"\""
   ]
  },
  {
   "cell_type": "code",
   "execution_count": 60,
   "id": "bbb72b25",
   "metadata": {},
   "outputs": [
    {
     "name": "stdout",
     "output_type": "stream",
     "text": [
      "[[10 11 12 13 14 15 16 17 18 19]\n",
      " [20 21 22 23 24 25 26 27 28 29]\n",
      " [30 31 32 33 34 35 36 37 38 39]\n",
      " [40 41 42 43 44 45 46 47 48 49]]\n"
     ]
    }
   ],
   "source": [
    "print(a2)"
   ]
  },
  {
   "cell_type": "code",
   "execution_count": null,
   "id": "e3b597b4",
   "metadata": {},
   "outputs": [
    {
     "name": "stdout",
     "output_type": "stream",
     "text": [
      "[array([[10, 11, 12, 13, 14],\n",
      "       [20, 21, 22, 23, 24],\n",
      "       [30, 31, 32, 33, 34],\n",
      "       [40, 41, 42, 43, 44]]), array([[15, 16, 17, 18, 19],\n",
      "       [25, 26, 27, 28, 29],\n",
      "       [35, 36, 37, 38, 39],\n",
      "       [45, 46, 47, 48, 49]])]\n",
      "[array([[10, 11, 12, 13, 14, 15, 16, 17, 18, 19],\n",
      "       [20, 21, 22, 23, 24, 25, 26, 27, 28, 29]]), array([[30, 31, 32, 33, 34, 35, 36, 37, 38, 39],\n",
      "       [40, 41, 42, 43, 44, 45, 46, 47, 48, 49]])]\n"
     ]
    }
   ],
   "source": [
    "# Method hsplit (horizontal split) or vsplit (vertical split)\n",
    "print(np.hsplit(a2,2)) # column wise split \n",
    "print(np.vsplit(a2,2)) # row wise split "
   ]
  },
  {
   "cell_type": "code",
   "execution_count": 78,
   "id": "2c25cdb4",
   "metadata": {},
   "outputs": [],
   "source": [
    "# concatenate vs stacking \n",
    "\"\"\"\"\n",
    "axis = 0 -> row wise\n",
    "axis = 1 -> column wise\n",
    "\"\"\"\n",
    "\n",
    "a = np.array([[\"New York\",\"Maryland\"],[\"Albany\",\"Annapolis\"]])\n",
    "\n",
    "b = np.array([[\"Ohio\",\"Arizona\"],[\"Columbus\",\"Phoenix\"]])"
   ]
  },
  {
   "cell_type": "code",
   "execution_count": null,
   "id": "910d846c",
   "metadata": {},
   "outputs": [
    {
     "name": "stdout",
     "output_type": "stream",
     "text": [
      "[['New York' 'Maryland']\n",
      " ['Albany' 'Annapolis']\n",
      " ['Ohio' 'Arizona']\n",
      " ['Columbus' 'Phoenix']]\n",
      "[['New York' 'Maryland' 'Ohio' 'Arizona']\n",
      " ['Albany' 'Annapolis' 'Columbus' 'Phoenix']]\n",
      "[['New York' 'Maryland']\n",
      " ['Albany' 'Annapolis']\n",
      " ['Ohio' 'Arizona']\n",
      " ['Columbus' 'Phoenix']\n",
      " ['New York' 'Maryland']\n",
      " ['Albany' 'Annapolis']\n",
      " ['New York' 'Maryland']\n",
      " ['Albany' 'Annapolis']\n",
      " ['New York' 'Maryland']\n",
      " ['Albany' 'Annapolis']\n",
      " ['New York' 'Maryland']\n",
      " ['Albany' 'Annapolis']]\n"
     ]
    }
   ],
   "source": [
    "print(np.concatenate((a,b), axis=0)) # row wise \n",
    "print(np.concatenate((a,b), axis=1)) # column wise \n",
    "print(np.concatenate((a,b,a,a,a,a), axis=0)) # as many as you want\n",
    "\n",
    "# Keep in mind: in case of using axis =0, make sure that the column of the both matrix are matching otherwise it will throw an error. \n",
    "#                incase of using axis =1, make sure that the rows of the both matrix are matching otherwise it will throw an error "
   ]
  },
  {
   "cell_type": "code",
   "execution_count": null,
   "id": "45e0960c",
   "metadata": {},
   "outputs": [
    {
     "name": "stdout",
     "output_type": "stream",
     "text": [
      "[['New York' 'Maryland' 'Ohio' 'Arizona']\n",
      " ['Albany' 'Annapolis' 'Columbus' 'Phoenix']]\n",
      "[['New York' 'Maryland']\n",
      " ['Albany' 'Annapolis']\n",
      " ['Ohio' 'Arizona']\n",
      " ['Columbus' 'Phoenix']]\n"
     ]
    }
   ],
   "source": [
    "# Method hstack (horizontal stack) or vstack (vertical stack)\n",
    "\n",
    "print(np.hstack((a,b))) # column wise \n",
    "print(np.vstack((a,b))) # row wise "
   ]
  },
  {
   "cell_type": "markdown",
   "id": "e797ffe5",
   "metadata": {},
   "source": [
    "Numpy vs List: \n",
    "\n",
    "1. Speed: Numpy is faster than list. \n",
    "2. Memory: Numpy is much more efficient.\n",
    "3. Convience: Numpy is much more convienent. "
   ]
  },
  {
   "cell_type": "code",
   "execution_count": null,
   "id": "115a7643",
   "metadata": {},
   "outputs": [
    {
     "name": "stdout",
     "output_type": "stream",
     "text": [
      "3.638441801071167\n"
     ]
    }
   ],
   "source": [
    "# 1. Speed and Convience:  \n",
    "# List: \n",
    "import time\n",
    "\n",
    "a = [i for i in range(10000000)]\n",
    "b = [i for i in range(10000000,20000000)]\n",
    "\n",
    "c = []\n",
    "start= time.time()\n",
    "for i in range(len(a)): \n",
    "    c.append(a[i]+b[i])\n",
    "print(time.time()-start)"
   ]
  },
  {
   "cell_type": "code",
   "execution_count": null,
   "id": "e420e79f",
   "metadata": {},
   "outputs": [
    {
     "name": "stdout",
     "output_type": "stream",
     "text": [
      "0.4128258228302002\n"
     ]
    }
   ],
   "source": [
    "# Numpy: \n",
    "import time\n",
    "a = np.arange(10000000)\n",
    "b = np.arange(10000000, 20000000)\n",
    "\n",
    "start = time.time()\n",
    "c = a + b\n",
    "print(time.time() - start)\n"
   ]
  },
  {
   "cell_type": "code",
   "execution_count": 4,
   "id": "1ac6a2f5",
   "metadata": {},
   "outputs": [
    {
     "name": "stdout",
     "output_type": "stream",
     "text": [
      "89095160\n"
     ]
    }
   ],
   "source": [
    "# 2. Memory:\n",
    "# List: \n",
    "\n",
    "import sys \n",
    "a = [i for i in range(10000000)]\n",
    "print(sys.getsizeof(a))\n"
   ]
  },
  {
   "cell_type": "code",
   "execution_count": null,
   "id": "87387083",
   "metadata": {},
   "outputs": [
    {
     "name": "stdout",
     "output_type": "stream",
     "text": [
      "80000112\n",
      "40000112\n",
      "10000112\n"
     ]
    }
   ],
   "source": [
    "# Numpy: \n",
    "import sys \n",
    "a = np.arange(10000000) # its about same as list, because by default its in int64\n",
    "print(sys.getsizeof(a))\n",
    "\n",
    "# What if we reduce size? \n",
    "a = np.arange(10000000, dtype= np.int32)\n",
    "print(sys.getsizeof(a)) # Now its half the size.\n",
    "\n",
    "# What if we reduce the size further? \n",
    "a = np.arange(10000000, dtype= np.int8)\n",
    "print(sys.getsizeof(a)) # Numpy allows us to reduce size, list doesnt have that functionality. "
   ]
  },
  {
   "cell_type": "code",
   "execution_count": 14,
   "id": "448c4505",
   "metadata": {},
   "outputs": [
    {
     "name": "stdout",
     "output_type": "stream",
     "text": [
      "[[ 0  1  2  3]\n",
      " [ 4  5  6  7]\n",
      " [ 8  9 10 11]\n",
      " [12 13 14 15]\n",
      " [16 17 18 19]\n",
      " [20 21 22 23]]\n"
     ]
    }
   ],
   "source": [
    "a = np.arange(24).reshape(6,4)\n",
    "print(a)"
   ]
  },
  {
   "cell_type": "code",
   "execution_count": 16,
   "id": "319660d1",
   "metadata": {},
   "outputs": [
    {
     "name": "stdout",
     "output_type": "stream",
     "text": [
      "5\n",
      "[[ 5  6]\n",
      " [ 9 10]]\n"
     ]
    }
   ],
   "source": [
    "# Fancy indexing: \n",
    "print(a[1,1]) # Normal indexing\n",
    "print(a[1:3, 1:3])"
   ]
  },
  {
   "cell_type": "code",
   "execution_count": 20,
   "id": "5784e719",
   "metadata": {},
   "outputs": [
    {
     "data": {
      "text/plain": [
       "array([[ 0,  2,  3],\n",
       "       [ 4,  6,  7],\n",
       "       [ 8, 10, 11],\n",
       "       [12, 14, 15],\n",
       "       [16, 18, 19],\n",
       "       [20, 22, 23]])"
      ]
     },
     "execution_count": 20,
     "metadata": {},
     "output_type": "execute_result"
    }
   ],
   "source": [
    "# say we want to fetch the rows 1,3,4\n",
    "a[[1,3,4]] # gives row 1,3,4, as there is no pattern, we are entering indexes. Slicing requires pattern, fancy indexing doesnt. \n",
    "\n",
    "a[[1,3,4],:2]\n",
    "\n",
    "a[:, [0,2,3]]"
   ]
  },
  {
   "cell_type": "code",
   "execution_count": 21,
   "id": "75124774",
   "metadata": {},
   "outputs": [],
   "source": [
    "a= np.random.randint(1,100, 24).reshape(6,4)"
   ]
  },
  {
   "cell_type": "code",
   "execution_count": 24,
   "id": "6eaac7b8",
   "metadata": {},
   "outputs": [
    {
     "data": {
      "text/plain": [
       "array([96, 64, 92, 70, 80, 60, 63, 82, 77, 53, 76, 69, 71])"
      ]
     },
     "execution_count": 24,
     "metadata": {},
     "output_type": "execute_result"
    }
   ],
   "source": [
    "# Boolean indexing: There can be usecase where we need to find the element based on some condition. \n",
    "\n",
    "# greater than 50\n",
    "a>50 # relational operator\n",
    "\n",
    "a[a>50] # This is called masking, it will return value of a where relational answer was True. "
   ]
  },
  {
   "cell_type": "code",
   "execution_count": 25,
   "id": "19697e2d",
   "metadata": {},
   "outputs": [
    {
     "data": {
      "text/plain": [
       "array([96, 24, 64, 92,  2, 70, 80, 30, 60, 20, 82, 36, 38, 76])"
      ]
     },
     "execution_count": 25,
     "metadata": {},
     "output_type": "execute_result"
    }
   ],
   "source": [
    "# Return only even numbers \n",
    "\n",
    "a[a%2==0]"
   ]
  },
  {
   "cell_type": "code",
   "execution_count": 30,
   "id": "6ddf2794",
   "metadata": {},
   "outputs": [
    {
     "data": {
      "text/plain": [
       "array([96, 64, 92, 70, 80, 60, 82, 76])"
      ]
     },
     "execution_count": 30,
     "metadata": {},
     "output_type": "execute_result"
    }
   ],
   "source": [
    "# Find all the numbers greater > 50 and are even \n",
    "a[(a%2==0) & (a>50)]"
   ]
  },
  {
   "cell_type": "code",
   "execution_count": null,
   "id": "ec47f316",
   "metadata": {},
   "outputs": [
    {
     "name": "stdout",
     "output_type": "stream",
     "text": [
      "[96 24 64 92  2 80 43 30 60 19 20 82 39 53 36 38 76 69 71]\n",
      "[96 24 64 92  2 80 43 30 60 19 20 82 39 53 36 38 76 69 71]\n"
     ]
    }
   ],
   "source": [
    "# Find by all the number not divisible by 7\n",
    "print(a[a%7!=0])\n",
    "\n",
    "# or \n",
    "\n",
    "print(a[~(a%7 ==0)])"
   ]
  },
  {
   "cell_type": "markdown",
   "id": "1e0daa95",
   "metadata": {},
   "source": [
    "### Array Broadcasting \n",
    "\n",
    "The term broadcasting describes how NumPy treats arrays with different shapes during arithmetic operations.\n",
    "\n",
    "The smaller array is “broadcast” across the larger array so that they have compatible shapes."
   ]
  },
  {
   "cell_type": "code",
   "execution_count": 34,
   "id": "053dce3d",
   "metadata": {},
   "outputs": [],
   "source": [
    "# same shape\n",
    "\n",
    "import numpy as np\n",
    "a = np.arange(6).reshape(2,3)\n",
    "b = np.arange(6,12).reshape(2,3)"
   ]
  },
  {
   "cell_type": "code",
   "execution_count": null,
   "id": "cabb7ef1",
   "metadata": {},
   "outputs": [
    {
     "name": "stdout",
     "output_type": "stream",
     "text": [
      "[[0 1 2]\n",
      " [3 4 5]]\n",
      "[[ 6  7  8]\n",
      " [ 9 10 11]]\n",
      "[[ 6  8 10]\n",
      " [12 14 16]]\n"
     ]
    }
   ],
   "source": [
    "print(a)\n",
    "print(b)\n",
    "print(a+b) # element wise "
   ]
  },
  {
   "cell_type": "code",
   "execution_count": null,
   "id": "8992dfa8",
   "metadata": {},
   "outputs": [],
   "source": [
    "# diff shapes\n",
    "\n",
    "# Example 1: \n",
    "\n",
    "a = np.arange(6).reshape(2,3)\n",
    "b = np.arange(3).reshape(1,3)\n"
   ]
  },
  {
   "cell_type": "code",
   "execution_count": null,
   "id": "7db05401",
   "metadata": {},
   "outputs": [
    {
     "name": "stdout",
     "output_type": "stream",
     "text": [
      "[[0 1 2]\n",
      " [3 4 5]]\n",
      "[[0 1 2]]\n",
      "[[0 2 4]\n",
      " [3 5 7]]\n"
     ]
    }
   ],
   "source": [
    "print(a)\n",
    "print(b)\n",
    "print(a+b) # row 1 of a + vector b element wise, row 2 of a + vector b element wise "
   ]
  },
  {
   "cell_type": "markdown",
   "id": "098e39a4",
   "metadata": {},
   "source": [
    "#### Rules\n",
    "\n",
    "**1. Make the two arrays have the same number of dimensions.**<br>\n",
    "- If the numbers of dimensions of the two arrays are different, add new dimensions with size 1 to the head of the array with the smaller dimension.<br>"
   ]
  },
  {
   "cell_type": "markdown",
   "id": "68fd25ad",
   "metadata": {},
   "source": [
    "**2. Make each dimension of the two arrays the same size.**<br>\n",
    "- If the sizes of each dimension of the two arrays do not match, dimensions with size 1 are stretched to the size of the other array.\n",
    "- If there is a dimension whose size is not 1 in either of the two arrays, it cannot be broadcasted, and an error is raised."
   ]
  },
  {
   "cell_type": "code",
   "execution_count": 41,
   "id": "131d85c7",
   "metadata": {},
   "outputs": [
    {
     "name": "stdout",
     "output_type": "stream",
     "text": [
      "2\n",
      "(2, 3)\n",
      "2\n",
      "(1, 3)\n"
     ]
    }
   ],
   "source": [
    "print(a.ndim)\n",
    "print(a.shape)\n",
    "print(b.ndim)\n",
    "print(b.shape)"
   ]
  },
  {
   "cell_type": "code",
   "execution_count": 51,
   "id": "bbdd9fb7",
   "metadata": {},
   "outputs": [],
   "source": [
    "# Example 2: \n",
    "a = np.arange(6).reshape(2,3)\n",
    "b = np.arange(3).reshape(3)"
   ]
  },
  {
   "cell_type": "code",
   "execution_count": 52,
   "id": "60e5caef",
   "metadata": {},
   "outputs": [
    {
     "name": "stdout",
     "output_type": "stream",
     "text": [
      "2\n",
      "(2, 3)\n",
      "1\n",
      "(3,)\n",
      "[[0 2 4]\n",
      " [3 5 7]]\n"
     ]
    }
   ],
   "source": [
    "print(a.ndim)\n",
    "print(a.shape)\n",
    "print(b.ndim)\n",
    "print(b.shape)\n",
    "print(a+b)"
   ]
  },
  {
   "cell_type": "code",
   "execution_count": null,
   "id": "c06468de",
   "metadata": {},
   "outputs": [],
   "source": [
    "# Example 3: \n",
    "a = np.arange(3).reshape((3, 1))\n",
    "b = np.arange(3)"
   ]
  },
  {
   "cell_type": "code",
   "execution_count": 48,
   "id": "1c5abaa4",
   "metadata": {},
   "outputs": [
    {
     "name": "stdout",
     "output_type": "stream",
     "text": [
      "[[0]\n",
      " [1]\n",
      " [2]]\n",
      "2\n",
      "(3, 1)\n",
      "[0 1 2]\n",
      "1\n",
      "(3,)\n"
     ]
    }
   ],
   "source": [
    "print(a)\n",
    "print(a.ndim)\n",
    "print(a.shape)\n",
    "print(b)\n",
    "print(b.ndim)\n",
    "print(b.shape)"
   ]
  },
  {
   "cell_type": "code",
   "execution_count": null,
   "id": "f78419b3",
   "metadata": {},
   "outputs": [],
   "source": [
    "\"\"\"\n",
    "rule 1: check for dimension\n",
    "As its not same, so it will add 1 to the head. \n",
    "it will make b.shape= (1,3)\n",
    "\n",
    "rule 2: check for each dimension\n",
    "\n",
    "(3,1)=(1,3) i.e not same\n",
    "\n",
    "Take the 1 and strech it till dimension become same. \n",
    "\n",
    "a columns will have to be streched (i.e multiplied)\n",
    "b rows will have to be streched (i.e multiplied)\n",
    "\n",
    "leading a= (3,3) and b= (3,3)\n",
    "a= [0 0 0\n",
    "    1 1 1\n",
    "    2 2 2]\n",
    "\n",
    "b= [0 1 2\n",
    "    0 1 2\n",
    "    0 1 2]\n",
    "\n",
    "Finally, adding element wise \n",
    "\n",
    "a+b= [0 1 2\n",
    "      1 2 3\n",
    "      2 3 4]\n",
    "\"\"\""
   ]
  },
  {
   "cell_type": "code",
   "execution_count": 49,
   "id": "df7ec8ca",
   "metadata": {},
   "outputs": [
    {
     "data": {
      "text/plain": [
       "array([[0, 1, 2],\n",
       "       [1, 2, 3],\n",
       "       [2, 3, 4]])"
      ]
     },
     "execution_count": 49,
     "metadata": {},
     "output_type": "execute_result"
    }
   ],
   "source": [
    "# Lets check: \n",
    "a+b"
   ]
  },
  {
   "cell_type": "code",
   "execution_count": 54,
   "id": "b3c8c531",
   "metadata": {},
   "outputs": [
    {
     "ename": "ValueError",
     "evalue": "operands could not be broadcast together with shapes (2,3) (3,2) ",
     "output_type": "error",
     "traceback": [
      "\u001b[31m---------------------------------------------------------------------------\u001b[39m",
      "\u001b[31mValueError\u001b[39m                                Traceback (most recent call last)",
      "\u001b[36mCell\u001b[39m\u001b[36m \u001b[39m\u001b[32mIn[54]\u001b[39m\u001b[32m, line 19\u001b[39m\n\u001b[32m      5\u001b[39m \u001b[33;03m\"\"\"\u001b[39;00m\n\u001b[32m      6\u001b[39m \u001b[33;03mThe shape of a and b is not same, \u001b[39;00m\n\u001b[32m      7\u001b[39m \u001b[33;03mso it will try array broadcasting. \u001b[39;00m\n\u001b[32m   (...)\u001b[39m\u001b[32m     15\u001b[39m \u001b[33;03mThus array broadcasting will not work, throwing error. \u001b[39;00m\n\u001b[32m     16\u001b[39m \u001b[33;03m\"\"\"\u001b[39;00m\n\u001b[32m     17\u001b[39m \u001b[38;5;66;03m# Lets check: \u001b[39;00m\n\u001b[32m---> \u001b[39m\u001b[32m19\u001b[39m \u001b[38;5;28mprint\u001b[39m(\u001b[43ma\u001b[49m\u001b[43m+\u001b[49m\u001b[43mb\u001b[49m)\n",
      "\u001b[31mValueError\u001b[39m: operands could not be broadcast together with shapes (2,3) (3,2) "
     ]
    }
   ],
   "source": [
    "# Example 4:\n",
    "a = np.arange(6).reshape(2,3)\n",
    "b = np.arange(6).reshape(3,2)\n",
    "\n",
    "\"\"\"\n",
    "The shape of a and b is not same, \n",
    "so it will try array broadcasting. \n",
    "\n",
    "rule 1: \n",
    "both the dimensions are same, we are good. \n",
    "\n",
    "rule 2:\n",
    "it will check for each dimensions, they are not same, but same time we dont have 1 to strech.\n",
    "\n",
    "Thus array broadcasting will not work, throwing error. \n",
    "\"\"\"\n",
    "# Lets check: \n",
    "\n",
    "print(a+b)"
   ]
  },
  {
   "cell_type": "code",
   "execution_count": 56,
   "id": "30b7214d",
   "metadata": {},
   "outputs": [
    {
     "name": "stdout",
     "output_type": "stream",
     "text": [
      "[[1. 2. 3.]\n",
      " [1. 2. 3.]]\n"
     ]
    }
   ],
   "source": [
    "# Example 5: \n",
    "a= np.ones((2,3))\n",
    "b= np.arange(3)\n",
    "\n",
    "\"\"\" \n",
    "ndim of a -> 2, a.shape= (2,3)\n",
    "ndim of b -> 1, b.shape= (3,) \n",
    "\n",
    "rule 1: dimensions are not matching, add 1 to the head of the smallest array \n",
    "    Thus changing shape of b -> (1,3) and b.ndim -> 2 \n",
    "\n",
    "rule 2: check if each dimensions are matching, which is not the case. Do we have 1? Yes, we do.... \n",
    "    so we can stretch that to see if we can get shape to match. \n",
    "    Lets strech b to 2 using rows. \n",
    "    b=[0 1 2\n",
    "       0 1 2]\n",
    "\n",
    "    Now shape of both a and b is matching. \n",
    "\n",
    "    So array broadcasting can happen.\n",
    "\n",
    "    a+b=[1 2 3\n",
    "         1 2 3] \n",
    "\"\"\"\n",
    "# Lets check \n",
    "\n",
    "print(a+b)"
   ]
  },
  {
   "cell_type": "code",
   "execution_count": null,
   "id": "6b3901a7",
   "metadata": {},
   "outputs": [
    {
     "ename": "ValueError",
     "evalue": "operands could not be broadcast together with shapes (3,2) (3,) ",
     "output_type": "error",
     "traceback": [
      "\u001b[31m---------------------------------------------------------------------------\u001b[39m",
      "\u001b[31mValueError\u001b[39m                                Traceback (most recent call last)",
      "\u001b[36mCell\u001b[39m\u001b[36m \u001b[39m\u001b[32mIn[59]\u001b[39m\u001b[32m, line 5\u001b[39m\n\u001b[32m      2\u001b[39m a= np.ones((\u001b[32m3\u001b[39m,\u001b[32m2\u001b[39m))\n\u001b[32m      3\u001b[39m b= np.arange(\u001b[32m3\u001b[39m)\n\u001b[32m----> \u001b[39m\u001b[32m5\u001b[39m \u001b[38;5;28mprint\u001b[39m(\u001b[43ma\u001b[49m\u001b[43m+\u001b[49m\u001b[43mb\u001b[49m)\n",
      "\u001b[31mValueError\u001b[39m: operands could not be broadcast together with shapes (3,2) (3,) "
     ]
    }
   ],
   "source": [
    "# Example 6: \n",
    "a= np.ones((3,2))\n",
    "b= np.arange(3)\n",
    "\n",
    "print(a+b) #broadcasting cant happen. \n"
   ]
  },
  {
   "cell_type": "code",
   "execution_count": 60,
   "id": "9c4d3a30",
   "metadata": {},
   "outputs": [],
   "source": [
    "# Example 7: \n",
    "a = np.arange(12).reshape(3,4)\n",
    "b = np.arange(3)\n",
    "\n",
    "# will get to (3,4) and (3,3), then fail. Hence broadcasting wont work. "
   ]
  },
  {
   "cell_type": "code",
   "execution_count": null,
   "id": "17903b5e",
   "metadata": {},
   "outputs": [
    {
     "name": "stdout",
     "output_type": "stream",
     "text": [
      "[[0 1 2]\n",
      " [1 2 3]\n",
      " [2 3 4]\n",
      " [3 4 5]]\n"
     ]
    }
   ],
   "source": [
    "# Example 8: \n",
    "a = np.arange(3).reshape(1,3)\n",
    "b = np.arange(4).reshape(4,1)\n",
    "\n",
    "print(a+b) # shape (4,3)"
   ]
  },
  {
   "cell_type": "code",
   "execution_count": 63,
   "id": "7a754764",
   "metadata": {},
   "outputs": [
    {
     "name": "stdout",
     "output_type": "stream",
     "text": [
      "[[1 2]\n",
      " [3 4]]\n"
     ]
    }
   ],
   "source": [
    "# Example 9: \n",
    "a = np.array([1])\n",
    "b = np.arange(4).reshape(2,2)\n",
    "\n",
    "print(a+b) # shape (2,2)\n"
   ]
  },
  {
   "cell_type": "code",
   "execution_count": 64,
   "id": "f8c52260",
   "metadata": {},
   "outputs": [],
   "source": [
    "# Example 10: \n",
    "a = np.arange(12).reshape(3,4)\n",
    "b = np.arange(12).reshape(4,3)\n",
    "\n",
    "# broadcasting wont work. "
   ]
  },
  {
   "cell_type": "markdown",
   "id": "a75fa784",
   "metadata": {},
   "source": [
    "### Numpy Tricks "
   ]
  },
  {
   "cell_type": "code",
   "execution_count": 70,
   "id": "2c511c51",
   "metadata": {},
   "outputs": [],
   "source": [
    "# Working with mathematical formula's"
   ]
  },
  {
   "cell_type": "code",
   "execution_count": null,
   "id": "b77acf36",
   "metadata": {},
   "outputs": [
    {
     "name": "stdout",
     "output_type": "stream",
     "text": [
      "[0.5        0.73105858 0.88079708 0.95257413 0.98201379 0.99330715\n",
      " 0.99752738 0.99908895 0.99966465 0.99987661 0.9999546  0.9999833\n",
      " 0.99999386 0.99999774 0.99999917 0.99999969 0.99999989 0.99999996\n",
      " 0.99999998 0.99999999 1.         1.         1.         1.\n",
      " 1.         1.         1.         1.         1.         1.\n",
      " 1.         1.         1.         1.         1.         1.\n",
      " 1.         1.         1.         1.         1.         1.\n",
      " 1.         1.         1.         1.         1.         1.\n",
      " 1.         1.         1.         1.         1.         1.\n",
      " 1.         1.         1.         1.         1.         1.\n",
      " 1.         1.         1.         1.         1.         1.\n",
      " 1.         1.         1.         1.         1.         1.\n",
      " 1.         1.         1.         1.         1.         1.\n",
      " 1.         1.         1.         1.         1.         1.\n",
      " 1.         1.         1.         1.         1.         1.\n",
      " 1.         1.         1.         1.         1.         1.\n",
      " 1.         1.         1.         1.        ]\n"
     ]
    }
   ],
   "source": [
    "# Sigmoid: Formula -> 1/ (1+e^ -x) Used mostly in Logistic Regression \n",
    "\n",
    "def sigmoid(arr:np.array): \n",
    "    return 1/ (1+ np.exp(-(arr)))\n",
    "\n",
    "\n",
    "\n",
    "a = np.arange(100)\n",
    "\n",
    "print(sigmoid(a))"
   ]
  },
  {
   "cell_type": "code",
   "execution_count": null,
   "id": "e3cb246c",
   "metadata": {},
   "outputs": [
    {
     "name": "stdout",
     "output_type": "stream",
     "text": [
      "[ 1.  2.  3.  4. nan  6.]\n"
     ]
    },
    {
     "data": {
      "text/plain": [
       "array([1., 2., 3., 4., 6.])"
      ]
     },
     "execution_count": 76,
     "metadata": {},
     "output_type": "execute_result"
    }
   ],
   "source": [
    "# Working with missing values:  We dont use None in Numpy, we use np.NaN\n",
    "\n",
    "a=np.array([1,2,3,4, np.nan, 6])\n",
    "print(a)\n",
    "\n",
    "\n",
    "# We want to see in array where we have nan: \n",
    "np.isnan(a) #-> bool \n",
    "\n",
    "# Now if we want to which values are nan, use masking \n",
    "\n",
    "a[np.isnan(a)] # this is showing nan, but whats the point \n",
    "\n",
    "# We are usually interested in only non empty values \n",
    "\n",
    "a[~(np.isnan(a))] # This is showing values that are nont nan. "
   ]
  },
  {
   "cell_type": "code",
   "execution_count": 83,
   "id": "b60734c6",
   "metadata": {},
   "outputs": [
    {
     "data": {
      "text/plain": [
       "[<matplotlib.lines.Line2D at 0x114462710>]"
      ]
     },
     "execution_count": 83,
     "metadata": {},
     "output_type": "execute_result"
    },
    {
     "data": {
      "image/png": "[encoded data removed]",
      "text/plain": [
       "<Figure size 640x480 with 1 Axes>"
      ]
     },
     "metadata": {},
     "output_type": "display_data"
    }
   ],
   "source": [
    "# Numpy helps a lot with plotting of graphs:\n",
    "\n",
    "import matplotlib.pyplot as plt \n",
    "\n",
    "x= np.linspace(-10,10,20)\n",
    "y=x \n",
    "\n",
    "plt.plot(x,y)"
   ]
  },
  {
   "cell_type": "code",
   "execution_count": 84,
   "id": "6eda56be",
   "metadata": {},
   "outputs": [
    {
     "data": {
      "text/plain": [
       "[<matplotlib.lines.Line2D at 0x11477d450>]"
      ]
     },
     "execution_count": 84,
     "metadata": {},
     "output_type": "execute_result"
    },
    {
     "data": {
      "image/png": "[encoded data removed]",
      "text/plain": [
       "<Figure size 640x480 with 1 Axes>"
      ]
     },
     "metadata": {},
     "output_type": "display_data"
    }
   ],
   "source": [
    "x= np.linspace(-10,10,20)\n",
    "y=x**2 \n",
    "\n",
    "plt.plot(x,y)"
   ]
  },
  {
   "cell_type": "code",
   "execution_count": 85,
   "id": "6b1537b8",
   "metadata": {},
   "outputs": [
    {
     "data": {
      "text/plain": [
       "[<matplotlib.lines.Line2D at 0x1147f5310>]"
      ]
     },
     "execution_count": 85,
     "metadata": {},
     "output_type": "execute_result"
    },
    {
     "data": {
      "image/png": "[encoded data removed]",
      "text/plain": [
       "<Figure size 640x480 with 1 Axes>"
      ]
     },
     "metadata": {},
     "output_type": "display_data"
    }
   ],
   "source": [
    "x= np.linspace(-10,10,20)\n",
    "y= np.sin(x)\n",
    "\n",
    "plt.plot(x,y)"
   ]
  },
  {
   "cell_type": "code",
   "execution_count": 86,
   "id": "6372e13f",
   "metadata": {},
   "outputs": [
    {
     "name": "stderr",
     "output_type": "stream",
     "text": [
      "/var/folders/xw/_lnfz_x56cn_zn8_slshkwp80000gn/T/ipykernel_93971/947820309.py:2: RuntimeWarning: invalid value encountered in log\n",
      "  y= np.log(x)\n"
     ]
    },
    {
     "data": {
      "text/plain": [
       "[<matplotlib.lines.Line2D at 0x114891e50>]"
      ]
     },
     "execution_count": 86,
     "metadata": {},
     "output_type": "execute_result"
    },
    {
     "data": {
      "image/png": "[encoded data removed]",
      "text/plain": [
       "<Figure size 640x480 with 1 Axes>"
      ]
     },
     "metadata": {},
     "output_type": "display_data"
    }
   ],
   "source": [
    "x= np.linspace(-10,10,20)\n",
    "y= np.log(x)\n",
    "\n",
    "plt.plot(x,y)"
   ]
  },
  {
   "cell_type": "code",
   "execution_count": 87,
   "id": "33195c72",
   "metadata": {},
   "outputs": [
    {
     "data": {
      "text/plain": [
       "[<matplotlib.lines.Line2D at 0x1148eb4d0>]"
      ]
     },
     "execution_count": 87,
     "metadata": {},
     "output_type": "execute_result"
    },
    {
     "data": {
      "image/png": "[encoded data removed]",
      "text/plain": [
       "<Figure size 640x480 with 1 Axes>"
      ]
     },
     "metadata": {},
     "output_type": "display_data"
    }
   ],
   "source": [
    "x= np.linspace(-10,10,20)\n",
    "y= np.exp(x)\n",
    "\n",
    "plt.plot(x,y)"
   ]
  },
  {
   "cell_type": "code",
   "execution_count": 88,
   "id": "317e7e43",
   "metadata": {},
   "outputs": [
    {
     "data": {
      "text/plain": [
       "[<matplotlib.lines.Line2D at 0x114976210>]"
      ]
     },
     "execution_count": 88,
     "metadata": {},
     "output_type": "execute_result"
    },
    {
     "data": {
      "image/png": "[encoded data removed]",
      "text/plain": [
       "<Figure size 640x480 with 1 Axes>"
      ]
     },
     "metadata": {},
     "output_type": "display_data"
    }
   ],
   "source": [
    "x= np.linspace(-10,10,20)\n",
    "y= sigmoid(x)\n",
    "\n",
    "plt.plot(x,y)"
   ]
  },
  {
   "cell_type": "code",
   "execution_count": null,
   "id": "c79b916c",
   "metadata": {},
   "outputs": [
    {
     "name": "stdout",
     "output_type": "stream",
     "text": [
      "[55 75 68 62 83 42 79 59 80 22 12 88 80 53 10]\n",
      "[10 12 22 42 53 55 59 62 68 75 79 80 80 83 88]\n",
      "[88 83 80 80 79 75 68 62 59 55 53 42 22 12 10]\n"
     ]
    }
   ],
   "source": [
    "# np.sort: it returns sorted of an array\n",
    "a = np.random.randint(1,100,15)\n",
    "print(a)\n",
    "\n",
    "print(np.sort(a)) # it onl sorts in ascending order \n",
    "print(np.sort(a)[::-1]) # to reverse it, we have to do slicing "
   ]
  },
  {
   "cell_type": "code",
   "execution_count": null,
   "id": "7c63f46b",
   "metadata": {},
   "outputs": [
    {
     "name": "stdout",
     "output_type": "stream",
     "text": [
      "[[50 29 51 34]\n",
      " [35 99 69 50]\n",
      " [27 47 54 63]\n",
      " [54 50 72 59]\n",
      " [16 41 11 89]\n",
      " [52 95 21 78]]\n",
      "[[29 34 50 51]\n",
      " [35 50 69 99]\n",
      " [27 47 54 63]\n",
      " [50 54 59 72]\n",
      " [11 16 41 89]\n",
      " [21 52 78 95]]\n",
      "[[16 29 11 34]\n",
      " [27 41 21 50]\n",
      " [35 47 51 59]\n",
      " [50 50 54 63]\n",
      " [52 95 69 78]\n",
      " [54 99 72 89]]\n"
     ]
    }
   ],
   "source": [
    "b = np.random.randint(1,100,24).reshape(6,4)\n",
    "print(b)\n",
    "\n",
    "print(np.sort(b)) # here its getting sorted row wise in 2 Dim matrix \n",
    "print(np.sort(b, axis =0)) # axis =0, sorts by column. "
   ]
  },
  {
   "cell_type": "code",
   "execution_count": 110,
   "id": "9f39bdca",
   "metadata": {},
   "outputs": [
    {
     "name": "stdout",
     "output_type": "stream",
     "text": [
      "[55 75 68 62 83 42 79 59 80 22 12 88 80 53 10]\n",
      "[ 55  75  68  62  83  42  79  59  80  22  12  88  80  53  10 200]\n",
      "[ 55  75  68  62  83  42  79  59  80  22  12  88  80  53  10 400 300]\n",
      "[[50 29 51 34]\n",
      " [35 99 69 50]\n",
      " [27 47 54 63]\n",
      " [54 50 72 59]\n",
      " [16 41 11 89]\n",
      " [52 95 21 78]]\n",
      "[5.00000000e+01 2.90000000e+01 5.10000000e+01 3.40000000e+01\n",
      " 3.50000000e+01 9.90000000e+01 6.90000000e+01 5.00000000e+01\n",
      " 2.70000000e+01 4.70000000e+01 5.40000000e+01 6.30000000e+01\n",
      " 5.40000000e+01 5.00000000e+01 7.20000000e+01 5.90000000e+01\n",
      " 1.60000000e+01 4.10000000e+01 1.10000000e+01 8.90000000e+01\n",
      " 5.20000000e+01 9.50000000e+01 2.10000000e+01 7.80000000e+01\n",
      " 6.01829791e-01 5.09980205e-01 7.84122391e-01 4.75866553e-01\n",
      " 3.40467909e-01 3.28321171e-02]\n",
      "[[50.         29.         51.         34.          0.93326883]\n",
      " [35.         99.         69.         50.          0.45446735]\n",
      " [27.         47.         54.         63.          0.3896382 ]\n",
      " [54.         50.         72.         59.          0.97431096]\n",
      " [16.         41.         11.         89.          0.51929839]\n",
      " [52.         95.         21.         78.          0.27635928]]\n"
     ]
    }
   ],
   "source": [
    "# np.append: it will add the element at the end. \n",
    "print(a)\n",
    "print(np.append(a,200))\n",
    "print(np.append(a, [400,300])) # we can append multiple values as well. \n",
    "\n",
    "\n",
    "print(b)\n",
    "print(np.append(b, np.random.random([1, b.shape[0]]))) # here it is going to append a matrix of random numbers of shape (b[0],1).\n",
    "print(np.append(b, np.random.random([b.shape[0], 1]), axis =1)) # Column appended "
   ]
  },
  {
   "cell_type": "code",
   "execution_count": null,
   "id": "95be0650",
   "metadata": {},
   "outputs": [],
   "source": [
    "# np.concatenate or stacking: \n",
    "\n",
    "c = np.arange(6).reshape(2,3)\n",
    "d = np.arange(6,12).reshape(2,3)"
   ]
  },
  {
   "cell_type": "code",
   "execution_count": 118,
   "id": "17f041ee",
   "metadata": {},
   "outputs": [
    {
     "name": "stdout",
     "output_type": "stream",
     "text": [
      "[[0 1 2]\n",
      " [3 4 5]]\n",
      "[[ 6  7  8]\n",
      " [ 9 10 11]]\n",
      "[[ 0  1  2  6  7  8]\n",
      " [ 3  4  5  9 10 11]]\n",
      "[[ 0  1  2]\n",
      " [ 3  4  5]\n",
      " [ 6  7  8]\n",
      " [ 9 10 11]]\n"
     ]
    }
   ],
   "source": [
    "print(c)\n",
    "print(d)\n",
    "print(np.concatenate((c,d), axis=1)) # or np.hstack(c,d)\n",
    "print(np.concatenate((c,d), axis=0)) # or np.vstack(c,d)"
   ]
  },
  {
   "cell_type": "code",
   "execution_count": null,
   "id": "e1456c59",
   "metadata": {},
   "outputs": [
    {
     "name": "stdout",
     "output_type": "stream",
     "text": [
      "[0 1 2 3 4 5]\n"
     ]
    }
   ],
   "source": [
    "# np.unqiue: we can get unique values in an array\n",
    "\n",
    "print(np.unique(c))"
   ]
  },
  {
   "cell_type": "code",
   "execution_count": null,
   "id": "22547a76",
   "metadata": {},
   "outputs": [
    {
     "name": "stdout",
     "output_type": "stream",
     "text": [
      "1\n",
      "(6,)\n",
      "2\n",
      "(1, 6)\n",
      "2\n",
      "(6, 1)\n"
     ]
    }
   ],
   "source": [
    "# expand dim: increases the dimension of an array\n",
    "\n",
    "a= np.arange(6)\n",
    "print(np.ndim(a))\n",
    "print(a.shape)\n",
    "\n",
    "b= np.expand_dims(a, axis=0) # axis is mandatory here, axis=0 -> rows increases \n",
    "print(np.ndim(b))\n",
    "print(b.shape)\n",
    "\n",
    "c= np.expand_dims(a, axis=1) # axis is mandatory here -> columns increases.\n",
    "print(np.ndim(c))\n",
    "print(c.shape)"
   ]
  },
  {
   "cell_type": "code",
   "execution_count": 155,
   "id": "d47500d6",
   "metadata": {},
   "outputs": [
    {
     "name": "stdout",
     "output_type": "stream",
     "text": [
      "[91 71 74 76 86 15 13 23 47 85 24 80 61 24 70]\n",
      "(array([ 0,  1,  2,  3,  4,  9, 11, 12, 14]),)\n",
      "[91 71 74 76 86 85 80 61 70]\n"
     ]
    }
   ],
   "source": [
    "# np.where - returns the indices of element in an input array where the given condition is satisfied\n",
    "# np.where(condition)\n",
    "\n",
    "a = np.random.randint(1,100,15)\n",
    "print(a)\n",
    "print(np.where(a>50)) # keep in mind its returning indexes not values. \n",
    "print(a[np.where(a>50)]) # so you can use masking to get values in a where conditions is satisfied, "
   ]
  },
  {
   "cell_type": "code",
   "execution_count": null,
   "id": "e78447fe",
   "metadata": {},
   "outputs": [
    {
     "name": "stdout",
     "output_type": "stream",
     "text": [
      "[[57 52 52 55]\n",
      " [96 82 86 74]\n",
      " [25 73 84 96]\n",
      " [15 90 13 20]\n",
      " [82 79 57 82]\n",
      " [34 79 33 42]]\n",
      "[52 52 96 82 86 74 84 96 90 20 82 82 34 42]\n",
      "[[nan 52. 52. nan]\n",
      " [96. 82. 86. 74.]\n",
      " [nan nan 84. 96.]\n",
      " [nan 90. nan 20.]\n",
      " [82. nan nan 82.]\n",
      " [34. nan nan 42.]]\n"
     ]
    }
   ],
   "source": [
    "b = np.random.randint(1,100,24).reshape(6,4)\n",
    "print(b)\n",
    "\n",
    "np.where(b%2==0) # return index of the values. \n",
    "print(b[np.where(b%2==0)]) # for more than one dimension, it will return flattened form of the values.\n",
    "\n",
    "\n",
    "# so if you want to keep shape you will need to replace non-matching values \n",
    "print(np.where(b%2==0, b, np.nan))"
   ]
  },
  {
   "cell_type": "code",
   "execution_count": null,
   "id": "432c127b",
   "metadata": {},
   "outputs": [
    {
     "name": "stdout",
     "output_type": "stream",
     "text": [
      "[ 9 53 47 20 97 64 34 48 94 88 66 93 66 68  1]\n",
      "[ 9  0 47 20  0  0 34 48  0  0  0  0  0  0  1]\n"
     ]
    }
   ],
   "source": [
    "# replace \n",
    "print(a)\n",
    "print(np.where(a>50,0, a)) # all the values of a that is greater than 50, with zero in array a. "
   ]
  },
  {
   "cell_type": "code",
   "execution_count": 189,
   "id": "c3a1eb68",
   "metadata": {},
   "outputs": [
    {
     "name": "stdout",
     "output_type": "stream",
     "text": [
      "[21 29 37 45 15 73 66 46 46 88 34 48 66 31 34]\n",
      "9\n"
     ]
    }
   ],
   "source": [
    "# np.argmax: argument of maximum value and only first occurence. \n",
    "\n",
    "a = np.random.randint(1,100,15)\n",
    "print(a)\n",
    "print(np.argmax(a)) # returns the index of maximum element along a particular axis. "
   ]
  },
  {
   "cell_type": "code",
   "execution_count": 161,
   "id": "2e5fb5d7",
   "metadata": {},
   "outputs": [
    {
     "name": "stdout",
     "output_type": "stream",
     "text": [
      "[[30 63 20 80]\n",
      " [ 2 69 36 90]\n",
      " [10 73 69 40]\n",
      " [93 55 84 49]\n",
      " [16 41 50 90]\n",
      " [70 37 62 64]]\n",
      "12\n",
      "[3 2 3 1]\n",
      "[3 3 1 0 3 0]\n"
     ]
    }
   ],
   "source": [
    "b = np.random.randint(1,100,24).reshape(6,4)\n",
    "print(b)\n",
    "print(np.argmax(b)) # incase axis is not passed, it will flatten it and then give maximum value index. \n",
    "print(np.argmax(b, axis=0)) # 0 -> columns\n",
    "print(np.argmax(b, axis=1)) # 0 -> rows\n"
   ]
  },
  {
   "cell_type": "code",
   "execution_count": 177,
   "id": "a90e6aaa",
   "metadata": {},
   "outputs": [
    {
     "name": "stdout",
     "output_type": "stream",
     "text": [
      "[69 90 25 29 13 84 28 82 62 53 58 49 92 22 22]\n",
      "[ 69 159 184 213 226 310 338 420 482 535 593 642 734 756 778]\n",
      "[[30 63 20 80]\n",
      " [ 2 69 36 90]\n",
      " [10 73 69 40]\n",
      " [93 55 84 49]\n",
      " [16 41 50 90]\n",
      " [70 37 62 64]]\n",
      "[  30   93  113  193  195  264  300  390  400  473  542  582  675  730\n",
      "  814  863  879  920  970 1060 1130 1167 1229 1293]\n",
      "[[ 30  93 113 193]\n",
      " [  2  71 107 197]\n",
      " [ 10  83 152 192]\n",
      " [ 93 148 232 281]\n",
      " [ 16  57 107 197]\n",
      " [ 70 107 169 233]]\n",
      "[[ 30  63  20  80]\n",
      " [ 32 132  56 170]\n",
      " [ 42 205 125 210]\n",
      " [135 260 209 259]\n",
      " [151 301 259 349]\n",
      " [221 338 321 413]]\n"
     ]
    }
   ],
   "source": [
    "# np.cumsum: cumulative sum \n",
    "\n",
    "a = np.random.randint(1,100,15)\n",
    "print(a)\n",
    "print(np.cumsum(a))\n",
    "\n",
    "print(b)\n",
    "print(np.cumsum(b)) # incase axis is not passed, it will flatten it and give cumulative sum.  \n",
    "print(np.cumsum(b, axis= 1)) # row wise \n",
    "print(np.cumsum(b, axis= 0)) # column wise \n",
    "\n",
    "# similarly you can cumulative product as well (np.cumprod)"
   ]
  },
  {
   "cell_type": "code",
   "execution_count": null,
   "id": "8bd6de99",
   "metadata": {},
   "outputs": [
    {
     "data": {
      "text/plain": [
       "array([90, 25])"
      ]
     },
     "execution_count": 178,
     "metadata": {},
     "output_type": "execute_result"
    }
   ],
   "source": [
    "# np.isin -> we can see that one array having values are checked in a different array having different elements with diff size\n",
    "items = [14,63,12,67,90,43,25,67]\n",
    "np.isin(a,items) # return bool, so we can mask it\n",
    "\n",
    "# it checking what elements of items are in a, yes -> true, else-> False\n",
    "\n",
    "a[np.isin(a,items)]"
   ]
  },
  {
   "cell_type": "code",
   "execution_count": 186,
   "id": "7636ee94",
   "metadata": {},
   "outputs": [
    {
     "name": "stdout",
     "output_type": "stream",
     "text": [
      "[100  90  25  29 100 200  28 100 800  53   0  49  92  22  22]\n",
      "[ 22  22  92  49   0  53 800 100  28 200 100  29  25  90 100]\n"
     ]
    }
   ],
   "source": [
    "# np.flip: it flips the array \n",
    "\n",
    "print(a)\n",
    "print(np.flip(a))"
   ]
  },
  {
   "cell_type": "code",
   "execution_count": null,
   "id": "8c61ad4d",
   "metadata": {},
   "outputs": [
    {
     "name": "stdout",
     "output_type": "stream",
     "text": [
      "[100  29  37  45 100 100  66  46 100  88 100  48  66  31  34]\n",
      "[100  29  37  45 100 100  66  46 100  88 100  48  66  31  34]\n",
      "[100  29  37  45 100 100  66  46 100  88 100  48  66  31  34]\n",
      "[100  29  37  45 100 200  66  46 800  88   0  48  66  31  34]\n"
     ]
    }
   ],
   "source": [
    "# np.put: it allows you replace values at provided indexes, ideally we can update values using index method, but here we are allowed to update multiple values and multiple indexes at same time. \n",
    "\n",
    "print(a)\n",
    "a[4]=100 # using index\n",
    "print(a)\n",
    "\n",
    "# using put method \n",
    "# Updating multiple indexes with one value\n",
    "np.put(a, [0,5,8,10], 100) # updates index 0,5,8,10 all with 100.\n",
    "print(a)\n",
    "# Updating multiple indexes with different values, (i.e one mapping between indexes and values)\n",
    "np.put (a,[0,5,8,10], [100,200,800,0])\n",
    "print(a)"
   ]
  },
  {
   "cell_type": "code",
   "execution_count": 197,
   "id": "8b0121ff",
   "metadata": {},
   "outputs": [
    {
     "name": "stdout",
     "output_type": "stream",
     "text": [
      "(15,)\n",
      "(11,)\n"
     ]
    }
   ],
   "source": [
    "# np.delete: deletes values at provided index \n",
    "\n",
    "print(a.shape)\n",
    "k= np.delete(a,[0,5,8,10])\n",
    "\n",
    "print(k.shape)"
   ]
  },
  {
   "cell_type": "code",
   "execution_count": 203,
   "id": "3ae60aea",
   "metadata": {},
   "outputs": [
    {
     "name": "stdout",
     "output_type": "stream",
     "text": [
      "[100  29  37  45 100 200  66  46 800  88   0  48  66  31  34]\n",
      "[50 29 37 45 50 50 50 46 50 50 20 48 50 31 34]\n"
     ]
    }
   ],
   "source": [
    "# np.clip: it limit your array, on provided threshold. \n",
    "# (incase high it will replace with maximum value, and lower with min_value, thus your all value's in final array will be betwene min and max)\n",
    "print(a)\n",
    "print(np.clip(a, a_min= 20, a_max=50))"
   ]
  },
  {
   "cell_type": "markdown",
   "id": "aec8f9e8",
   "metadata": {},
   "source": [
    "# reading task\n",
    "https://towardsdatascience.com/10-numpy-functions-you-should-know-1dc4863764c5/ - 10 numpy functions\n",
    "https://www.kaggle.com/code/abhayparashar31/best-numpy-functions-for-data-science-50?scriptVersionId=98816580 - numpy functions\n",
    "\n",
    "\n"
   ]
  }
 ],
 "metadata": {
  "kernelspec": {
   "display_name": "base",
   "language": "python",
   "name": "python3"
  },
  "language_info": {
   "codemirror_mode": {
    "name": "ipython",
    "version": 3
   },
   "file_extension": ".py",
   "mimetype": "text/x-python",
   "name": "python",
   "nbconvert_exporter": "python",
   "pygments_lexer": "ipython3",
   "version": "3.13.2"
  }
 },
 "nbformat": 4,
 "nbformat_minor": 5
}
