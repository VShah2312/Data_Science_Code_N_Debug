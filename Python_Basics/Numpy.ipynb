{
 "cells": [
  {
   "cell_type": "markdown",
   "id": "9861f3ec",
   "metadata": {},
   "source": [
    "### Que. What is Numpy?\n",
    "* Numpy stands for Numerical Python\n",
    "* Numpy - is a python package used for working with array\n",
    "* Numpy is the fundamental package for scientific computation in python\n",
    "* Numpy provides various functions which are capable of performing many numeric computation with High speed.\n",
    "* Numpy provides the in-built functions for linear algebra and random number generation"
   ]
  },
  {
   "cell_type": "markdown",
   "id": "11f4ecfe",
   "metadata": {},
   "source": [
    "### Que. By whom & when Numpy was created?\n",
    "* Travis Oliphant created Numpy in the year 2005."
   ]
  },
  {
   "cell_type": "markdown",
   "id": "9472bee2",
   "metadata": {},
   "source": [
    "### Que. Why use Numpy?\n",
    "* in python we have a list that serves the same purpose of arrays, but they are slow to process\n",
    "* numpy is 50x faster than traditional python lists.\n",
    "* an array object in NumPy is called ndarray\n",
    "* Arrays are frequently used in DataScience, where speed and resources are very important\n",
    "\n",
    "- array is a collection of homogenous(same) data"
   ]
  },
  {
   "cell_type": "markdown",
   "id": "868c8b7e",
   "metadata": {},
   "source": [
    "### Numpy Arrays Vs Python Sequences\n",
    "\n",
    "- NumPy arrays have a fixed size at creation, unlike Python lists (which can grow dynamically). Changing the size of an ndarray will create a new array and delete the original.\n",
    "\n",
    "- The elements in a NumPy array are all required to be of the same data type, and thus will be the same size in memory.\n",
    "\n",
    "- NumPy arrays facilitate advanced mathematical and other types of operations on large numbers of data. Typically, such operations are executed more efficiently and with less code than is possible using Python’s built-in sequences.\n",
    "\n",
    "- A growing plethora of scientific and mathematical Python-based packages are using NumPy arrays; though these typically support Python-sequence input, they convert such input to NumPy arrays prior to processing, and they often output NumPy arrays."
   ]
  },
  {
   "cell_type": "markdown",
   "id": "138cad32",
   "metadata": {},
   "source": [
    "#### point 1: Changing size\n",
    "\n",
    "list - 32 bytes to store 5 element 6 64 bytes\n",
    "numpy - 32 bytes to store 5 elememts 6 38 bytes\n",
    "\n",
    "#### point 2: Memory size\n",
    "list = [1,\"afsan\",10.2]\n",
    "numpy = [1,1,1]\n",
    "\n",
    "#### point 3: Statistical functions \n",
    "list - find the mean of the element inside a list - Write your own code\n",
    "\n",
    "numpy - methods - one liner - less code\n",
    "\n",
    "#### points 4: Package (sckiti learn, ml packages, dl packages, Genai packages)\n",
    "\n",
    "list -> package --> numpy convert\n"
   ]
  },
  {
   "cell_type": "code",
   "execution_count": 1,
   "id": "69e16b75",
   "metadata": {},
   "outputs": [
    {
     "name": "stdout",
     "output_type": "stream",
     "text": [
      "Requirement already satisfied: numpy in /opt/miniconda3/lib/python3.13/site-packages (2.3.0)\n"
     ]
    }
   ],
   "source": [
    "# install numpy\n",
    "!pip install numpy  # '!' tell its not python code, its a terminal command"
   ]
  },
  {
   "cell_type": "code",
   "execution_count": 4,
   "id": "34fe0252",
   "metadata": {},
   "outputs": [],
   "source": [
    "# import \n",
    "\n",
    "import numpy as np "
   ]
  },
  {
   "cell_type": "code",
   "execution_count": 6,
   "id": "f536dbef",
   "metadata": {},
   "outputs": [
    {
     "name": "stdout",
     "output_type": "stream",
     "text": [
      "[10 24 54 32 27 36]\n",
      "<class 'numpy.ndarray'>\n"
     ]
    }
   ],
   "source": [
    "# list\n",
    "list_data = [10,24,54,32,27,36]\n",
    "\n",
    "print(np.array(list_data))\n",
    "print(type(np.array(list_data))) # class ndarray."
   ]
  },
  {
   "cell_type": "markdown",
   "id": "d1737abe",
   "metadata": {},
   "source": [
    "#### Different type of arrays\n",
    "* 1D array - vector\n",
    "* 2D array - matrix [rows and columns]\n",
    "* 3d array - 3d matrix [Tensor] [row, column and dept]"
   ]
  },
  {
   "cell_type": "code",
   "execution_count": 15,
   "id": "aee8bb68",
   "metadata": {},
   "outputs": [
    {
     "name": "stdout",
     "output_type": "stream",
     "text": [
      "[[1 2 3]\n",
      " [4 5 6]]\n",
      "[[[1 2 3]\n",
      "  [4 5 6]]\n",
      "\n",
      " [[1 2 3]\n",
      "  [4 5 6]]]\n"
     ]
    }
   ],
   "source": [
    "# creating 2D and 3D arrays \n",
    "list_2= [[1,2,3],[4,5,6]]\n",
    "print(np.array(list_2))\n",
    "\n",
    "list_3 = [[[1,2,3],[4,5,6,]],[[1,2,3],[4,5,6]]] # This is 3D 2 of 2*3 (i.e array(2,3,2))\n",
    "print(np.array(list_3))"
   ]
  },
  {
   "cell_type": "code",
   "execution_count": null,
   "id": "ff4c03c8",
   "metadata": {},
   "outputs": [
    {
     "data": {
      "text/plain": [
       "array([[1., 2., 3.],\n",
       "       [4., 5., 6.]])"
      ]
     },
     "execution_count": 16,
     "metadata": {},
     "output_type": "execute_result"
    }
   ],
   "source": [
    "# 1. dtype -> used to change data type of an array \n",
    "np.array(list_2, dtype= float)"
   ]
  },
  {
   "cell_type": "code",
   "execution_count": 20,
   "id": "370ea1d4",
   "metadata": {},
   "outputs": [
    {
     "name": "stdout",
     "output_type": "stream",
     "text": [
      "[1 2 3 4 5 6 7 8 9]\n",
      "[1 3 5 7 9]\n"
     ]
    }
   ],
   "source": [
    "# 2. arange -> works same as range, only difference is it return array\n",
    "\n",
    "print(np.arange(1,10))\n",
    "print(np.arange(1,10,2))"
   ]
  },
  {
   "cell_type": "code",
   "execution_count": null,
   "id": "a3ceaca4",
   "metadata": {},
   "outputs": [
    {
     "name": "stdout",
     "output_type": "stream",
     "text": [
      "[ 1. 10.]\n",
      "[ 1.          6.44444444 11.88888889 17.33333333 22.77777778 28.22222222\n",
      " 33.66666667 39.11111111 44.55555556 50.        ]\n"
     ]
    }
   ],
   "source": [
    "#3. linspace (linear space) (min, max, num (break it into  n equal parts))\n",
    "\n",
    "print(np.linspace(1,10,2))\n",
    "print(np.linspace(1,50,10))\n",
    "\n",
    "# Note min and max both are inclusive in this method. \n",
    "# 6.4444-1.0 === 11.888-6.444 == 17.3333-11.888, distance between any two consecutive numbers will be constant/same. "
   ]
  },
  {
   "cell_type": "code",
   "execution_count": null,
   "id": "c55b5879",
   "metadata": {},
   "outputs": [],
   "source": [
    "# note: arange and linspace return 1D data only. "
   ]
  },
  {
   "cell_type": "code",
   "execution_count": null,
   "id": "8d65d658",
   "metadata": {},
   "outputs": [
    {
     "name": "stdout",
     "output_type": "stream",
     "text": [
      "[0. 0. 0.]\n",
      "[[0 0 0]\n",
      " [0 0 0]]\n",
      "[[0 0 0]\n",
      " [0 0 0]]\n",
      "[[[0 0]\n",
      "  [0 0]\n",
      "  [0 0]]\n",
      "\n",
      " [[0 0]\n",
      "  [0 0]\n",
      "  [0 0]]]\n"
     ]
    }
   ],
   "source": [
    "# 4 zeros: to create a array of all elements zero, takes a shape in form of iterable.\n",
    "\n",
    "print(np.zeros(3)) # vector of zeros\n",
    "print(np.zeros((2,3),dtype= int)) # 2D zeros matrix\n",
    "print(np.zeros([2,3],dtype= int)) # 2D zeros matrix\n",
    "print(np.zeros((2,3,2),dtype= int)) # 3d zeros matrix"
   ]
  },
  {
   "cell_type": "code",
   "execution_count": null,
   "id": "c30b330a",
   "metadata": {},
   "outputs": [
    {
     "name": "stdout",
     "output_type": "stream",
     "text": [
      "[1. 1. 1.]\n",
      "[[1 1 1]\n",
      " [1 1 1]]\n",
      "[[[1 1]\n",
      "  [1 1]\n",
      "  [1 1]]\n",
      "\n",
      " [[1 1]\n",
      "  [1 1]\n",
      "  [1 1]]]\n"
     ]
    }
   ],
   "source": [
    "# 5 ones: to create a array of all elements ones, takes a shape in form of iterable.\n",
    "print(np.ones(3)) # vector of zeros\n",
    "print(np.ones((2,3),dtype= int)) # 2D zeros matrix\n",
    "print(np.ones((2,3,2),dtype= int)) # 3d zeros matrix"
   ]
  },
  {
   "cell_type": "code",
   "execution_count": null,
   "id": "3a18698f",
   "metadata": {},
   "outputs": [
    {
     "name": "stdout",
     "output_type": "stream",
     "text": [
      "[[1. 0. 0. 0. 0.]\n",
      " [0. 1. 0. 0. 0.]\n",
      " [0. 0. 1. 0. 0.]\n",
      " [0. 0. 0. 1. 0.]\n",
      " [0. 0. 0. 0. 1.]]\n",
      "[[1. 0. 0. 0. 0.]\n",
      " [0. 1. 0. 0. 0.]\n",
      " [0. 0. 1. 0. 0.]\n",
      " [0. 0. 0. 1. 0.]\n",
      " [0. 0. 0. 0. 1.]]\n",
      "[[1. 0. 0.]\n",
      " [0. 1. 0.]]\n"
     ]
    },
    {
     "ename": "TypeError",
     "evalue": "Cannot interpret '3' as a data type",
     "output_type": "error",
     "traceback": [
      "\u001b[31m---------------------------------------------------------------------------\u001b[39m",
      "\u001b[31mTypeError\u001b[39m                                 Traceback (most recent call last)",
      "\u001b[36mCell\u001b[39m\u001b[36m \u001b[39m\u001b[32mIn[41]\u001b[39m\u001b[32m, line 8\u001b[39m\n\u001b[32m      6\u001b[39m \u001b[38;5;66;03m# only difference is, in eye you can allow none square dimensions, identity doesn't allow \u001b[39;00m\n\u001b[32m      7\u001b[39m \u001b[38;5;28mprint\u001b[39m(np.eye(\u001b[32m2\u001b[39m,\u001b[32m3\u001b[39m))\n\u001b[32m----> \u001b[39m\u001b[32m8\u001b[39m \u001b[38;5;28mprint\u001b[39m(\u001b[43mnp\u001b[49m\u001b[43m.\u001b[49m\u001b[43midentity\u001b[49m\u001b[43m(\u001b[49m\u001b[32;43m2\u001b[39;49m\u001b[43m,\u001b[49m\u001b[32;43m3\u001b[39;49m\u001b[43m)\u001b[49m)\n",
      "\u001b[36mFile \u001b[39m\u001b[32m/opt/miniconda3/lib/python3.13/site-packages/numpy/_core/numeric.py:2269\u001b[39m, in \u001b[36midentity\u001b[39m\u001b[34m(n, dtype, like)\u001b[39m\n\u001b[32m   2266\u001b[39m     \u001b[38;5;28;01mreturn\u001b[39;00m _identity_with_like(like, n, dtype=dtype)\n\u001b[32m   2268\u001b[39m \u001b[38;5;28;01mfrom\u001b[39;00m\u001b[38;5;250m \u001b[39m\u001b[34;01mnumpy\u001b[39;00m\u001b[38;5;250m \u001b[39m\u001b[38;5;28;01mimport\u001b[39;00m eye\n\u001b[32m-> \u001b[39m\u001b[32m2269\u001b[39m \u001b[38;5;28;01mreturn\u001b[39;00m \u001b[43meye\u001b[49m\u001b[43m(\u001b[49m\u001b[43mn\u001b[49m\u001b[43m,\u001b[49m\u001b[43m \u001b[49m\u001b[43mdtype\u001b[49m\u001b[43m=\u001b[49m\u001b[43mdtype\u001b[49m\u001b[43m,\u001b[49m\u001b[43m \u001b[49m\u001b[43mlike\u001b[49m\u001b[43m=\u001b[49m\u001b[43mlike\u001b[49m\u001b[43m)\u001b[49m\n",
      "\u001b[36mFile \u001b[39m\u001b[32m/opt/miniconda3/lib/python3.13/site-packages/numpy/lib/_twodim_base_impl.py:235\u001b[39m, in \u001b[36meye\u001b[39m\u001b[34m(N, M, k, dtype, order, device, like)\u001b[39m\n\u001b[32m    233\u001b[39m \u001b[38;5;28;01mif\u001b[39;00m M \u001b[38;5;129;01mis\u001b[39;00m \u001b[38;5;28;01mNone\u001b[39;00m:\n\u001b[32m    234\u001b[39m     M = N\n\u001b[32m--> \u001b[39m\u001b[32m235\u001b[39m m = \u001b[43mzeros\u001b[49m\u001b[43m(\u001b[49m\u001b[43m(\u001b[49m\u001b[43mN\u001b[49m\u001b[43m,\u001b[49m\u001b[43m \u001b[49m\u001b[43mM\u001b[49m\u001b[43m)\u001b[49m\u001b[43m,\u001b[49m\u001b[43m \u001b[49m\u001b[43mdtype\u001b[49m\u001b[43m=\u001b[49m\u001b[43mdtype\u001b[49m\u001b[43m,\u001b[49m\u001b[43m \u001b[49m\u001b[43morder\u001b[49m\u001b[43m=\u001b[49m\u001b[43morder\u001b[49m\u001b[43m,\u001b[49m\u001b[43m \u001b[49m\u001b[43mdevice\u001b[49m\u001b[43m=\u001b[49m\u001b[43mdevice\u001b[49m\u001b[43m)\u001b[49m\n\u001b[32m    236\u001b[39m \u001b[38;5;28;01mif\u001b[39;00m k >= M:\n\u001b[32m    237\u001b[39m     \u001b[38;5;28;01mreturn\u001b[39;00m m\n",
      "\u001b[31mTypeError\u001b[39m: Cannot interpret '3' as a data type"
     ]
    }
   ],
   "source": [
    "# 6. Identity matrix: creates an idenity matrix, 1's on diagnol, shapes has to be sqaure matrix (i.e row== column)\n",
    "\n",
    "print(np.eye(5)) # Gives 5*5 matrix \n",
    "print(np.identity(5)) # same as eye \n",
    "\n",
    "# only difference is, in eye you can allow none square dimensions, identity doesn't allow \n",
    "print(np.eye(2,3))\n",
    "# print(np.identity(2,3))# throws error. "
   ]
  },
  {
   "cell_type": "code",
   "execution_count": null,
   "id": "7eb35c8c",
   "metadata": {},
   "outputs": [
    {
     "name": "stdout",
     "output_type": "stream",
     "text": [
      "[[0.076076   0.02480317 0.05736769]\n",
      " [0.66069015 0.65784666 0.70604493]]\n",
      "[[8 3 9]\n",
      " [6 3 9]]\n",
      "[[0.30010507 0.23470751 0.95527375]\n",
      " [0.93819595 0.75277278 0.0019858 ]]\n"
     ]
    }
   ],
   "source": [
    "#7.  random\n",
    "\n",
    "print(np.random.rand(2,3)) # [0,1) uniform distribution\n",
    "print(np.random.randint(1,10,(2,3))) # low, high, shape, return int \n",
    "print(np.random.random((2,3))) # [0,1), returns float "
   ]
  },
  {
   "cell_type": "code",
   "execution_count": null,
   "id": "d5b1190f",
   "metadata": {},
   "outputs": [
    {
     "name": "stdout",
     "output_type": "stream",
     "text": [
      "[0 1 2 3 4 5 6 7 8 9]\n",
      "[[0 1 2 3 4]\n",
      " [5 6 7 8 9]]\n"
     ]
    }
   ],
   "source": [
    "# 8. reshape(): gives new shape to an array without changing the data \n",
    "\n",
    "a= np.arange(10)\n",
    "print(a) # vector of elements from 1 to 10 \n",
    "print(a.reshape(2,5)) # it is transformed to 2*5 matrix. Note: 2*5= 10 elements, if number of elements didnt match it would throw error. \n",
    "# print(a.reshape(1,6)) # this will throw error as 1*6 !=10. "
   ]
  },
  {
   "cell_type": "code",
   "execution_count": 82,
   "id": "1bae8943",
   "metadata": {},
   "outputs": [
    {
     "name": "stdout",
     "output_type": "stream",
     "text": [
      "[[ 0  1  2  3  4  5  6  7  8  9]\n",
      " [10 11 12 13 14 15 16 17 18 19]\n",
      " [20 21 22 23 24 25 26 27 28 29]\n",
      " [30 31 32 33 34 35 36 37 38 39]\n",
      " [40 41 42 43 44 45 46 47 48 49]]\n",
      "[[[ 0  1  2  3  4]\n",
      "  [ 5  6  7  8  9]]\n",
      "\n",
      " [[10 11 12 13 14]\n",
      "  [15 16 17 18 19]]\n",
      "\n",
      " [[20 21 22 23 24]\n",
      "  [25 26 27 28 29]]\n",
      "\n",
      " [[30 31 32 33 34]\n",
      "  [35 36 37 38 39]]\n",
      "\n",
      " [[40 41 42 43 44]\n",
      "  [45 46 47 48 49]]]\n"
     ]
    }
   ],
   "source": [
    "# infer: you specify only few dim and infer other while reshapping. (Note: you can only infer once)\n",
    "\n",
    "b= np.arange(50)\n",
    "print(b.reshape(-1,10)) # specifying number columns to be 10, infering number of rows. \n",
    "print(b.reshape(-1,2,5)) # specifying number of rows and columns, infering depth. "
   ]
  },
  {
   "cell_type": "code",
   "execution_count": null,
   "id": "eddb5d22",
   "metadata": {},
   "outputs": [],
   "source": [
    "# Array attributes: \n",
    "a1 = np.arange(10,dtype=np.int32) # 1d here we are converting it to int32 \n",
    "a2 = np.arange(12,dtype=float).reshape(3,4) # 2d\n",
    "a3 = np.arange(8,).reshape(2,2,2) # 3d, here we aren't specifying it thus, it take default which is data type of 8.\n",
    "a4 = np.arange(8.0,).reshape(2,2,2)"
   ]
  },
  {
   "cell_type": "code",
   "execution_count": null,
   "id": "077ac9a5",
   "metadata": {},
   "outputs": [
    {
     "name": "stdout",
     "output_type": "stream",
     "text": [
      "1\n",
      "2\n",
      "3\n"
     ]
    }
   ],
   "source": [
    "# 9. ndim: gives dimension of an array\n",
    "\n",
    "print(a1.ndim) # 1 i.e vector \n",
    "print(a2.ndim) # 2 i.e matrix \n",
    "print(a3.ndim) # 3 i.e tensor, 3d matrix "
   ]
  },
  {
   "cell_type": "code",
   "execution_count": 61,
   "id": "aa23376e",
   "metadata": {},
   "outputs": [
    {
     "name": "stdout",
     "output_type": "stream",
     "text": [
      "(10,)\n",
      "(3, 4)\n",
      "(2, 2, 2)\n"
     ]
    }
   ],
   "source": [
    "# 10. shape: gives tuple of rows, column and depth of an array \n",
    "print(a1.shape)\n",
    "print(a2.shape)\n",
    "print(a3.shape)"
   ]
  },
  {
   "cell_type": "code",
   "execution_count": 62,
   "id": "65b7b7b4",
   "metadata": {},
   "outputs": [
    {
     "name": "stdout",
     "output_type": "stream",
     "text": [
      "10\n",
      "12\n",
      "8\n"
     ]
    }
   ],
   "source": [
    "# 11. size: gives total number of elements\n",
    "\n",
    "print(a1.size)\n",
    "print(a2.size)\n",
    "print(a3.size)"
   ]
  },
  {
   "cell_type": "code",
   "execution_count": null,
   "id": "05bd2915",
   "metadata": {},
   "outputs": [
    {
     "name": "stdout",
     "output_type": "stream",
     "text": [
      "4\n",
      "8\n",
      "8\n"
     ]
    }
   ],
   "source": [
    "# 12. itemsize: gives the size of an element in an array\n",
    "\n",
    "print(a1.itemsize) # size each elements are taking 4 bytes, i.e int->4 bytes, float-> 8 bytes \n",
    "print(a2.itemsize) # as it type casted to float, each elements take 8 bytes \n",
    "print(a3.itemsize) # here we didnt type casted a datatype, then it take default of int64 or 8 bytes. "
   ]
  },
  {
   "cell_type": "code",
   "execution_count": null,
   "id": "5e5d91f3",
   "metadata": {},
   "outputs": [
    {
     "name": "stdout",
     "output_type": "stream",
     "text": [
      "int32\n",
      "float64\n",
      "int64\n",
      "float64\n"
     ]
    }
   ],
   "source": [
    "# 13. dtype: gives datatype of an element in array \n",
    "print(a1.dtype) # int32\n",
    "print(a2.dtype) # float64\n",
    "print(a3.dtype) # int64\n",
    "print(a4.dtype) # float64 because you use 8.0 instead of 8 like a3. "
   ]
  },
  {
   "cell_type": "code",
   "execution_count": null,
   "id": "9355b551",
   "metadata": {},
   "outputs": [
    {
     "name": "stdout",
     "output_type": "stream",
     "text": [
      "[[ 0.  1.  2.  3.]\n",
      " [ 4.  5.  6.  7.]\n",
      " [ 8.  9. 10. 11.]]\n"
     ]
    }
   ],
   "source": [
    "# 14. astype:  Changing data type of an array\n",
    "a1.astype(np.int32) # you will need to save it in need variable or use copy by default copy =True\n",
    "a2.astype(np.float32)\n",
    "print(a2)"
   ]
  },
  {
   "cell_type": "code",
   "execution_count": 83,
   "id": "69fe7c76",
   "metadata": {},
   "outputs": [
    {
     "name": "stdout",
     "output_type": "stream",
     "text": [
      "[[ 0  1  2]\n",
      " [ 3  4  5]\n",
      " [ 6  7  8]\n",
      " [ 9 10 11]\n",
      " [12 13 14]\n",
      " [15 16 17]]\n",
      "(6, 3)\n",
      "[[ 0  3  6  9 12 15]\n",
      " [ 1  4  7 10 13 16]\n",
      " [ 2  5  8 11 14 17]]\n",
      "(3, 6)\n"
     ]
    }
   ],
   "source": [
    "# 15. Transpose: flipping matrix such that rows become columns and columns become rows. \n",
    "\n",
    "a2 = np.arange(18).reshape(6,3)\n",
    "print(a2)\n",
    "print(a2.shape)\n",
    "print(a2.T)\n",
    "print(a2.T.shape)"
   ]
  },
  {
   "cell_type": "markdown",
   "id": "3decd01c",
   "metadata": {},
   "source": [
    "### Basic Array Operations "
   ]
  },
  {
   "cell_type": "code",
   "execution_count": 84,
   "id": "0ac998ca",
   "metadata": {},
   "outputs": [],
   "source": [
    "a1 = np.arange(12).reshape(3,4)\n",
    "a2 = np.arange(12,24).reshape(3,4)"
   ]
  },
  {
   "cell_type": "code",
   "execution_count": 86,
   "id": "fcb4392c",
   "metadata": {},
   "outputs": [
    {
     "name": "stdout",
     "output_type": "stream",
     "text": [
      "[[ 0  2  4  6]\n",
      " [ 8 10 12 14]\n",
      " [16 18 20 22]]\n",
      "[[0.  0.5 1.  1.5]\n",
      " [2.  2.5 3.  3.5]\n",
      " [4.  4.5 5.  5.5]]\n",
      "[[0 1 0 1]\n",
      " [0 1 0 1]\n",
      " [0 1 0 1]]\n",
      "[[0 0 1 1]\n",
      " [2 2 3 3]\n",
      " [4 4 5 5]]\n",
      "[[  0   1   4   9]\n",
      " [ 16  25  36  49]\n",
      " [ 64  81 100 121]]\n"
     ]
    }
   ],
   "source": [
    "# scalar operations: works with all arithematic operations \n",
    "\n",
    "print(a1*2)\n",
    "print(a1/2)\n",
    "print(a2%2)\n",
    "print(a1//2)\n",
    "print(a1**2)\n"
   ]
  },
  {
   "cell_type": "code",
   "execution_count": 87,
   "id": "a7b67618",
   "metadata": {},
   "outputs": [
    {
     "name": "stdout",
     "output_type": "stream",
     "text": [
      "[[False False False False]\n",
      " [False False  True  True]\n",
      " [ True  True  True  True]]\n",
      "[[False False False False]\n",
      " [False  True False False]\n",
      " [False False False False]]\n"
     ]
    }
   ],
   "source": [
    "# Relational Operator: works with all relational arrays \n",
    "\n",
    "print(a1>5)\n",
    "print(a1==5)"
   ]
  },
  {
   "cell_type": "code",
   "execution_count": 88,
   "id": "4e5315b9",
   "metadata": {},
   "outputs": [
    {
     "name": "stdout",
     "output_type": "stream",
     "text": [
      "[[12 14 16 18]\n",
      " [20 22 24 26]\n",
      " [28 30 32 34]]\n",
      "[[-12 -12 -12 -12]\n",
      " [-12 -12 -12 -12]\n",
      " [-12 -12 -12 -12]]\n",
      "[[0.         0.07692308 0.14285714 0.2       ]\n",
      " [0.25       0.29411765 0.33333333 0.36842105]\n",
      " [0.4        0.42857143 0.45454545 0.47826087]]\n",
      "[[                   0                    1                16384\n",
      "              14348907]\n",
      " [          4294967296         762939453125      101559956668416\n",
      "     11398895185373143]\n",
      " [ 1152921504606846976 -1261475310744950487  1864712049423024128\n",
      "   6839173302027254275]]\n"
     ]
    }
   ],
   "source": [
    "# Vector Operation: Operation between two vectors (all arithmetic operations)\n",
    "\n",
    "print(a1+a2)\n",
    "print(a1-a2)\n",
    "print(a1/a2)\n",
    "print(a1**a2)"
   ]
  },
  {
   "cell_type": "code",
   "execution_count": 92,
   "id": "03798c75",
   "metadata": {},
   "outputs": [],
   "source": [
    "a = np.arange(1,7).reshape(2,3)\n",
    "b = np.arange(7,13).reshape(3,2)"
   ]
  },
  {
   "cell_type": "code",
   "execution_count": 96,
   "id": "72d32bb1",
   "metadata": {},
   "outputs": [
    {
     "name": "stdout",
     "output_type": "stream",
     "text": [
      "[[ 0  1  2  3]\n",
      " [ 4  5  6  7]\n",
      " [ 8  9 10 11]]\n",
      "[[12 13 14 15]\n",
      " [16 17 18 19]\n",
      " [20 21 22 23]]\n",
      "[[  0  13  28  45]\n",
      " [ 64  85 108 133]\n",
      " [160 189 220 253]]\n"
     ]
    }
   ],
   "source": [
    "print(a1)\n",
    "print(a2)\n",
    "\n",
    "print(a1*a2)"
   ]
  },
  {
   "cell_type": "code",
   "execution_count": 93,
   "id": "bb0fbb32",
   "metadata": {},
   "outputs": [
    {
     "name": "stdout",
     "output_type": "stream",
     "text": [
      "[[ 58  64]\n",
      " [139 154]]\n"
     ]
    }
   ],
   "source": [
    "# Matrix Multipication : (Dot product)\n",
    "\n",
    "print(np.dot(a,b))\n"
   ]
  },
  {
   "cell_type": "markdown",
   "id": "faca4ecd",
   "metadata": {},
   "source": [
    "### Universal Functions"
   ]
  },
  {
   "cell_type": "code",
   "execution_count": 116,
   "id": "b8622690",
   "metadata": {},
   "outputs": [],
   "source": [
    "a1 = np.arange(24)\n",
    "a2 = np.arange(24).reshape(4,6)"
   ]
  },
  {
   "cell_type": "code",
   "execution_count": null,
   "id": "5c06fec1",
   "metadata": {},
   "outputs": [
    {
     "name": "stdout",
     "output_type": "stream",
     "text": [
      "276\n",
      "276\n"
     ]
    }
   ],
   "source": [
    "# sum: sum of all the elements in an array\n",
    "\n",
    "print(a1.sum())\n",
    "print(a2.sum())"
   ]
  },
  {
   "cell_type": "code",
   "execution_count": null,
   "id": "6619c892",
   "metadata": {},
   "outputs": [
    {
     "name": "stdout",
     "output_type": "stream",
     "text": [
      "[ 15  51  87 123]\n",
      "[36 40 44 48 52 56]\n"
     ]
    }
   ],
   "source": [
    "# sum: sum of all the rows or columns, use axis parameter axis=0 => columns, axis=1 => rows\n",
    "\n",
    "print(a2.sum(axis=1))\n",
    "print(a2.sum(axis=0))"
   ]
  },
  {
   "cell_type": "code",
   "execution_count": null,
   "id": "85f3c5ab",
   "metadata": {},
   "outputs": [
    {
     "name": "stdout",
     "output_type": "stream",
     "text": [
      "0\n",
      "[    0  1729  4480  8505 14080 21505]\n",
      "[       0   332640  8910720 72681840]\n"
     ]
    }
   ],
   "source": [
    "# prod: prodcut of all the elements, use axis parameter axis=0 => columns, axis=1 => rows\n",
    "\n",
    "print(a1.prod())\n",
    "print(a2.prod(axis=0))\n",
    "print(a2.prod(axis=1))"
   ]
  },
  {
   "cell_type": "code",
   "execution_count": null,
   "id": "f070fd2f",
   "metadata": {},
   "outputs": [
    {
     "name": "stdout",
     "output_type": "stream",
     "text": [
      "23\n",
      "[18 19 20 21 22 23]\n",
      "[ 5 11 17 23]\n"
     ]
    }
   ],
   "source": [
    "# max \n",
    "print(a1.max())\n",
    "print(a2.max(axis=0))\n",
    "print(a2.max(axis=1))"
   ]
  },
  {
   "cell_type": "code",
   "execution_count": 114,
   "id": "ccc4e93b",
   "metadata": {},
   "outputs": [
    {
     "name": "stdout",
     "output_type": "stream",
     "text": [
      "0\n",
      "[0 1 2 3 4 5]\n",
      "[ 0  6 12 18]\n"
     ]
    }
   ],
   "source": [
    "# min\n",
    "print(a1.min())\n",
    "print(a2.min(axis=0))\n",
    "print(a2.min(axis=1))"
   ]
  },
  {
   "cell_type": "code",
   "execution_count": 120,
   "id": "991ed7dd",
   "metadata": {},
   "outputs": [],
   "source": [
    "a1 = np.arange(12).reshape(3,4)\n",
    "a2 = np.arange(12,24).reshape(3,4)"
   ]
  },
  {
   "cell_type": "code",
   "execution_count": 126,
   "id": "b9488151",
   "metadata": {},
   "outputs": [
    {
     "name": "stdout",
     "output_type": "stream",
     "text": [
      "[[12 14 16 18]\n",
      " [20 22 24 26]\n",
      " [28 30 32 34]]\n",
      "[[-12 -12 -12 -12]\n",
      " [-12 -12 -12 -12]\n",
      " [-12 -12 -12 -12]]\n",
      "[[  0   1   4   9]\n",
      " [ 16  25  36  49]\n",
      " [ 64  81 100 121]]\n",
      "[[      -inf 0.         0.69314718 1.09861229]\n",
      " [1.38629436 1.60943791 1.79175947 1.94591015]\n",
      " [2.07944154 2.19722458 2.30258509 2.39789527]]\n",
      "[[0.         1.         1.41421356 1.73205081]\n",
      " [2.         2.23606798 2.44948974 2.64575131]\n",
      " [2.82842712 3.         3.16227766 3.31662479]]\n"
     ]
    },
    {
     "name": "stderr",
     "output_type": "stream",
     "text": [
      "/var/folders/xw/_lnfz_x56cn_zn8_slshkwp80000gn/T/ipykernel_90329/1178886505.py:11: RuntimeWarning: divide by zero encountered in log\n",
      "  print(np.log(a1))\n"
     ]
    }
   ],
   "source": [
    "# add\n",
    "print(np.add(a1,a2))\n",
    "\n",
    "# subtract\n",
    "print(np.subtract(a1,a2))\n",
    "\n",
    "# square \n",
    "print(np.square(a1))\n",
    "\n",
    "# log \n",
    "print(np.log(a1))\n",
    "\n",
    "# sqrt \n",
    "print(np.sqrt(a1))"
   ]
  },
  {
   "cell_type": "code",
   "execution_count": 129,
   "id": "8e270465",
   "metadata": {},
   "outputs": [
    {
     "name": "stdout",
     "output_type": "stream",
     "text": [
      "[[ 0.          0.84147098  0.90929743  0.14112001]\n",
      " [-0.7568025  -0.95892427 -0.2794155   0.6569866 ]\n",
      " [ 0.98935825  0.41211849 -0.54402111 -0.99999021]]\n",
      "[[ 1.          0.54030231 -0.41614684 -0.9899925 ]\n",
      " [-0.65364362  0.28366219  0.96017029  0.75390225]\n",
      " [-0.14550003 -0.91113026 -0.83907153  0.0044257 ]]\n",
      "[[ 0.00000000e+00  1.55740772e+00 -2.18503986e+00 -1.42546543e-01]\n",
      " [ 1.15782128e+00 -3.38051501e+00 -2.91006191e-01  8.71447983e-01]\n",
      " [-6.79971146e+00 -4.52315659e-01  6.48360827e-01 -2.25950846e+02]]\n"
     ]
    },
    {
     "data": {
      "text/plain": [
       "['T',\n",
       " '__abs__',\n",
       " '__add__',\n",
       " '__and__',\n",
       " '__array__',\n",
       " '__array_finalize__',\n",
       " '__array_function__',\n",
       " '__array_interface__',\n",
       " '__array_namespace__',\n",
       " '__array_priority__',\n",
       " '__array_struct__',\n",
       " '__array_ufunc__',\n",
       " '__array_wrap__',\n",
       " '__bool__',\n",
       " '__buffer__',\n",
       " '__class__',\n",
       " '__class_getitem__',\n",
       " '__complex__',\n",
       " '__contains__',\n",
       " '__copy__',\n",
       " '__deepcopy__',\n",
       " '__delattr__',\n",
       " '__delitem__',\n",
       " '__dir__',\n",
       " '__divmod__',\n",
       " '__dlpack__',\n",
       " '__dlpack_device__',\n",
       " '__doc__',\n",
       " '__eq__',\n",
       " '__float__',\n",
       " '__floordiv__',\n",
       " '__format__',\n",
       " '__ge__',\n",
       " '__getattribute__',\n",
       " '__getitem__',\n",
       " '__getstate__',\n",
       " '__gt__',\n",
       " '__hash__',\n",
       " '__iadd__',\n",
       " '__iand__',\n",
       " '__ifloordiv__',\n",
       " '__ilshift__',\n",
       " '__imatmul__',\n",
       " '__imod__',\n",
       " '__imul__',\n",
       " '__index__',\n",
       " '__init__',\n",
       " '__init_subclass__',\n",
       " '__int__',\n",
       " '__invert__',\n",
       " '__ior__',\n",
       " '__ipow__',\n",
       " '__irshift__',\n",
       " '__isub__',\n",
       " '__iter__',\n",
       " '__itruediv__',\n",
       " '__ixor__',\n",
       " '__le__',\n",
       " '__len__',\n",
       " '__lshift__',\n",
       " '__lt__',\n",
       " '__matmul__',\n",
       " '__mod__',\n",
       " '__mul__',\n",
       " '__ne__',\n",
       " '__neg__',\n",
       " '__new__',\n",
       " '__or__',\n",
       " '__pos__',\n",
       " '__pow__',\n",
       " '__radd__',\n",
       " '__rand__',\n",
       " '__rdivmod__',\n",
       " '__reduce__',\n",
       " '__reduce_ex__',\n",
       " '__repr__',\n",
       " '__rfloordiv__',\n",
       " '__rlshift__',\n",
       " '__rmatmul__',\n",
       " '__rmod__',\n",
       " '__rmul__',\n",
       " '__ror__',\n",
       " '__rpow__',\n",
       " '__rrshift__',\n",
       " '__rshift__',\n",
       " '__rsub__',\n",
       " '__rtruediv__',\n",
       " '__rxor__',\n",
       " '__setattr__',\n",
       " '__setitem__',\n",
       " '__setstate__',\n",
       " '__sizeof__',\n",
       " '__str__',\n",
       " '__sub__',\n",
       " '__subclasshook__',\n",
       " '__truediv__',\n",
       " '__xor__',\n",
       " 'all',\n",
       " 'any',\n",
       " 'argmax',\n",
       " 'argmin',\n",
       " 'argpartition',\n",
       " 'argsort',\n",
       " 'astype',\n",
       " 'base',\n",
       " 'byteswap',\n",
       " 'choose',\n",
       " 'clip',\n",
       " 'compress',\n",
       " 'conj',\n",
       " 'conjugate',\n",
       " 'copy',\n",
       " 'ctypes',\n",
       " 'cumprod',\n",
       " 'cumsum',\n",
       " 'data',\n",
       " 'device',\n",
       " 'diagonal',\n",
       " 'dot',\n",
       " 'dtype',\n",
       " 'dump',\n",
       " 'dumps',\n",
       " 'fill',\n",
       " 'flags',\n",
       " 'flat',\n",
       " 'flatten',\n",
       " 'getfield',\n",
       " 'imag',\n",
       " 'item',\n",
       " 'itemset',\n",
       " 'itemsize',\n",
       " 'mT',\n",
       " 'max',\n",
       " 'mean',\n",
       " 'min',\n",
       " 'nbytes',\n",
       " 'ndim',\n",
       " 'newbyteorder',\n",
       " 'nonzero',\n",
       " 'partition',\n",
       " 'prod',\n",
       " 'ptp',\n",
       " 'put',\n",
       " 'ravel',\n",
       " 'real',\n",
       " 'repeat',\n",
       " 'reshape',\n",
       " 'resize',\n",
       " 'round',\n",
       " 'searchsorted',\n",
       " 'setfield',\n",
       " 'setflags',\n",
       " 'shape',\n",
       " 'size',\n",
       " 'sort',\n",
       " 'squeeze',\n",
       " 'std',\n",
       " 'strides',\n",
       " 'sum',\n",
       " 'swapaxes',\n",
       " 'take',\n",
       " 'to_device',\n",
       " 'tobytes',\n",
       " 'tofile',\n",
       " 'tolist',\n",
       " 'trace',\n",
       " 'transpose',\n",
       " 'var',\n",
       " 'view']"
      ]
     },
     "execution_count": 129,
     "metadata": {},
     "output_type": "execute_result"
    }
   ],
   "source": [
    "# Trignometry functions: \n",
    "\n",
    "# sin \n",
    "print(np.sin(a1))\n",
    "\n",
    "# cos\n",
    "print(np.cos(a1))\n",
    "\n",
    "# tan\n",
    "print(np.tan(a1))\n",
    "\n",
    "\n",
    "# Note: when to you np, versus when note, check dir \n",
    "\n",
    "dir(a1) # gives list of all function avaialble \n",
    "\n",
    "# you need to use np, if available in the list, but its better to use np rather. "
   ]
  },
  {
   "cell_type": "code",
   "execution_count": null,
   "id": "c1080bc2",
   "metadata": {},
   "outputs": [
    {
     "name": "stdout",
     "output_type": "stream",
     "text": [
      "5.5\n",
      "5.5\n",
      "3.452052529534663\n",
      "11.916666666666666\n"
     ]
    }
   ],
   "source": [
    "# Statistical \n",
    "\n",
    "# mean\n",
    "print(np.mean(a1))\n",
    "\n",
    "# median\n",
    "print(np.median(a1))\n",
    "\n",
    "# std \n",
    "print(np.std(a1))\n",
    "\n",
    "# variance\n",
    "print(np.var(a1))"
   ]
  },
  {
   "cell_type": "markdown",
   "id": "07b89b7d",
   "metadata": {},
   "source": [
    "### Indexing and Slicing"
   ]
  },
  {
   "cell_type": "code",
   "execution_count": 5,
   "id": "48f34d3d",
   "metadata": {},
   "outputs": [
    {
     "name": "stdout",
     "output_type": "stream",
     "text": [
      "[0 1 2 3 4 5 6 7 8 9] [[10 11 12 13 14 15 16 17 18 19]\n",
      " [20 21 22 23 24 25 26 27 28 29]\n",
      " [30 31 32 33 34 35 36 37 38 39]\n",
      " [40 41 42 43 44 45 46 47 48 49]] [[[10 11 12 13 14]\n",
      "  [15 16 17 18 19]]\n",
      "\n",
      " [[20 21 22 23 24]\n",
      "  [25 26 27 28 29]]\n",
      "\n",
      " [[30 31 32 33 34]\n",
      "  [35 36 37 38 39]]\n",
      "\n",
      " [[40 41 42 43 44]\n",
      "  [45 46 47 48 49]]]\n"
     ]
    }
   ],
   "source": [
    "a1 = np.arange(10) # 1 Dim \n",
    "a2 = np.arange(10,50).reshape(4,10) # 2 Dim\n",
    "a3 = np.arange(10,50).reshape(4,2,5) # 3 Dim \n",
    "\n",
    "print(a1, a2, a3)"
   ]
  },
  {
   "cell_type": "code",
   "execution_count": 33,
   "id": "f5b7dfd8",
   "metadata": {},
   "outputs": [
    {
     "name": "stdout",
     "output_type": "stream",
     "text": [
      "8\n",
      "3\n",
      "27\n",
      "27\n",
      "34\n",
      "34\n",
      "28\n"
     ]
    }
   ],
   "source": [
    "# Indexing: to get 1 value \n",
    "\n",
    "# For 1 Dim (Same as list)\n",
    "print(a1[-2])\n",
    "print(a1[3])\n",
    "\n",
    "# For 2 Dim [Row, Column]\n",
    "print(a2[1,7])\n",
    "print(a2[1,-3]) # can use negative index as well.\n",
    "print(a2[2,4])\n",
    "\n",
    "# For 3 Dim (Depth, Row, Column)\n",
    "print(a3[2,0,-1])\n",
    "print(a3[1,1,3])"
   ]
  },
  {
   "cell_type": "code",
   "execution_count": 34,
   "id": "40f16a20",
   "metadata": {},
   "outputs": [
    {
     "name": "stdout",
     "output_type": "stream",
     "text": [
      "[[[10 11 12 13 14]\n",
      "  [15 16 17 18 19]]\n",
      "\n",
      " [[20 21 22 23 24]\n",
      "  [25 26 27 28 29]]\n",
      "\n",
      " [[30 31 32 33 34]\n",
      "  [35 36 37 38 39]]\n",
      "\n",
      " [[40 41 42 43 44]\n",
      "  [45 46 47 48 49]]]\n"
     ]
    }
   ],
   "source": [
    "print(a3)"
   ]
  },
  {
   "cell_type": "code",
   "execution_count": 35,
   "id": "54df9085",
   "metadata": {},
   "outputs": [
    {
     "name": "stdout",
     "output_type": "stream",
     "text": [
      "[6 5 4]\n",
      "[6 5 4]\n",
      "[[26 27]\n",
      " [36 37]]\n",
      "[[38 37]\n",
      " [28 27]]\n",
      "[[25 27]\n",
      " [35 37]\n",
      " [45 47]]\n",
      "[[15 18]\n",
      " [35 38]]\n",
      "[[44 46 48]\n",
      " [24 26 28]]\n",
      "[[38 39]\n",
      " [33 34]]\n"
     ]
    }
   ],
   "source": [
    "# Slicing: to get multiple values\n",
    "\n",
    "# For 1 Dim (Same as list)\n",
    "print(a1[-4:-7:-1]) # -1 step to print backwards\n",
    "print(a1[6:3:-1])\n",
    "\n",
    "# For 2 Dim [slicing for rows, slicing for colums] (Way of gettig subarray)\n",
    "print(a2[1:3,-4:-2])\n",
    "print(a2[2:0:-1,-2:-4:-1])\n",
    "print(a2[1:4, 5:8:2])\n",
    "print(a2[::2,5::3 ]) # start, stop and step \n",
    "print(a2[::-2, 4::2 ])\n",
    "\n",
    "# For 3-Dim [slicing for depth, slicing for row, slicing for column]\n",
    "print(a3[2,::-1, -2::])"
   ]
  }
 ],
 "metadata": {
  "kernelspec": {
   "display_name": "base",
   "language": "python",
   "name": "python3"
  },
  "language_info": {
   "codemirror_mode": {
    "name": "ipython",
    "version": 3
   },
   "file_extension": ".py",
   "mimetype": "text/x-python",
   "name": "python",
   "nbconvert_exporter": "python",
   "pygments_lexer": "ipython3",
   "version": "3.13.2"
  }
 },
 "nbformat": 4,
 "nbformat_minor": 5
}
