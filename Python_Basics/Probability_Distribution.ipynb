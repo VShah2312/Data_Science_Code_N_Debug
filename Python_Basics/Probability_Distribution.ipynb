{
 "cells": [
  {
   "cell_type": "markdown",
   "id": "e331c5f5",
   "metadata": {},
   "source": [
    "Random variable: A variable that represents the outcome of a random experiment. Has a range of possible values, each with a certain probability."
   ]
  },
  {
   "cell_type": "markdown",
   "id": "d8f024c1",
   "metadata": {},
   "source": [
    "Two types of random variables: \n",
    "1. Discrete Random Variables \n",
    "2. Continous Random Variables"
   ]
  },
  {
   "cell_type": "markdown",
   "id": "b089f170",
   "metadata": {},
   "source": [
    "Parameters: In probability distributions are numerical values that determines the shape, location, abd scale of the distributions\n",
    "\n",
    "Different probability distributions have different sets of parameters that detmerine their shape and characteristics, and understanding these parameters is essential in statistical analysis and inference."
   ]
  },
  {
   "cell_type": "markdown",
   "id": "eefff50a",
   "metadata": {},
   "source": [
    "Probability Distribution Functions: \n",
    "\n",
    "Is a list of all of the possible outcomes of a random variable along with its their corresponding probability values. \n",
    "or \n",
    "\n",
    "Probability distribution is a mathematical function that gives the probability of occurence of different possible outcome for a random variable. "
   ]
  },
  {
   "cell_type": "markdown",
   "id": "90c3bb46",
   "metadata": {},
   "source": [
    "- PMF: Probability mass function (Discrete)\n",
    "- PDF: Probability density function (Continous)\n",
    "- CDF: Cumulative distribution function (Both)"
   ]
  },
  {
   "cell_type": "markdown",
   "id": "ec5e82c2",
   "metadata": {
    "vscode": {
     "languageId": "plaintext"
    }
   },
   "source": [
    "PMF: \n",
    "* PMF stands for Probability Mass function. It is a mathematical function that describes the probability distribution of a discrete random variable. \n",
    "* THe PMF of a discrete random variable assigns a probability to each possible value of a random variable. the probability assigned by the PMF must satisfy two conditions: \n",
    "    - The probability assigned to each value mus be non-negative (i.e greater than or equal to zero)\n",
    "    - The sum of the probabilities assigned to all possible values must equal to 1. "
   ]
  },
  {
   "cell_type": "code",
   "execution_count": 2,
   "id": "c2e4ae45",
   "metadata": {},
   "outputs": [],
   "source": [
    "import pandas as pd\n",
    "import random"
   ]
  },
  {
   "cell_type": "code",
   "execution_count": 19,
   "id": "ae65d771",
   "metadata": {},
   "outputs": [
    {
     "name": "stdout",
     "output_type": "stream",
     "text": [
      "10000\n",
      "[6, 9, 4, 10, 9]\n"
     ]
    },
    {
     "data": {
      "text/plain": [
       "<Axes: >"
      ]
     },
     "execution_count": 19,
     "metadata": {},
     "output_type": "execute_result"
    },
    {
     "data": {
      "image/png": "[encoded data removed]",
      "text/plain": [
       "<Figure size 640x480 with 1 Axes>"
      ]
     },
     "metadata": {},
     "output_type": "display_data"
    }
   ],
   "source": [
    "L= []\n",
    "for i in range(10000): \n",
    "    a= random.randint(1,6)\n",
    "    b= random.randint(1,6)\n",
    "    L.append(a+b)\n",
    "\n",
    "print(len(L))\n",
    "print(L[:5])\n",
    "\n",
    "x= pd.Series(L).value_counts(normalize=True).sort_index()\n",
    "x.plot(kind= 'bar')\n",
    "\n",
    "# we can see uniform distribution (confirm our theory.)\n",
    "# two dice values sum, gives normal distribution with values between 2 to 12"
   ]
  },
  {
   "cell_type": "markdown",
   "id": "a7bb032a",
   "metadata": {},
   "source": [
    "Bernoulli Distribution"
   ]
  },
  {
   "cell_type": "code",
   "execution_count": 22,
   "id": "57620dfd",
   "metadata": {},
   "outputs": [
    {
     "name": "stdout",
     "output_type": "stream",
     "text": [
      "[0 1 1 0 0 0 1 0 0 0]\n"
     ]
    }
   ],
   "source": [
    "import numpy as np\n",
    "\n",
    "# simulate 10 Bernoulli trials with p=0.3\n",
    "samples = np.random.binomial(n=1, p=0.3, size=10)\n",
    "print(samples)\n"
   ]
  },
  {
   "cell_type": "code",
   "execution_count": 23,
   "id": "8b7d8c1a",
   "metadata": {},
   "outputs": [
    {
     "data": {
      "text/plain": [
       "np.float64(0.3)"
      ]
     },
     "execution_count": 23,
     "metadata": {},
     "output_type": "execute_result"
    }
   ],
   "source": [
    "np.mean(samples)   # ≈ 0.3\n"
   ]
  },
  {
   "cell_type": "code",
   "execution_count": 24,
   "id": "f0956347",
   "metadata": {},
   "outputs": [
    {
     "name": "stdout",
     "output_type": "stream",
     "text": [
      "Bernoulli\n",
      "0    0.592\n",
      "1    0.408\n",
      "Name: proportion, dtype: float64\n"
     ]
    }
   ],
   "source": [
    "import pandas as pd\n",
    "\n",
    "# create 1000 Bernoulli samples with p=0.4\n",
    "samples = np.random.binomial(1, 0.4, 1000)\n",
    "df = pd.DataFrame({\"Bernoulli\": samples})\n",
    "\n",
    "print(df[\"Bernoulli\"].value_counts(normalize=True))\n"
   ]
  },
  {
   "cell_type": "code",
   "execution_count": 25,
   "id": "64e43ae3",
   "metadata": {},
   "outputs": [
    {
     "data": {
      "text/plain": [
       "<Axes: title={'center': 'Bernoulli Distribution'}, xlabel='Bernoulli'>"
      ]
     },
     "execution_count": 25,
     "metadata": {},
     "output_type": "execute_result"
    },
    {
     "data": {
      "image/png": "[encoded data removed]",
      "text/plain": [
       "<Figure size 640x480 with 1 Axes>"
      ]
     },
     "metadata": {},
     "output_type": "display_data"
    }
   ],
   "source": [
    "df[\"Bernoulli\"].value_counts().plot(kind=\"bar\", title=\"Bernoulli Distribution\")\n"
   ]
  },
  {
   "cell_type": "markdown",
   "id": "6a58fa13",
   "metadata": {},
   "source": [
    "Binomial Distribution"
   ]
  },
  {
   "cell_type": "code",
   "execution_count": 39,
   "id": "15b818dd",
   "metadata": {},
   "outputs": [
    {
     "name": "stdout",
     "output_type": "stream",
     "text": [
      "Mean: 6.0025\n",
      "Variance: 4.16689375\n"
     ]
    }
   ],
   "source": [
    "import numpy as np\n",
    "\n",
    "# simulate 10,000 experiments: 20 trials each, p=0.3\n",
    "samples = np.random.binomial(n=20, p=0.3, size=10000)\n",
    "\n",
    "print(\"Mean:\", samples.mean())       # ≈ 20 * 0.3 = 6\n",
    "print(\"Variance:\", samples.var())    # ≈ 20 * 0.3 * 0.7 = 4.2\n"
   ]
  },
  {
   "cell_type": "code",
   "execution_count": 40,
   "id": "7d828532",
   "metadata": {},
   "outputs": [
    {
     "name": "stdout",
     "output_type": "stream",
     "text": [
      "binom\n",
      "0        6\n",
      "1       54\n",
      "2      291\n",
      "3      729\n",
      "4     1291\n",
      "5     1782\n",
      "6     1927\n",
      "7     1614\n",
      "8     1184\n",
      "9      642\n",
      "10     318\n",
      "11     123\n",
      "12      29\n",
      "13       7\n",
      "15       2\n",
      "16       1\n",
      "Name: count, dtype: int64\n"
     ]
    }
   ],
   "source": [
    "import pandas as pd\n",
    "\n",
    "df = pd.DataFrame({\"binom\": samples})\n",
    "print(df[\"binom\"].value_counts().sort_index())\n"
   ]
  },
  {
   "cell_type": "code",
   "execution_count": 42,
   "id": "d6906b74",
   "metadata": {},
   "outputs": [
    {
     "data": {
      "text/plain": [
       "<Axes: title={'center': 'Binomial Distribution'}, xlabel='binom'>"
      ]
     },
     "execution_count": 42,
     "metadata": {},
     "output_type": "execute_result"
    },
    {
     "data": {
      "image/png": "[encoded data removed]",
      "text/plain": [
       "<Figure size 640x480 with 1 Axes>"
      ]
     },
     "metadata": {},
     "output_type": "display_data"
    }
   ],
   "source": [
    "df[\"binom\"].value_counts().sort_index().plot(kind=\"bar\", title=\"Binomial Distribution\")"
   ]
  },
  {
   "cell_type": "code",
   "execution_count": null,
   "id": "96971643",
   "metadata": {},
   "outputs": [
    {
     "name": "stdout",
     "output_type": "stream",
     "text": [
      "0.17886305056987964\n"
     ]
    },
    {
     "data": {
      "text/plain": [
       "np.float64(0.5836291705525192)"
      ]
     },
     "execution_count": 46,
     "metadata": {},
     "output_type": "execute_result"
    }
   ],
   "source": [
    "# To get value:\n",
    " \n",
    "from scipy.stats import binom\n",
    "\n",
    "# Example: n=20 trials, p=0.3, probability of exactly k=5 successes\n",
    "prob = binom.pmf(k=5, n=20, p=0.3)\n",
    "print(prob)\n",
    "binom.cdf(k=5, n=20, p=0.3)   # P(X ≤ 5)\n",
    "1 - binom.cdf(k=5, n=20, p=0.3)   # P(X > 5)\n"
   ]
  },
  {
   "cell_type": "markdown",
   "id": "b42ade5a",
   "metadata": {},
   "source": [
    "### Parametric Density Estimation "
   ]
  },
  {
   "cell_type": "code",
   "execution_count": 61,
   "id": "9801bfeb",
   "metadata": {},
   "outputs": [],
   "source": [
    "import matplotlib.pyplot as plt\n",
    "import numpy as np\n",
    "from numpy.random import normal\n",
    "\n",
    "# normal distribution graph\n",
    "sample= normal(loc= 50, scale= 5, size= 1000) # loc -> mean is 50, scale->std -> 5, number of values -> 1000"
   ]
  },
  {
   "cell_type": "code",
   "execution_count": 62,
   "id": "3f243887",
   "metadata": {},
   "outputs": [
    {
     "data": {
      "text/plain": [
       "np.float64(50.105134258377724)"
      ]
     },
     "execution_count": 62,
     "metadata": {},
     "output_type": "execute_result"
    }
   ],
   "source": [
    "sample.mean()"
   ]
  },
  {
   "cell_type": "code",
   "execution_count": 64,
   "id": "75fa26ce",
   "metadata": {},
   "outputs": [
    {
     "data": {
      "text/plain": [
       "np.float64(5.107467451699329)"
      ]
     },
     "execution_count": 64,
     "metadata": {},
     "output_type": "execute_result"
    }
   ],
   "source": [
    "sample.std()"
   ]
  },
  {
   "cell_type": "code",
   "execution_count": 66,
   "id": "af3b3176",
   "metadata": {},
   "outputs": [
    {
     "data": {
      "image/png": "[encoded data removed]",
      "text/plain": [
       "<Figure size 640x480 with 1 Axes>"
      ]
     },
     "metadata": {},
     "output_type": "display_data"
    }
   ],
   "source": [
    "# plot histogram to understand the distribution of the data \n",
    "\n",
    "plt.hist(sample, bins= 10)\n",
    "plt.show()"
   ]
  },
  {
   "cell_type": "code",
   "execution_count": 60,
   "id": "c552e29e",
   "metadata": {},
   "outputs": [],
   "source": [
    "# calculate sample mean and sample std \n",
    "sample_mean= sample.mean()\n",
    "sample_std= sample.std()"
   ]
  },
  {
   "cell_type": "code",
   "execution_count": 69,
   "id": "1ffee9ea",
   "metadata": {},
   "outputs": [],
   "source": [
    "values= np.linspace(sample.min(), sample.max(), 100)"
   ]
  },
  {
   "cell_type": "code",
   "execution_count": null,
   "id": "d93ebf60",
   "metadata": {},
   "outputs": [],
   "source": [
    "# fit the distribution with above parameters \n",
    "from scipy.stats import norm \n",
    "dist= norm(sample_mean, sample_std)"
   ]
  },
  {
   "cell_type": "code",
   "execution_count": 71,
   "id": "94c5adbf",
   "metadata": {},
   "outputs": [],
   "source": [
    "probabilities= [dist.pdf(value) for value in values]"
   ]
  },
  {
   "cell_type": "code",
   "execution_count": 80,
   "id": "e77b3246",
   "metadata": {},
   "outputs": [
    {
     "data": {
      "image/png": "[encoded data removed]",
      "text/plain": [
       "<Figure size 640x480 with 1 Axes>"
      ]
     },
     "metadata": {},
     "output_type": "display_data"
    }
   ],
   "source": [
    "# plot the histogram and pdf \n",
    "\n",
    "plt.hist(sample, bins=10, density=True)\n",
    "plt.plot(values, probabilities)\n",
    "plt.show()"
   ]
  },
  {
   "cell_type": "markdown",
   "id": "78cfe158",
   "metadata": {},
   "source": [
    "Density Estimation"
   ]
  },
  {
   "cell_type": "markdown",
   "id": "55246da2",
   "metadata": {},
   "source": [
    "- Density Estimation: It is a statistical technique used to estimate the probability density function (pdf) of a random variable based on a set of observations or data. In simple terms, it involves estimating underlying distribution of a set of data points. \n",
    "\n",
    "- Density estimation cna be used for a variety of purposes, such as hypothesis testing, data anlysis and data visualization. It is particularly useful in areas such as machine learning, where it is often used to estimate the probability distribution of input data or to model the likelihood of certain events or outcomes. "
   ]
  },
  {
   "cell_type": "markdown",
   "id": "e3996bec",
   "metadata": {},
   "source": [
    "Two type of density estimation: \n",
    "1. Parametric: Parametric density estimation is a statistical technique used to estimate the probability distribution of a dataset by assuming that the data follows a specific distribution with a set of parameters. We use use MLE (Maximum likelihood estimation [computationaly expensive]) or Log likelihood estimation [same answer but less expensive as we can apply log property i.e: log(ab)= log(a)+ log(b)] to get values of parameters need to defined assumed distributions. \n",
    "2. Non-parametric: Non-parametric density estimation is a statistical technique used to estimate the probability distribution of a dataset. One of th most common non-parametric approach is Kernel Density Estimation. "
   ]
  },
  {
   "cell_type": "markdown",
   "id": "ea56884a",
   "metadata": {},
   "source": [
    "Problems with probability distribution estimation:\n",
    "    Probability distribution estimations relies on finding the best pdf and determing its parameters accurately. But the random sample that we consider is very small. Hence it becomes very difficult to determine what parameters and what probability distribution function to use. To takle this problem, Maximum likelihood Estimation is used. \n",
    "\n",
    "Q: What is maximum likelihood estimation? \n",
    "\n",
    "A: MLE is method of determining the parameters (mean, std etc.) of normally distributed random sample data or finding probability density function over the random sample data. Tihs is done by maximizing the likelihood function so that pdf is fitted over the random sample. Another way to look at it is the MLE function, it gives the mean, the std of the random sample that is most similar to that of the whole sample. "
   ]
  },
  {
   "cell_type": "markdown",
   "id": "2ca34438",
   "metadata": {},
   "source": []
  }
 ],
 "metadata": {
  "kernelspec": {
   "display_name": "base",
   "language": "python",
   "name": "python3"
  },
  "language_info": {
   "codemirror_mode": {
    "name": "ipython",
    "version": 3
   },
   "file_extension": ".py",
   "mimetype": "text/x-python",
   "name": "python",
   "nbconvert_exporter": "python",
   "pygments_lexer": "ipython3",
   "version": "3.13.2"
  }
 },
 "nbformat": 4,
 "nbformat_minor": 5
}
