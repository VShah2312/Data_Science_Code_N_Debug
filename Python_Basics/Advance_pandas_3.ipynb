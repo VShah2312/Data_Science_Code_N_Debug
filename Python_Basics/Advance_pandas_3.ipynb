{
 "cells": [
  {
   "cell_type": "code",
   "execution_count": 3,
   "id": "2b65f97d",
   "metadata": {},
   "outputs": [
    {
     "name": "stdout",
     "output_type": "stream",
     "text": [
      "2.3.0\n"
     ]
    }
   ],
   "source": [
    "import pandas as pd\n",
    "print(pd.__version__)\n"
   ]
  },
  {
   "cell_type": "code",
   "execution_count": 4,
   "id": "b96a8d3d",
   "metadata": {},
   "outputs": [],
   "source": [
    "import pandas as pd\n",
    "import numpy as np\n",
    "import seaborn as sns"
   ]
  },
  {
   "cell_type": "markdown",
   "id": "bd9225d1",
   "metadata": {},
   "source": [
    "### Pivot: Only used on categorical columns."
   ]
  },
  {
   "cell_type": "code",
   "execution_count": 5,
   "id": "8765847e",
   "metadata": {},
   "outputs": [
    {
     "data": {
      "text/html": [
       "<div>\n",
       "<style scoped>\n",
       "    .dataframe tbody tr th:only-of-type {\n",
       "        vertical-align: middle;\n",
       "    }\n",
       "\n",
       "    .dataframe tbody tr th {\n",
       "        vertical-align: top;\n",
       "    }\n",
       "\n",
       "    .dataframe thead th {\n",
       "        text-align: right;\n",
       "    }\n",
       "</style>\n",
       "<table border=\"1\" class=\"dataframe\">\n",
       "  <thead>\n",
       "    <tr style=\"text-align: right;\">\n",
       "      <th></th>\n",
       "      <th>total_bill</th>\n",
       "      <th>tip</th>\n",
       "      <th>sex</th>\n",
       "      <th>smoker</th>\n",
       "      <th>day</th>\n",
       "      <th>time</th>\n",
       "      <th>size</th>\n",
       "    </tr>\n",
       "  </thead>\n",
       "  <tbody>\n",
       "    <tr>\n",
       "      <th>0</th>\n",
       "      <td>16.99</td>\n",
       "      <td>1.01</td>\n",
       "      <td>Female</td>\n",
       "      <td>No</td>\n",
       "      <td>Sun</td>\n",
       "      <td>Dinner</td>\n",
       "      <td>2</td>\n",
       "    </tr>\n",
       "    <tr>\n",
       "      <th>1</th>\n",
       "      <td>10.34</td>\n",
       "      <td>1.66</td>\n",
       "      <td>Male</td>\n",
       "      <td>No</td>\n",
       "      <td>Sun</td>\n",
       "      <td>Dinner</td>\n",
       "      <td>3</td>\n",
       "    </tr>\n",
       "    <tr>\n",
       "      <th>2</th>\n",
       "      <td>21.01</td>\n",
       "      <td>3.50</td>\n",
       "      <td>Male</td>\n",
       "      <td>No</td>\n",
       "      <td>Sun</td>\n",
       "      <td>Dinner</td>\n",
       "      <td>3</td>\n",
       "    </tr>\n",
       "    <tr>\n",
       "      <th>3</th>\n",
       "      <td>23.68</td>\n",
       "      <td>3.31</td>\n",
       "      <td>Male</td>\n",
       "      <td>No</td>\n",
       "      <td>Sun</td>\n",
       "      <td>Dinner</td>\n",
       "      <td>2</td>\n",
       "    </tr>\n",
       "    <tr>\n",
       "      <th>4</th>\n",
       "      <td>24.59</td>\n",
       "      <td>3.61</td>\n",
       "      <td>Female</td>\n",
       "      <td>No</td>\n",
       "      <td>Sun</td>\n",
       "      <td>Dinner</td>\n",
       "      <td>4</td>\n",
       "    </tr>\n",
       "  </tbody>\n",
       "</table>\n",
       "</div>"
      ],
      "text/plain": [
       "   total_bill   tip     sex smoker  day    time  size\n",
       "0       16.99  1.01  Female     No  Sun  Dinner     2\n",
       "1       10.34  1.66    Male     No  Sun  Dinner     3\n",
       "2       21.01  3.50    Male     No  Sun  Dinner     3\n",
       "3       23.68  3.31    Male     No  Sun  Dinner     2\n",
       "4       24.59  3.61  Female     No  Sun  Dinner     4"
      ]
     },
     "execution_count": 5,
     "metadata": {},
     "output_type": "execute_result"
    }
   ],
   "source": [
    "df= sns.load_dataset(\"tips\")\n",
    "df.head()"
   ]
  },
  {
   "cell_type": "code",
   "execution_count": 6,
   "id": "1e9facea",
   "metadata": {},
   "outputs": [
    {
     "name": "stderr",
     "output_type": "stream",
     "text": [
      "/var/folders/xw/_lnfz_x56cn_zn8_slshkwp80000gn/T/ipykernel_2510/1771901760.py:2: FutureWarning: The default of observed=False is deprecated and will be changed to True in a future version of pandas. Pass observed=False to retain current behavior or observed=True to adopt the future default and silence this warning.\n",
      "  df.groupby('sex')['total_bill'].mean()\n"
     ]
    },
    {
     "data": {
      "text/plain": [
       "sex\n",
       "Male      20.744076\n",
       "Female    18.056897\n",
       "Name: total_bill, dtype: float64"
      ]
     },
     "execution_count": 6,
     "metadata": {},
     "output_type": "execute_result"
    }
   ],
   "source": [
    "# Question: What is the total avg bill for each gender?\n",
    "df.groupby('sex')['total_bill'].mean()"
   ]
  },
  {
   "cell_type": "code",
   "execution_count": 7,
   "id": "5af040fb",
   "metadata": {},
   "outputs": [
    {
     "name": "stderr",
     "output_type": "stream",
     "text": [
      "/var/folders/xw/_lnfz_x56cn_zn8_slshkwp80000gn/T/ipykernel_2510/3912945094.py:2: FutureWarning: The default of observed=False is deprecated and will be changed to True in a future version of pandas. Pass observed=False to retain current behavior or observed=True to adopt the future default and silence this warning.\n",
      "  df.groupby(['sex','smoker'])['total_bill'].mean()\n"
     ]
    },
    {
     "data": {
      "text/plain": [
       "sex     smoker\n",
       "Male    Yes       22.284500\n",
       "        No        19.791237\n",
       "Female  Yes       17.977879\n",
       "        No        18.105185\n",
       "Name: total_bill, dtype: float64"
      ]
     },
     "execution_count": 7,
     "metadata": {},
     "output_type": "execute_result"
    }
   ],
   "source": [
    "# Question: What is the total avg bill for each gender and smoking (M smoking, M non-smoking , etc)?\n",
    "df.groupby(['sex','smoker'])['total_bill'].mean()"
   ]
  },
  {
   "cell_type": "code",
   "execution_count": 8,
   "id": "8dd83c20",
   "metadata": {},
   "outputs": [
    {
     "name": "stderr",
     "output_type": "stream",
     "text": [
      "/var/folders/xw/_lnfz_x56cn_zn8_slshkwp80000gn/T/ipykernel_2510/2279680371.py:1: FutureWarning: The default of observed=False is deprecated and will be changed to True in a future version of pandas. Pass observed=False to retain current behavior or observed=True to adopt the future default and silence this warning.\n",
      "  df.groupby(['sex','smoker'])['total_bill'].mean().unstack()\n"
     ]
    },
    {
     "data": {
      "text/html": [
       "<div>\n",
       "<style scoped>\n",
       "    .dataframe tbody tr th:only-of-type {\n",
       "        vertical-align: middle;\n",
       "    }\n",
       "\n",
       "    .dataframe tbody tr th {\n",
       "        vertical-align: top;\n",
       "    }\n",
       "\n",
       "    .dataframe thead th {\n",
       "        text-align: right;\n",
       "    }\n",
       "</style>\n",
       "<table border=\"1\" class=\"dataframe\">\n",
       "  <thead>\n",
       "    <tr style=\"text-align: right;\">\n",
       "      <th>smoker</th>\n",
       "      <th>Yes</th>\n",
       "      <th>No</th>\n",
       "    </tr>\n",
       "    <tr>\n",
       "      <th>sex</th>\n",
       "      <th></th>\n",
       "      <th></th>\n",
       "    </tr>\n",
       "  </thead>\n",
       "  <tbody>\n",
       "    <tr>\n",
       "      <th>Male</th>\n",
       "      <td>22.284500</td>\n",
       "      <td>19.791237</td>\n",
       "    </tr>\n",
       "    <tr>\n",
       "      <th>Female</th>\n",
       "      <td>17.977879</td>\n",
       "      <td>18.105185</td>\n",
       "    </tr>\n",
       "  </tbody>\n",
       "</table>\n",
       "</div>"
      ],
      "text/plain": [
       "smoker        Yes         No\n",
       "sex                         \n",
       "Male    22.284500  19.791237\n",
       "Female  17.977879  18.105185"
      ]
     },
     "execution_count": 8,
     "metadata": {},
     "output_type": "execute_result"
    }
   ],
   "source": [
    "df.groupby(['sex','smoker'])['total_bill'].mean().unstack()"
   ]
  },
  {
   "cell_type": "code",
   "execution_count": null,
   "id": "a9e3c91a",
   "metadata": {},
   "outputs": [
    {
     "name": "stderr",
     "output_type": "stream",
     "text": [
      "/var/folders/xw/_lnfz_x56cn_zn8_slshkwp80000gn/T/ipykernel_2416/1226227100.py:3: FutureWarning: The default value of observed=False is deprecated and will change to observed=True in a future version of pandas. Specify observed=False to silence this warning and retain the current behavior\n",
      "  df.pivot_table(index= 'sex', columns='smoker', values='total_bill')\n"
     ]
    },
    {
     "data": {
      "text/html": [
       "<div>\n",
       "<style scoped>\n",
       "    .dataframe tbody tr th:only-of-type {\n",
       "        vertical-align: middle;\n",
       "    }\n",
       "\n",
       "    .dataframe tbody tr th {\n",
       "        vertical-align: top;\n",
       "    }\n",
       "\n",
       "    .dataframe thead th {\n",
       "        text-align: right;\n",
       "    }\n",
       "</style>\n",
       "<table border=\"1\" class=\"dataframe\">\n",
       "  <thead>\n",
       "    <tr style=\"text-align: right;\">\n",
       "      <th>smoker</th>\n",
       "      <th>Yes</th>\n",
       "      <th>No</th>\n",
       "    </tr>\n",
       "    <tr>\n",
       "      <th>sex</th>\n",
       "      <th></th>\n",
       "      <th></th>\n",
       "    </tr>\n",
       "  </thead>\n",
       "  <tbody>\n",
       "    <tr>\n",
       "      <th>Male</th>\n",
       "      <td>22.284500</td>\n",
       "      <td>19.791237</td>\n",
       "    </tr>\n",
       "    <tr>\n",
       "      <th>Female</th>\n",
       "      <td>17.977879</td>\n",
       "      <td>18.105185</td>\n",
       "    </tr>\n",
       "  </tbody>\n",
       "</table>\n",
       "</div>"
      ],
      "text/plain": [
       "smoker        Yes         No\n",
       "sex                         \n",
       "Male    22.284500  19.791237\n",
       "Female  17.977879  18.105185"
      ]
     },
     "execution_count": 15,
     "metadata": {},
     "output_type": "execute_result"
    }
   ],
   "source": [
    "# Instead we can use pivot function: \n",
    "df.pivot_table(index= 'sex', columns='smoker', values='total_bill')# default agg func is mean "
   ]
  },
  {
   "cell_type": "code",
   "execution_count": 9,
   "id": "bda06432",
   "metadata": {},
   "outputs": [
    {
     "name": "stderr",
     "output_type": "stream",
     "text": [
      "/var/folders/xw/_lnfz_x56cn_zn8_slshkwp80000gn/T/ipykernel_2510/2958963643.py:1: FutureWarning: The default value of observed=False is deprecated and will change to observed=True in a future version of pandas. Specify observed=False to silence this warning and retain the current behavior\n",
      "  df.pivot_table(index= 'sex', columns='smoker', values='total_bill', aggfunc='sum')\n"
     ]
    },
    {
     "data": {
      "text/html": [
       "<div>\n",
       "<style scoped>\n",
       "    .dataframe tbody tr th:only-of-type {\n",
       "        vertical-align: middle;\n",
       "    }\n",
       "\n",
       "    .dataframe tbody tr th {\n",
       "        vertical-align: top;\n",
       "    }\n",
       "\n",
       "    .dataframe thead th {\n",
       "        text-align: right;\n",
       "    }\n",
       "</style>\n",
       "<table border=\"1\" class=\"dataframe\">\n",
       "  <thead>\n",
       "    <tr style=\"text-align: right;\">\n",
       "      <th>smoker</th>\n",
       "      <th>Yes</th>\n",
       "      <th>No</th>\n",
       "    </tr>\n",
       "    <tr>\n",
       "      <th>sex</th>\n",
       "      <th></th>\n",
       "      <th></th>\n",
       "    </tr>\n",
       "  </thead>\n",
       "  <tbody>\n",
       "    <tr>\n",
       "      <th>Male</th>\n",
       "      <td>1337.07</td>\n",
       "      <td>1919.75</td>\n",
       "    </tr>\n",
       "    <tr>\n",
       "      <th>Female</th>\n",
       "      <td>593.27</td>\n",
       "      <td>977.68</td>\n",
       "    </tr>\n",
       "  </tbody>\n",
       "</table>\n",
       "</div>"
      ],
      "text/plain": [
       "smoker      Yes       No\n",
       "sex                     \n",
       "Male    1337.07  1919.75\n",
       "Female   593.27   977.68"
      ]
     },
     "execution_count": 9,
     "metadata": {},
     "output_type": "execute_result"
    }
   ],
   "source": [
    "df.pivot_table(index= 'sex', columns='smoker', values='total_bill', aggfunc='sum')"
   ]
  },
  {
   "cell_type": "code",
   "execution_count": 16,
   "id": "5e8460fd",
   "metadata": {},
   "outputs": [
    {
     "name": "stderr",
     "output_type": "stream",
     "text": [
      "/var/folders/xw/_lnfz_x56cn_zn8_slshkwp80000gn/T/ipykernel_2510/878825490.py:3: FutureWarning: The default value of observed=False is deprecated and will change to observed=True in a future version of pandas. Specify observed=False to silence this warning and retain the current behavior\n",
      "  df_1.pivot_table(index='sex', columns='smoker')\n",
      "/var/folders/xw/_lnfz_x56cn_zn8_slshkwp80000gn/T/ipykernel_2510/878825490.py:6: FutureWarning: The default value of observed=False is deprecated and will change to observed=True in a future version of pandas. Specify observed=False to silence this warning and retain the current behavior\n",
      "  df_1.pivot_table(index='sex', columns='smoker')['tip']\n",
      "/var/folders/xw/_lnfz_x56cn_zn8_slshkwp80000gn/T/ipykernel_2510/878825490.py:8: FutureWarning: The default value of observed=False is deprecated and will change to observed=True in a future version of pandas. Specify observed=False to silence this warning and retain the current behavior\n",
      "  df_1.pivot_table(index='sex', columns='smoker')['size']\n"
     ]
    },
    {
     "data": {
      "text/html": [
       "<div>\n",
       "<style scoped>\n",
       "    .dataframe tbody tr th:only-of-type {\n",
       "        vertical-align: middle;\n",
       "    }\n",
       "\n",
       "    .dataframe tbody tr th {\n",
       "        vertical-align: top;\n",
       "    }\n",
       "\n",
       "    .dataframe thead th {\n",
       "        text-align: right;\n",
       "    }\n",
       "</style>\n",
       "<table border=\"1\" class=\"dataframe\">\n",
       "  <thead>\n",
       "    <tr style=\"text-align: right;\">\n",
       "      <th>smoker</th>\n",
       "      <th>Yes</th>\n",
       "      <th>No</th>\n",
       "    </tr>\n",
       "    <tr>\n",
       "      <th>sex</th>\n",
       "      <th></th>\n",
       "      <th></th>\n",
       "    </tr>\n",
       "  </thead>\n",
       "  <tbody>\n",
       "    <tr>\n",
       "      <th>Male</th>\n",
       "      <td>2.500000</td>\n",
       "      <td>2.711340</td>\n",
       "    </tr>\n",
       "    <tr>\n",
       "      <th>Female</th>\n",
       "      <td>2.242424</td>\n",
       "      <td>2.592593</td>\n",
       "    </tr>\n",
       "  </tbody>\n",
       "</table>\n",
       "</div>"
      ],
      "text/plain": [
       "smoker       Yes        No\n",
       "sex                       \n",
       "Male    2.500000  2.711340\n",
       "Female  2.242424  2.592593"
      ]
     },
     "execution_count": 16,
     "metadata": {},
     "output_type": "execute_result"
    }
   ],
   "source": [
    "# What if I want to see all the columns \n",
    "df_1 = pd.concat([df[['sex', 'smoker']], df.select_dtypes(include='number')], axis=1)\n",
    "df_1.pivot_table(index='sex', columns='smoker')\n",
    "\n",
    "# Say if we want to see only tips \n",
    "df_1.pivot_table(index='sex', columns='smoker')['tip']\n",
    "\n",
    "df_1.pivot_table(index='sex', columns='smoker')['size']"
   ]
  },
  {
   "cell_type": "code",
   "execution_count": 30,
   "id": "0a067944",
   "metadata": {},
   "outputs": [
    {
     "name": "stderr",
     "output_type": "stream",
     "text": [
      "/var/folders/xw/_lnfz_x56cn_zn8_slshkwp80000gn/T/ipykernel_2510/3536476480.py:3: FutureWarning: The default value of observed=False is deprecated and will change to observed=True in a future version of pandas. Specify observed=False to silence this warning and retain the current behavior\n",
      "  df1= df.pivot_table(index=['sex','smoker'], columns=['day','time'], values='total_bill')\n"
     ]
    },
    {
     "data": {
      "text/html": [
       "<div>\n",
       "<style scoped>\n",
       "    .dataframe tbody tr th:only-of-type {\n",
       "        vertical-align: middle;\n",
       "    }\n",
       "\n",
       "    .dataframe tbody tr th {\n",
       "        vertical-align: top;\n",
       "    }\n",
       "\n",
       "    .dataframe thead tr th {\n",
       "        text-align: left;\n",
       "    }\n",
       "\n",
       "    .dataframe thead tr:last-of-type th {\n",
       "        text-align: right;\n",
       "    }\n",
       "</style>\n",
       "<table border=\"1\" class=\"dataframe\">\n",
       "  <thead>\n",
       "    <tr>\n",
       "      <th></th>\n",
       "      <th>day</th>\n",
       "      <th colspan=\"2\" halign=\"left\">Thur</th>\n",
       "      <th colspan=\"2\" halign=\"left\">Fri</th>\n",
       "      <th>Sat</th>\n",
       "      <th>Sun</th>\n",
       "    </tr>\n",
       "    <tr>\n",
       "      <th></th>\n",
       "      <th>time</th>\n",
       "      <th>Lunch</th>\n",
       "      <th>Dinner</th>\n",
       "      <th>Lunch</th>\n",
       "      <th>Dinner</th>\n",
       "      <th>Dinner</th>\n",
       "      <th>Dinner</th>\n",
       "    </tr>\n",
       "    <tr>\n",
       "      <th>sex</th>\n",
       "      <th>smoker</th>\n",
       "      <th></th>\n",
       "      <th></th>\n",
       "      <th></th>\n",
       "      <th></th>\n",
       "      <th></th>\n",
       "      <th></th>\n",
       "    </tr>\n",
       "  </thead>\n",
       "  <tbody>\n",
       "    <tr>\n",
       "      <th rowspan=\"2\" valign=\"top\">Male</th>\n",
       "      <th>Yes</th>\n",
       "      <td>19.171000</td>\n",
       "      <td>NaN</td>\n",
       "      <td>11.386667</td>\n",
       "      <td>25.892</td>\n",
       "      <td>21.837778</td>\n",
       "      <td>26.141333</td>\n",
       "    </tr>\n",
       "    <tr>\n",
       "      <th>No</th>\n",
       "      <td>18.486500</td>\n",
       "      <td>NaN</td>\n",
       "      <td>NaN</td>\n",
       "      <td>17.475</td>\n",
       "      <td>19.929063</td>\n",
       "      <td>20.403256</td>\n",
       "    </tr>\n",
       "    <tr>\n",
       "      <th rowspan=\"2\" valign=\"top\">Female</th>\n",
       "      <th>Yes</th>\n",
       "      <td>19.218571</td>\n",
       "      <td>NaN</td>\n",
       "      <td>13.260000</td>\n",
       "      <td>12.200</td>\n",
       "      <td>20.266667</td>\n",
       "      <td>16.540000</td>\n",
       "    </tr>\n",
       "    <tr>\n",
       "      <th>No</th>\n",
       "      <td>15.899167</td>\n",
       "      <td>18.78</td>\n",
       "      <td>15.980000</td>\n",
       "      <td>22.750</td>\n",
       "      <td>19.003846</td>\n",
       "      <td>20.824286</td>\n",
       "    </tr>\n",
       "  </tbody>\n",
       "</table>\n",
       "</div>"
      ],
      "text/plain": [
       "day                 Thur               Fri                Sat        Sun\n",
       "time               Lunch Dinner      Lunch  Dinner     Dinner     Dinner\n",
       "sex    smoker                                                           \n",
       "Male   Yes     19.171000    NaN  11.386667  25.892  21.837778  26.141333\n",
       "       No      18.486500    NaN        NaN  17.475  19.929063  20.403256\n",
       "Female Yes     19.218571    NaN  13.260000  12.200  20.266667  16.540000\n",
       "       No      15.899167  18.78  15.980000  22.750  19.003846  20.824286"
      ]
     },
     "execution_count": 30,
     "metadata": {},
     "output_type": "execute_result"
    }
   ],
   "source": [
    "# Multi dimension \n",
    "\n",
    "df1= df.pivot_table(index=['sex','smoker'], columns=['day','time'], values='total_bill')\n",
    "df1"
   ]
  },
  {
   "cell_type": "code",
   "execution_count": 35,
   "id": "41906461",
   "metadata": {},
   "outputs": [
    {
     "data": {
      "text/plain": [
       "np.float64(11.386666666666665)"
      ]
     },
     "execution_count": 35,
     "metadata": {},
     "output_type": "execute_result"
    }
   ],
   "source": [
    "# Male -> Smoker -> Friday -> Lunch\n",
    "df1.loc[('Male','Yes'),('Fri','Lunch')]"
   ]
  },
  {
   "cell_type": "code",
   "execution_count": null,
   "id": "19f1ba8e",
   "metadata": {},
   "outputs": [
    {
     "name": "stderr",
     "output_type": "stream",
     "text": [
      "/var/folders/xw/_lnfz_x56cn_zn8_slshkwp80000gn/T/ipykernel_2510/202467503.py:1: FutureWarning: The default value of observed=False is deprecated and will change to observed=True in a future version of pandas. Specify observed=False to silence this warning and retain the current behavior\n",
      "  df2= df.pivot_table(index=['sex','smoker'], columns=['day','time'], aggfunc={'total_bill':'sum',\n"
     ]
    },
    {
     "data": {
      "text/html": [
       "<div>\n",
       "<style scoped>\n",
       "    .dataframe tbody tr th:only-of-type {\n",
       "        vertical-align: middle;\n",
       "    }\n",
       "\n",
       "    .dataframe tbody tr th {\n",
       "        vertical-align: top;\n",
       "    }\n",
       "\n",
       "    .dataframe thead tr th {\n",
       "        text-align: left;\n",
       "    }\n",
       "\n",
       "    .dataframe thead tr:last-of-type th {\n",
       "        text-align: right;\n",
       "    }\n",
       "</style>\n",
       "<table border=\"1\" class=\"dataframe\">\n",
       "  <thead>\n",
       "    <tr>\n",
       "      <th></th>\n",
       "      <th></th>\n",
       "      <th colspan=\"6\" halign=\"left\">size</th>\n",
       "      <th colspan=\"6\" halign=\"left\">tip</th>\n",
       "      <th colspan=\"8\" halign=\"left\">total_bill</th>\n",
       "    </tr>\n",
       "    <tr>\n",
       "      <th></th>\n",
       "      <th>day</th>\n",
       "      <th colspan=\"2\" halign=\"left\">Thur</th>\n",
       "      <th colspan=\"2\" halign=\"left\">Fri</th>\n",
       "      <th>Sat</th>\n",
       "      <th>Sun</th>\n",
       "      <th colspan=\"2\" halign=\"left\">Thur</th>\n",
       "      <th colspan=\"2\" halign=\"left\">Fri</th>\n",
       "      <th>Sat</th>\n",
       "      <th>Sun</th>\n",
       "      <th colspan=\"2\" halign=\"left\">Thur</th>\n",
       "      <th colspan=\"2\" halign=\"left\">Fri</th>\n",
       "      <th colspan=\"2\" halign=\"left\">Sat</th>\n",
       "      <th colspan=\"2\" halign=\"left\">Sun</th>\n",
       "    </tr>\n",
       "    <tr>\n",
       "      <th></th>\n",
       "      <th>time</th>\n",
       "      <th>Lunch</th>\n",
       "      <th>Dinner</th>\n",
       "      <th>Lunch</th>\n",
       "      <th>Dinner</th>\n",
       "      <th>Dinner</th>\n",
       "      <th>Dinner</th>\n",
       "      <th>Lunch</th>\n",
       "      <th>Dinner</th>\n",
       "      <th>Lunch</th>\n",
       "      <th>Dinner</th>\n",
       "      <th>Dinner</th>\n",
       "      <th>Dinner</th>\n",
       "      <th>Lunch</th>\n",
       "      <th>Dinner</th>\n",
       "      <th>Lunch</th>\n",
       "      <th>Dinner</th>\n",
       "      <th>Lunch</th>\n",
       "      <th>Dinner</th>\n",
       "      <th>Lunch</th>\n",
       "      <th>Dinner</th>\n",
       "    </tr>\n",
       "    <tr>\n",
       "      <th>sex</th>\n",
       "      <th>smoker</th>\n",
       "      <th></th>\n",
       "      <th></th>\n",
       "      <th></th>\n",
       "      <th></th>\n",
       "      <th></th>\n",
       "      <th></th>\n",
       "      <th></th>\n",
       "      <th></th>\n",
       "      <th></th>\n",
       "      <th></th>\n",
       "      <th></th>\n",
       "      <th></th>\n",
       "      <th></th>\n",
       "      <th></th>\n",
       "      <th></th>\n",
       "      <th></th>\n",
       "      <th></th>\n",
       "      <th></th>\n",
       "      <th></th>\n",
       "      <th></th>\n",
       "    </tr>\n",
       "  </thead>\n",
       "  <tbody>\n",
       "    <tr>\n",
       "      <th rowspan=\"2\" valign=\"top\">Male</th>\n",
       "      <th>Yes</th>\n",
       "      <td>2.300000</td>\n",
       "      <td>NaN</td>\n",
       "      <td>1.666667</td>\n",
       "      <td>2.4</td>\n",
       "      <td>2.629630</td>\n",
       "      <td>2.600000</td>\n",
       "      <td>5.00</td>\n",
       "      <td>NaN</td>\n",
       "      <td>2.20</td>\n",
       "      <td>4.73</td>\n",
       "      <td>10.00</td>\n",
       "      <td>6.5</td>\n",
       "      <td>191.71</td>\n",
       "      <td>0.00</td>\n",
       "      <td>34.16</td>\n",
       "      <td>129.46</td>\n",
       "      <td>0.0</td>\n",
       "      <td>589.62</td>\n",
       "      <td>0.0</td>\n",
       "      <td>392.12</td>\n",
       "    </tr>\n",
       "    <tr>\n",
       "      <th>No</th>\n",
       "      <td>2.500000</td>\n",
       "      <td>NaN</td>\n",
       "      <td>NaN</td>\n",
       "      <td>2.0</td>\n",
       "      <td>2.656250</td>\n",
       "      <td>2.883721</td>\n",
       "      <td>6.70</td>\n",
       "      <td>NaN</td>\n",
       "      <td>NaN</td>\n",
       "      <td>3.50</td>\n",
       "      <td>9.00</td>\n",
       "      <td>6.0</td>\n",
       "      <td>369.73</td>\n",
       "      <td>0.00</td>\n",
       "      <td>0.00</td>\n",
       "      <td>34.95</td>\n",
       "      <td>0.0</td>\n",
       "      <td>637.73</td>\n",
       "      <td>0.0</td>\n",
       "      <td>877.34</td>\n",
       "    </tr>\n",
       "    <tr>\n",
       "      <th rowspan=\"2\" valign=\"top\">Female</th>\n",
       "      <th>Yes</th>\n",
       "      <td>2.428571</td>\n",
       "      <td>NaN</td>\n",
       "      <td>2.000000</td>\n",
       "      <td>2.0</td>\n",
       "      <td>2.200000</td>\n",
       "      <td>2.500000</td>\n",
       "      <td>5.00</td>\n",
       "      <td>NaN</td>\n",
       "      <td>3.48</td>\n",
       "      <td>4.30</td>\n",
       "      <td>6.50</td>\n",
       "      <td>4.0</td>\n",
       "      <td>134.53</td>\n",
       "      <td>0.00</td>\n",
       "      <td>39.78</td>\n",
       "      <td>48.80</td>\n",
       "      <td>0.0</td>\n",
       "      <td>304.00</td>\n",
       "      <td>0.0</td>\n",
       "      <td>66.16</td>\n",
       "    </tr>\n",
       "    <tr>\n",
       "      <th>No</th>\n",
       "      <td>2.500000</td>\n",
       "      <td>2.0</td>\n",
       "      <td>3.000000</td>\n",
       "      <td>2.0</td>\n",
       "      <td>2.307692</td>\n",
       "      <td>3.071429</td>\n",
       "      <td>5.17</td>\n",
       "      <td>3.0</td>\n",
       "      <td>3.00</td>\n",
       "      <td>3.25</td>\n",
       "      <td>4.67</td>\n",
       "      <td>5.2</td>\n",
       "      <td>381.58</td>\n",
       "      <td>18.78</td>\n",
       "      <td>15.98</td>\n",
       "      <td>22.75</td>\n",
       "      <td>0.0</td>\n",
       "      <td>247.05</td>\n",
       "      <td>0.0</td>\n",
       "      <td>291.54</td>\n",
       "    </tr>\n",
       "  </tbody>\n",
       "</table>\n",
       "</div>"
      ],
      "text/plain": [
       "                   size                                               tip  \\\n",
       "day                Thur              Fri              Sat       Sun  Thur   \n",
       "time              Lunch Dinner     Lunch Dinner    Dinner    Dinner Lunch   \n",
       "sex    smoker                                                               \n",
       "Male   Yes     2.300000    NaN  1.666667    2.4  2.629630  2.600000  5.00   \n",
       "       No      2.500000    NaN       NaN    2.0  2.656250  2.883721  6.70   \n",
       "Female Yes     2.428571    NaN  2.000000    2.0  2.200000  2.500000  5.00   \n",
       "       No      2.500000    2.0  3.000000    2.0  2.307692  3.071429  5.17   \n",
       "\n",
       "                                                total_bill                \\\n",
       "day                    Fri           Sat    Sun       Thur           Fri   \n",
       "time          Dinner Lunch Dinner Dinner Dinner      Lunch Dinner  Lunch   \n",
       "sex    smoker                                                              \n",
       "Male   Yes       NaN  2.20   4.73  10.00    6.5     191.71   0.00  34.16   \n",
       "       No        NaN   NaN   3.50   9.00    6.0     369.73   0.00   0.00   \n",
       "Female Yes       NaN  3.48   4.30   6.50    4.0     134.53   0.00  39.78   \n",
       "       No        3.0  3.00   3.25   4.67    5.2     381.58  18.78  15.98   \n",
       "\n",
       "                                                   \n",
       "day                     Sat           Sun          \n",
       "time           Dinner Lunch  Dinner Lunch  Dinner  \n",
       "sex    smoker                                      \n",
       "Male   Yes     129.46   0.0  589.62   0.0  392.12  \n",
       "       No       34.95   0.0  637.73   0.0  877.34  \n",
       "Female Yes      48.80   0.0  304.00   0.0   66.16  \n",
       "       No       22.75   0.0  247.05   0.0  291.54  "
      ]
     },
     "execution_count": 37,
     "metadata": {},
     "output_type": "execute_result"
    }
   ],
   "source": [
    "# Multi indexing:\n",
    "df2= df.pivot_table(index=['sex','smoker'], columns=['day','time'], aggfunc={'total_bill':'sum', \n",
    "                                                                        'size':'mean',\n",
    "                                                                        'tip':'max'})\n",
    "\n",
    "df2"
   ]
  },
  {
   "cell_type": "code",
   "execution_count": null,
   "id": "6a6dd261",
   "metadata": {},
   "outputs": [],
   "source": []
  }
 ],
 "metadata": {
  "kernelspec": {
   "display_name": "base",
   "language": "python",
   "name": "python3"
  },
  "language_info": {
   "codemirror_mode": {
    "name": "ipython",
    "version": 3
   },
   "file_extension": ".py",
   "mimetype": "text/x-python",
   "name": "python",
   "nbconvert_exporter": "python",
   "pygments_lexer": "ipython3",
   "version": "3.13.2"
  }
 },
 "nbformat": 4,
 "nbformat_minor": 5
}
