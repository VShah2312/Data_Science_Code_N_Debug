{
 "cells": [
  {
   "cell_type": "markdown",
   "id": "a71b57ef",
   "metadata": {},
   "source": [
    "### What is Pandas\n",
    "\n",
    "Pandas is a fast, powerful, flexible and easy to use open source data analysis and manipulation tool,\n",
    "built on top of the Python programming language.\n",
    "\n",
    "https://pandas.pydata.org/about/index.html"
   ]
  },
  {
   "cell_type": "markdown",
   "id": "9e71d177",
   "metadata": {},
   "source": [
    "### Pandas Series\n",
    "\n",
    "A Pandas Series is like a column in a table. It is a 1-D array holding data of any type."
   ]
  },
  {
   "cell_type": "code",
   "execution_count": null,
   "id": "0d257d18",
   "metadata": {},
   "outputs": [],
   "source": [
    "# install pandas\n",
    "!pip install pandas"
   ]
  },
  {
   "cell_type": "markdown",
   "id": "7a05ab2b",
   "metadata": {},
   "source": [
    "### DATA\n",
    "NAME -> Series \n",
    "\n",
    "AGE -> Series \n",
    "\n",
    "NAME | AGE | MARKS | IQ  -> Data Frame (group of series)"
   ]
  },
  {
   "cell_type": "markdown",
   "id": "9d7abe79",
   "metadata": {},
   "source": []
  },
  {
   "cell_type": "code",
   "execution_count": 8,
   "id": "18004d6e",
   "metadata": {},
   "outputs": [],
   "source": [
    "# importing pandas\n",
    "import pandas as pd\n",
    "import numpy as np"
   ]
  },
  {
   "cell_type": "markdown",
   "id": "c5f1ac80",
   "metadata": {},
   "source": [
    "### Series from List"
   ]
  },
  {
   "cell_type": "code",
   "execution_count": null,
   "id": "822a5998",
   "metadata": {},
   "outputs": [
    {
     "data": {
      "text/plain": [
       "0    India\n",
       "1    Nepal\n",
       "2      USA\n",
       "dtype: object"
      ]
     },
     "execution_count": 3,
     "metadata": {},
     "output_type": "execute_result"
    }
   ],
   "source": [
    "# String\n",
    "country= ['India', 'Nepal', 'USA']\n",
    "\n",
    "pd.Series(country)"
   ]
  },
  {
   "cell_type": "code",
   "execution_count": null,
   "id": "09dfc53e",
   "metadata": {},
   "outputs": [
    {
     "data": {
      "text/plain": [
       "0    61\n",
       "1    51\n",
       "2    26\n",
       "3    34\n",
       "4    16\n",
       "dtype: int32"
      ]
     },
     "execution_count": 9,
     "metadata": {},
     "output_type": "execute_result"
    }
   ],
   "source": [
    "# Integer:\n",
    "runs =(61,51,26,34,16)\n",
    "pd.Series(runs) # default for int is int64\n",
    "\n",
    "pd.Series(runs, dtype=np.int32) # now this will have data type of int32\n",
    "\n",
    "# As we didnt define the index, so default is 0,1,2...."
   ]
  },
  {
   "cell_type": "code",
   "execution_count": 14,
   "id": "61fbbef9",
   "metadata": {},
   "outputs": [
    {
     "name": "stdout",
     "output_type": "stream",
     "text": [
      "maths         67\n",
      "english       26\n",
      "hindi         56\n",
      "bio           78\n",
      "chemistry    100\n",
      "dtype: int64\n",
      "\n",
      "67         maths\n",
      "26       english\n",
      "56         hindi\n",
      "78           bio\n",
      "100    chemistry\n",
      "dtype: object\n"
     ]
    }
   ],
   "source": [
    "# Custom index: \n",
    "marks = [67, 26, 56, 78, 100]\n",
    "subjects = [\"maths\", \"english\", \"hindi\", \"bio\", \"chemistry\"]\n",
    "\n",
    "print(pd.Series(marks, index=subjects))\n",
    "print()\n",
    "print(pd.Series(subjects, index=marks))"
   ]
  },
  {
   "cell_type": "code",
   "execution_count": 15,
   "id": "9a740bae",
   "metadata": {},
   "outputs": [
    {
     "data": {
      "text/plain": [
       "maths         67\n",
       "english       26\n",
       "hindi         56\n",
       "bio           78\n",
       "chemistry    100\n",
       "Name: Vrunda ke marks, dtype: int64"
      ]
     },
     "execution_count": 15,
     "metadata": {},
     "output_type": "execute_result"
    }
   ],
   "source": [
    "# setting the name\n",
    "\n",
    "marks = [67, 26, 56, 78, 100]\n",
    "subjects = [\"maths\", \"english\", \"hindi\", \"bio\", \"chemistry\"]\n",
    "\n",
    "pd.Series(marks, index=subjects, name=\"Vrunda ke marks\")"
   ]
  },
  {
   "cell_type": "markdown",
   "id": "f11403bd",
   "metadata": {},
   "source": [
    "### Series from Dictionary"
   ]
  },
  {
   "cell_type": "code",
   "execution_count": 27,
   "id": "85a4739d",
   "metadata": {},
   "outputs": [
    {
     "name": "stdout",
     "output_type": "stream",
     "text": [
      "maths      67\n",
      "english    57\n",
      "science    78\n",
      "hindi      67\n",
      "Name: Afsan ke marks, dtype: int64\n"
     ]
    }
   ],
   "source": [
    "marks = {\n",
    "    \"maths\" : 67,\n",
    "    \"english\" : 57,\n",
    "    \"science\" : 78,\n",
    "    \"hindi\" : 67\n",
    "}\n",
    "marks_ser = pd.Series(marks, name=\"Afsan ke marks\")\n",
    "print(marks_ser)"
   ]
  },
  {
   "cell_type": "markdown",
   "id": "98c329a7",
   "metadata": {},
   "source": [
    "### Series Attributes"
   ]
  },
  {
   "cell_type": "code",
   "execution_count": 18,
   "id": "afb5d3f1",
   "metadata": {},
   "outputs": [
    {
     "data": {
      "text/plain": [
       "4"
      ]
     },
     "execution_count": 18,
     "metadata": {},
     "output_type": "execute_result"
    }
   ],
   "source": [
    "# size: gives us number of data point present in a series. \n",
    "marks_ser.size"
   ]
  },
  {
   "cell_type": "code",
   "execution_count": 22,
   "id": "5eccd1d9",
   "metadata": {},
   "outputs": [
    {
     "data": {
      "text/plain": [
       "dtype('int64')"
      ]
     },
     "execution_count": 22,
     "metadata": {},
     "output_type": "execute_result"
    }
   ],
   "source": [
    "# dtype: gives data type of the series \n",
    "marks_ser.dtype"
   ]
  },
  {
   "cell_type": "code",
   "execution_count": 21,
   "id": "d671b420",
   "metadata": {},
   "outputs": [
    {
     "data": {
      "text/plain": [
       "'Afsan ke marks'"
      ]
     },
     "execution_count": 21,
     "metadata": {},
     "output_type": "execute_result"
    }
   ],
   "source": [
    "# name: gives name of the series \n",
    "marks_ser.name"
   ]
  },
  {
   "cell_type": "code",
   "execution_count": 25,
   "id": "c4356edb",
   "metadata": {},
   "outputs": [
    {
     "name": "stdout",
     "output_type": "stream",
     "text": [
      "True\n"
     ]
    },
    {
     "data": {
      "text/plain": [
       "False"
      ]
     },
     "execution_count": 25,
     "metadata": {},
     "output_type": "execute_result"
    }
   ],
   "source": [
    "# is_unique: tells if all the elements in the series are unique or not. return True or False\n",
    "print(marks_ser.is_unique)\n",
    "k=[1,23,4,42,12,33,23]\n",
    "pd.Series(k).is_unique"
   ]
  },
  {
   "cell_type": "code",
   "execution_count": 26,
   "id": "4de2f3f8",
   "metadata": {},
   "outputs": [
    {
     "data": {
      "text/plain": [
       "Index(['maths', 'english', 'science', 'hindi'], dtype='object')"
      ]
     },
     "execution_count": 26,
     "metadata": {},
     "output_type": "execute_result"
    }
   ],
   "source": [
    "# index: return all the index of the series, note in a series indexes have to be unique. \n",
    "\n",
    "marks_ser.index"
   ]
  },
  {
   "cell_type": "code",
   "execution_count": null,
   "id": "c802fa8b",
   "metadata": {},
   "outputs": [
    {
     "data": {
      "text/plain": [
       "array([67, 57, 78, 67])"
      ]
     },
     "execution_count": 28,
     "metadata": {},
     "output_type": "execute_result"
    }
   ],
   "source": [
    "# values: returns all the value of the series. \n",
    "\n",
    "marks_ser.values"
   ]
  },
  {
   "cell_type": "markdown",
   "id": "ef949460",
   "metadata": {},
   "source": [
    "### Reading series"
   ]
  },
  {
   "cell_type": "code",
   "execution_count": null,
   "id": "f25cab3d",
   "metadata": {},
   "outputs": [],
   "source": []
  }
 ],
 "metadata": {
  "kernelspec": {
   "display_name": "base",
   "language": "python",
   "name": "python3"
  },
  "language_info": {
   "codemirror_mode": {
    "name": "ipython",
    "version": 3
   },
   "file_extension": ".py",
   "mimetype": "text/x-python",
   "name": "python",
   "nbconvert_exporter": "python",
   "pygments_lexer": "ipython3",
   "version": "3.13.2"
  }
 },
 "nbformat": 4,
 "nbformat_minor": 5
}
